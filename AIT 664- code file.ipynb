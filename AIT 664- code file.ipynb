{
 "cells": [
  {
   "cell_type": "code",
   "execution_count": 0,
   "metadata": {
    "application/vnd.databricks.v1+cell": {
     "cellMetadata": {
      "byteLimit": 2048000,
      "rowLimit": 10000
     },
     "inputWidgets": {},
     "nuid": "b87d69fa-376d-4abe-bb8d-ae87b0e0e777",
     "showTitle": false,
     "tableResultSettingsMap": {},
     "title": ""
    }
   },
   "outputs": [
    {
     "output_type": "stream",
     "name": "stdout",
     "output_type": "stream",
     "text": [
      "+---------+------------+----------+-------------------+--------------------+------------------+--------------------+--------------+----------------+-----------------+----------+---------------------+---------------------------+--------------------+--------------------+--------------------+----------------------+---------------------+---------------------+---------------------+\n|UNIQUE_ID|COLLISION_ID|CRASH_DATE|         CRASH_TIME|          VEHICLE_ID|STATE_REGISTRATION|        VEHICLE_TYPE|  VEHICLE_MAKE|TRAVEL_DIRECTION|VEHICLE_OCCUPANTS|DRIVER_SEX|DRIVER_LICENSE_STATUS|DRIVER_LICENSE_JURISDICTION|           PRE_CRASH|     POINT_OF_IMPACT|      VEHICLE_DAMAGE|PUBLIC_PROPERTY_DAMAGE|CONTRIBUTING_FACTOR_1|CONTRIBUTING_FACTOR_2|TRAVEL_DIRECTION_CODE|\n+---------+------------+----------+-------------------+--------------------+------------------+--------------------+--------------+----------------+-----------------+----------+---------------------+---------------------------+--------------------+--------------------+--------------------+----------------------+---------------------+---------------------+---------------------+\n| 19693299|     4322349|2020-06-22|2024-11-18 18:10:00|7675ccbe-68b6-484...|                NY|                 Van|TOYT-TRUCK/BUS|            East|              1.0|         M|             Licensed|                         NY|Going Straight Ahead|    Right Side Doors|    Right Side Doors|                     N|      Other Vehicular|      Other Vehicular|                    3|\n| 19693330|     4322338|2020-06-22|2024-11-18 10:19:00|97331e7e-4d04-40d...|                NY|Station Wagon/Spo...| MERZ -CAR/SUV|           North|              1.0|         M|             Licensed|                         NY|              Parked|   Left Front Bumper|   Left Front Bumper|                     N| Driver Inattentio...|          Unspecified|                    1|\n| 19693538|     4322263|2020-06-22|2024-11-18 11:44:00|a476a608-c32b-435...|                NY|Station Wagon/Spo...| TOYT -CAR/SUV|            East|              1.0|         M|             Licensed|                         NY|    Making Left Turn|    Right Side Doors|    Right Side Doors|                     N| Failure to Yield ...|          Unspecified|                    3|\n| 19693856|     4322497|2020-06-22|2024-11-18 01:30:00|669ca3be-cf2a-401...|                NY|                Taxi| TOYT -CAR/SUV|           North|              1.0|         M|             Licensed|                         NY|Going Straight Ahead|Left Front Quarte...|Left Front Quarte...|                     N|          Unspecified|          Unspecified|                    1|\n| 19693317|     4322245|2020-06-22|2024-11-18 10:00:00|b2a80c17-b76d-4e8...|                NY|                Dump|         BESON|            West|              1.0|         M|             Licensed|                         NY|Going Straight Ahead|   Left Front Bumper|   Left Front Bumper|                     N| Driver Inattentio...|          Unspecified|                    4|\n| 20668499|     4732902|2024-05-21|2024-11-18 08:00:00|efad751c-62c9-418...|                PA|               Sedan|  BMW -CAR/SUV|            West|              1.0|         M|               Permit|                         NJ|    Making Left Turn|Right Rear Quarte...|Right Rear Quarte...|                     N|          Unspecified|          Unspecified|                    4|\n| 19693666|     4322423|2020-06-22|2024-11-18 14:30:00|c3fa4d41-805f-446...|                NJ|Station Wagon/Spo...| CADI -CAR/SUV|           North|              4.0|         M|             Licensed|                         NJ|Going Straight Ahead|     Center Back End|     Center Back End|                     N|      Other Vehicular|      Other Vehicular|                    1|\n| 20666624|     4732250|2024-06-12|2024-11-18 09:39:00|1a811da2-95ab-4ec...|                NY|               Sedan|  BMW -CAR/SUV|           South|              1.0|         M|             Licensed|                         NY|Going Straight Ahead|    Center Front End|    Center Front End|                     N| Pedestrian/Bicycl...|          Unspecified|                    2|\n| 19694499|     4322780|2020-06-06|2024-11-18 12:00:00|227e8966-faff-490...|                NC|Station Wagon/Spo...|  GMC -CAR/SUV|            West|              1.0|         M|             Licensed|                         NC|Going Straight Ahead|    Center Front End|    Center Front End|                     N| Following Too Clo...| Driver Inattentio...|                    4|\n| 20666833|     4732171|2024-06-12|2024-11-18 08:52:00|6e61bd27-29b7-497...|                NY|Station Wagon/Spo...| HYUN -CAR/SUV|           North|              3.0|         F|             Licensed|                         NY|Going Straight Ahead|  Right Front Bumper|  Right Front Bumper|                     N|          Unspecified|          Unspecified|                    1|\n+---------+------------+----------+-------------------+--------------------+------------------+--------------------+--------------+----------------+-----------------+----------+---------------------+---------------------------+--------------------+--------------------+--------------------+----------------------+---------------------+---------------------+---------------------+\nonly showing top 10 rows\n\n"
     ]
    }
   ],
   "source": [
    "# Load the dataset from Databricks table\n",
    "df = spark.table(\"default.filtered_motor_vehicle_collisions_2020_onwards_3_csv\")\n",
    "\n",
    "# Display the first few rows of the dataset\n",
    "df.show(10)\n"
   ]
  },
  {
   "cell_type": "code",
   "execution_count": 0,
   "metadata": {
    "application/vnd.databricks.v1+cell": {
     "cellMetadata": {
      "byteLimit": 2048000,
      "rowLimit": 10000
     },
     "inputWidgets": {},
     "nuid": "f489bc27-1216-4e49-9104-19f7fa968e63",
     "showTitle": false,
     "tableResultSettingsMap": {},
     "title": ""
    }
   },
   "outputs": [
    {
     "output_type": "stream",
     "name": "stdout",
     "output_type": "stream",
     "text": [
      "root\n |-- UNIQUE_ID: integer (nullable = true)\n |-- COLLISION_ID: integer (nullable = true)\n |-- CRASH_DATE: date (nullable = true)\n |-- CRASH_TIME: timestamp (nullable = true)\n |-- VEHICLE_ID: string (nullable = true)\n |-- STATE_REGISTRATION: string (nullable = true)\n |-- VEHICLE_TYPE: string (nullable = true)\n |-- VEHICLE_MAKE: string (nullable = true)\n |-- TRAVEL_DIRECTION: string (nullable = true)\n |-- VEHICLE_OCCUPANTS: double (nullable = true)\n |-- DRIVER_SEX: string (nullable = true)\n |-- DRIVER_LICENSE_STATUS: string (nullable = true)\n |-- DRIVER_LICENSE_JURISDICTION: string (nullable = true)\n |-- PRE_CRASH: string (nullable = true)\n |-- POINT_OF_IMPACT: string (nullable = true)\n |-- VEHICLE_DAMAGE: string (nullable = true)\n |-- PUBLIC_PROPERTY_DAMAGE: string (nullable = true)\n |-- CONTRIBUTING_FACTOR_1: string (nullable = true)\n |-- CONTRIBUTING_FACTOR_2: string (nullable = true)\n |-- TRAVEL_DIRECTION_CODE: integer (nullable = true)\n\n+-------+--------------------+-----------------+--------------------+------------------+-----------------+----------------+----------------+------------------+----------+---------------------+---------------------------+--------------------+---------------+---------------+----------------------+---------------------+---------------------+---------------------+\n|summary|           UNIQUE_ID|     COLLISION_ID|          VEHICLE_ID|STATE_REGISTRATION|     VEHICLE_TYPE|    VEHICLE_MAKE|TRAVEL_DIRECTION| VEHICLE_OCCUPANTS|DRIVER_SEX|DRIVER_LICENSE_STATUS|DRIVER_LICENSE_JURISDICTION|           PRE_CRASH|POINT_OF_IMPACT| VEHICLE_DAMAGE|PUBLIC_PROPERTY_DAMAGE|CONTRIBUTING_FACTOR_1|CONTRIBUTING_FACTOR_2|TRAVEL_DIRECTION_CODE|\n+-------+--------------------+-----------------+--------------------+------------------+-----------------+----------------+----------------+------------------+----------+---------------------+---------------------------+--------------------+---------------+---------------+----------------------+---------------------+---------------------+---------------------+\n|  count|              562566|           562566|              562566|            562566|           562566|          562566|          562566|            562566|    562566|               562566|                     562566|              562566|         562566|         562566|                562566|               562566|               562566|               562566|\n|   mean|2.0151463757016953E7| 4509283.14208644|                null|              null|            300.0|        Infinity|            null|1934.2340134313129|      null|                 null|                       null|                null|           null|           null|                  null|                 null|                 null|   2.3558160286970775|\n| stddev|  354589.04777619586|144703.6078901905|                null|              null|453.8455684481231|             NaN|            null| 1316034.009934405|      null|                 null|                       null|                null|           null|           null|                  null|                 null|                 null|   1.2424062483008995|\n|    min|            19222297|          4063247|0000200d-a2d0-401...|                AB|                .|(1 AXLE TRAILER)|            East|               1.0|         F|             Licensed|                   A,NEJADE|Avoiding Object i...|Center Back End|Center Back End|                     N| Accelerator Defec...| Accelerator Defec...|                    0|\n|    max|            20733873|          4762597|ffffe685-b7fd-402...|                ZZ|       yellow cab|            zstv|            West|      9.81990849E8|         U|           Unlicensed|                        qNY|             Unknown|  Undercarriage|  Undercarriage|                     Y| Windshield Inadeq...| Windshield Inadeq...|                    4|\n+-------+--------------------+-----------------+--------------------+------------------+-----------------+----------------+----------------+------------------+----------+---------------------+---------------------------+--------------------+---------------+---------------+----------------------+---------------------+---------------------+---------------------+\n\n"
     ]
    }
   ],
   "source": [
    "# Print the schema of the dataset\n",
    "df.printSchema()\n",
    "\n",
    "# Display summary statistics\n",
    "df.describe().show()\n"
   ]
  },
  {
   "cell_type": "code",
   "execution_count": 0,
   "metadata": {
    "application/vnd.databricks.v1+cell": {
     "cellMetadata": {
      "byteLimit": 2048000,
      "rowLimit": 10000
     },
     "inputWidgets": {},
     "nuid": "54235335-f3ba-42a0-811a-d53ac44c5f87",
     "showTitle": false,
     "tableResultSettingsMap": {},
     "title": ""
    }
   },
   "outputs": [
    {
     "output_type": "stream",
     "name": "stdout",
     "output_type": "stream",
     "text": [
      "+---------+------------+----------+----------+----------+------------------+------------+------------+----------------+-----------------+----------+---------------------+---------------------------+---------+---------------+--------------+----------------------+---------------------+---------------------+---------------------+\n|UNIQUE_ID|COLLISION_ID|CRASH_DATE|CRASH_TIME|VEHICLE_ID|STATE_REGISTRATION|VEHICLE_TYPE|VEHICLE_MAKE|TRAVEL_DIRECTION|VEHICLE_OCCUPANTS|DRIVER_SEX|DRIVER_LICENSE_STATUS|DRIVER_LICENSE_JURISDICTION|PRE_CRASH|POINT_OF_IMPACT|VEHICLE_DAMAGE|PUBLIC_PROPERTY_DAMAGE|CONTRIBUTING_FACTOR_1|CONTRIBUTING_FACTOR_2|TRAVEL_DIRECTION_CODE|\n+---------+------------+----------+----------+----------+------------------+------------+------------+----------------+-----------------+----------+---------------------+---------------------------+---------+---------------+--------------+----------------------+---------------------+---------------------+---------------------+\n|        0|           0|         0|         0|         0|                 0|           0|           0|               0|                0|         0|                    0|                          0|        0|              0|             0|                     0|                    0|                    0|                    0|\n+---------+------------+----------+----------+----------+------------------+------------+------------+----------------+-----------------+----------+---------------------+---------------------------+---------+---------------+--------------+----------------------+---------------------+---------------------+---------------------+\n\n"
     ]
    }
   ],
   "source": [
    "# Count null values in each column\n",
    "from pyspark.sql.functions import col, sum, when\n",
    "\n",
    "# Generate a DataFrame showing the count of null values for each column\n",
    "null_counts = df.select([(sum(when(col(c).isNull(), 1).otherwise(0))).alias(c) for c in df.columns])\n",
    "\n",
    "# Show the result\n",
    "null_counts.show()\n"
   ]
  },
  {
   "cell_type": "code",
   "execution_count": 0,
   "metadata": {
    "application/vnd.databricks.v1+cell": {
     "cellMetadata": {
      "byteLimit": 2048000,
      "rowLimit": 10000
     },
     "inputWidgets": {},
     "nuid": "abe7be79-f403-42e0-bad7-43a268d299e8",
     "showTitle": false,
     "tableResultSettingsMap": {},
     "title": ""
    }
   },
   "outputs": [
    {
     "output_type": "display_data",
     "data": {
      "text/html": [
       "<div>\n",
       "<style scoped>\n",
       "    .dataframe tbody tr th:only-of-type {\n",
       "        vertical-align: middle;\n",
       "    }\n",
       "\n",
       "    .dataframe tbody tr th {\n",
       "        vertical-align: top;\n",
       "    }\n",
       "\n",
       "    .dataframe thead th {\n",
       "        text-align: right;\n",
       "    }\n",
       "</style>\n",
       "<table border=\"1\" class=\"dataframe\">\n",
       "  <thead>\n",
       "    <tr style=\"text-align: right;\">\n",
       "      <th></th>\n",
       "      <th>UNIQUE_ID</th>\n",
       "      <th>COLLISION_ID</th>\n",
       "      <th>CRASH_DATE</th>\n",
       "      <th>CRASH_TIME</th>\n",
       "      <th>VEHICLE_ID</th>\n",
       "      <th>STATE_REGISTRATION</th>\n",
       "      <th>VEHICLE_TYPE</th>\n",
       "      <th>VEHICLE_MAKE</th>\n",
       "      <th>TRAVEL_DIRECTION</th>\n",
       "      <th>VEHICLE_OCCUPANTS</th>\n",
       "      <th>DRIVER_SEX</th>\n",
       "      <th>DRIVER_LICENSE_STATUS</th>\n",
       "      <th>DRIVER_LICENSE_JURISDICTION</th>\n",
       "      <th>PRE_CRASH</th>\n",
       "      <th>POINT_OF_IMPACT</th>\n",
       "      <th>VEHICLE_DAMAGE</th>\n",
       "      <th>PUBLIC_PROPERTY_DAMAGE</th>\n",
       "      <th>CONTRIBUTING_FACTOR_1</th>\n",
       "      <th>CONTRIBUTING_FACTOR_2</th>\n",
       "      <th>TRAVEL_DIRECTION_CODE</th>\n",
       "    </tr>\n",
       "  </thead>\n",
       "  <tbody>\n",
       "    <tr>\n",
       "      <th>0</th>\n",
       "      <td>19693299</td>\n",
       "      <td>4322349</td>\n",
       "      <td>2020-06-22</td>\n",
       "      <td>2024-11-18 18:10:00</td>\n",
       "      <td>7675ccbe-68b6-4842-8998-ebe005cc0d5d</td>\n",
       "      <td>NY</td>\n",
       "      <td>Van</td>\n",
       "      <td>TOYT-TRUCK/BUS</td>\n",
       "      <td>East</td>\n",
       "      <td>1.0</td>\n",
       "      <td>M</td>\n",
       "      <td>Licensed</td>\n",
       "      <td>NY</td>\n",
       "      <td>Going Straight Ahead</td>\n",
       "      <td>Right Side Doors</td>\n",
       "      <td>Right Side Doors</td>\n",
       "      <td>N</td>\n",
       "      <td>Other Vehicular</td>\n",
       "      <td>Other Vehicular</td>\n",
       "      <td>3</td>\n",
       "    </tr>\n",
       "    <tr>\n",
       "      <th>1</th>\n",
       "      <td>19693330</td>\n",
       "      <td>4322338</td>\n",
       "      <td>2020-06-22</td>\n",
       "      <td>2024-11-18 10:19:00</td>\n",
       "      <td>97331e7e-4d04-40dc-8593-2c0dc0c5b032</td>\n",
       "      <td>NY</td>\n",
       "      <td>Station Wagon/Sport Utility Vehicle</td>\n",
       "      <td>MERZ -CAR/SUV</td>\n",
       "      <td>North</td>\n",
       "      <td>1.0</td>\n",
       "      <td>M</td>\n",
       "      <td>Licensed</td>\n",
       "      <td>NY</td>\n",
       "      <td>Parked</td>\n",
       "      <td>Left Front Bumper</td>\n",
       "      <td>Left Front Bumper</td>\n",
       "      <td>N</td>\n",
       "      <td>Driver Inattention/Distraction</td>\n",
       "      <td>Unspecified</td>\n",
       "      <td>1</td>\n",
       "    </tr>\n",
       "    <tr>\n",
       "      <th>2</th>\n",
       "      <td>19693538</td>\n",
       "      <td>4322263</td>\n",
       "      <td>2020-06-22</td>\n",
       "      <td>2024-11-18 11:44:00</td>\n",
       "      <td>a476a608-c32b-435e-879f-1f1fb0727410</td>\n",
       "      <td>NY</td>\n",
       "      <td>Station Wagon/Sport Utility Vehicle</td>\n",
       "      <td>TOYT -CAR/SUV</td>\n",
       "      <td>East</td>\n",
       "      <td>1.0</td>\n",
       "      <td>M</td>\n",
       "      <td>Licensed</td>\n",
       "      <td>NY</td>\n",
       "      <td>Making Left Turn</td>\n",
       "      <td>Right Side Doors</td>\n",
       "      <td>Right Side Doors</td>\n",
       "      <td>N</td>\n",
       "      <td>Failure to Yield Right-of-Way</td>\n",
       "      <td>Unspecified</td>\n",
       "      <td>3</td>\n",
       "    </tr>\n",
       "    <tr>\n",
       "      <th>3</th>\n",
       "      <td>19693856</td>\n",
       "      <td>4322497</td>\n",
       "      <td>2020-06-22</td>\n",
       "      <td>2024-11-18 01:30:00</td>\n",
       "      <td>669ca3be-cf2a-4011-9b16-9ccc9498b409</td>\n",
       "      <td>NY</td>\n",
       "      <td>Taxi</td>\n",
       "      <td>TOYT -CAR/SUV</td>\n",
       "      <td>North</td>\n",
       "      <td>1.0</td>\n",
       "      <td>M</td>\n",
       "      <td>Licensed</td>\n",
       "      <td>NY</td>\n",
       "      <td>Going Straight Ahead</td>\n",
       "      <td>Left Front Quarter Panel</td>\n",
       "      <td>Left Front Quarter Panel</td>\n",
       "      <td>N</td>\n",
       "      <td>Unspecified</td>\n",
       "      <td>Unspecified</td>\n",
       "      <td>1</td>\n",
       "    </tr>\n",
       "    <tr>\n",
       "      <th>4</th>\n",
       "      <td>19693317</td>\n",
       "      <td>4322245</td>\n",
       "      <td>2020-06-22</td>\n",
       "      <td>2024-11-18 10:00:00</td>\n",
       "      <td>b2a80c17-b76d-4e85-9a4e-b607f46a253c</td>\n",
       "      <td>NY</td>\n",
       "      <td>Dump</td>\n",
       "      <td>BESON</td>\n",
       "      <td>West</td>\n",
       "      <td>1.0</td>\n",
       "      <td>M</td>\n",
       "      <td>Licensed</td>\n",
       "      <td>NY</td>\n",
       "      <td>Going Straight Ahead</td>\n",
       "      <td>Left Front Bumper</td>\n",
       "      <td>Left Front Bumper</td>\n",
       "      <td>N</td>\n",
       "      <td>Driver Inattention/Distraction</td>\n",
       "      <td>Unspecified</td>\n",
       "      <td>4</td>\n",
       "    </tr>\n",
       "  </tbody>\n",
       "</table>\n",
       "</div>"
      ]
     },
     "metadata": {
      "application/vnd.databricks.v1+output": {
       "addedWidgets": {},
       "arguments": {},
       "data": "<div>\n<style scoped>\n    .dataframe tbody tr th:only-of-type {\n        vertical-align: middle;\n    }\n\n    .dataframe tbody tr th {\n        vertical-align: top;\n    }\n\n    .dataframe thead th {\n        text-align: right;\n    }\n</style>\n<table border=\"1\" class=\"dataframe\">\n  <thead>\n    <tr style=\"text-align: right;\">\n      <th></th>\n      <th>UNIQUE_ID</th>\n      <th>COLLISION_ID</th>\n      <th>CRASH_DATE</th>\n      <th>CRASH_TIME</th>\n      <th>VEHICLE_ID</th>\n      <th>STATE_REGISTRATION</th>\n      <th>VEHICLE_TYPE</th>\n      <th>VEHICLE_MAKE</th>\n      <th>TRAVEL_DIRECTION</th>\n      <th>VEHICLE_OCCUPANTS</th>\n      <th>DRIVER_SEX</th>\n      <th>DRIVER_LICENSE_STATUS</th>\n      <th>DRIVER_LICENSE_JURISDICTION</th>\n      <th>PRE_CRASH</th>\n      <th>POINT_OF_IMPACT</th>\n      <th>VEHICLE_DAMAGE</th>\n      <th>PUBLIC_PROPERTY_DAMAGE</th>\n      <th>CONTRIBUTING_FACTOR_1</th>\n      <th>CONTRIBUTING_FACTOR_2</th>\n      <th>TRAVEL_DIRECTION_CODE</th>\n    </tr>\n  </thead>\n  <tbody>\n    <tr>\n      <th>0</th>\n      <td>19693299</td>\n      <td>4322349</td>\n      <td>2020-06-22</td>\n      <td>2024-11-18 18:10:00</td>\n      <td>7675ccbe-68b6-4842-8998-ebe005cc0d5d</td>\n      <td>NY</td>\n      <td>Van</td>\n      <td>TOYT-TRUCK/BUS</td>\n      <td>East</td>\n      <td>1.0</td>\n      <td>M</td>\n      <td>Licensed</td>\n      <td>NY</td>\n      <td>Going Straight Ahead</td>\n      <td>Right Side Doors</td>\n      <td>Right Side Doors</td>\n      <td>N</td>\n      <td>Other Vehicular</td>\n      <td>Other Vehicular</td>\n      <td>3</td>\n    </tr>\n    <tr>\n      <th>1</th>\n      <td>19693330</td>\n      <td>4322338</td>\n      <td>2020-06-22</td>\n      <td>2024-11-18 10:19:00</td>\n      <td>97331e7e-4d04-40dc-8593-2c0dc0c5b032</td>\n      <td>NY</td>\n      <td>Station Wagon/Sport Utility Vehicle</td>\n      <td>MERZ -CAR/SUV</td>\n      <td>North</td>\n      <td>1.0</td>\n      <td>M</td>\n      <td>Licensed</td>\n      <td>NY</td>\n      <td>Parked</td>\n      <td>Left Front Bumper</td>\n      <td>Left Front Bumper</td>\n      <td>N</td>\n      <td>Driver Inattention/Distraction</td>\n      <td>Unspecified</td>\n      <td>1</td>\n    </tr>\n    <tr>\n      <th>2</th>\n      <td>19693538</td>\n      <td>4322263</td>\n      <td>2020-06-22</td>\n      <td>2024-11-18 11:44:00</td>\n      <td>a476a608-c32b-435e-879f-1f1fb0727410</td>\n      <td>NY</td>\n      <td>Station Wagon/Sport Utility Vehicle</td>\n      <td>TOYT -CAR/SUV</td>\n      <td>East</td>\n      <td>1.0</td>\n      <td>M</td>\n      <td>Licensed</td>\n      <td>NY</td>\n      <td>Making Left Turn</td>\n      <td>Right Side Doors</td>\n      <td>Right Side Doors</td>\n      <td>N</td>\n      <td>Failure to Yield Right-of-Way</td>\n      <td>Unspecified</td>\n      <td>3</td>\n    </tr>\n    <tr>\n      <th>3</th>\n      <td>19693856</td>\n      <td>4322497</td>\n      <td>2020-06-22</td>\n      <td>2024-11-18 01:30:00</td>\n      <td>669ca3be-cf2a-4011-9b16-9ccc9498b409</td>\n      <td>NY</td>\n      <td>Taxi</td>\n      <td>TOYT -CAR/SUV</td>\n      <td>North</td>\n      <td>1.0</td>\n      <td>M</td>\n      <td>Licensed</td>\n      <td>NY</td>\n      <td>Going Straight Ahead</td>\n      <td>Left Front Quarter Panel</td>\n      <td>Left Front Quarter Panel</td>\n      <td>N</td>\n      <td>Unspecified</td>\n      <td>Unspecified</td>\n      <td>1</td>\n    </tr>\n    <tr>\n      <th>4</th>\n      <td>19693317</td>\n      <td>4322245</td>\n      <td>2020-06-22</td>\n      <td>2024-11-18 10:00:00</td>\n      <td>b2a80c17-b76d-4e85-9a4e-b607f46a253c</td>\n      <td>NY</td>\n      <td>Dump</td>\n      <td>BESON</td>\n      <td>West</td>\n      <td>1.0</td>\n      <td>M</td>\n      <td>Licensed</td>\n      <td>NY</td>\n      <td>Going Straight Ahead</td>\n      <td>Left Front Bumper</td>\n      <td>Left Front Bumper</td>\n      <td>N</td>\n      <td>Driver Inattention/Distraction</td>\n      <td>Unspecified</td>\n      <td>4</td>\n    </tr>\n  </tbody>\n</table>\n</div>",
       "datasetInfos": [],
       "metadata": {},
       "removedWidgets": [],
       "textData": null,
       "type": "htmlSandbox"
      }
     },
     "output_type": "display_data"
    }
   ],
   "source": [
    "# Convert Spark DataFrame to Pandas DataFrame\n",
    "pdf = df.toPandas()\n",
    "\n",
    "# Check the first few rows in Pandas DataFrame\n",
    "pdf.head()\n"
   ]
  },
  {
   "cell_type": "code",
   "execution_count": 0,
   "metadata": {
    "application/vnd.databricks.v1+cell": {
     "cellMetadata": {
      "byteLimit": 2048000,
      "rowLimit": 10000
     },
     "inputWidgets": {},
     "nuid": "39a7e2c1-7d82-49f1-a118-06a8d74e9b38",
     "showTitle": false,
     "tableResultSettingsMap": {},
     "title": ""
    }
   },
   "outputs": [
    {
     "output_type": "display_data",
     "data": {
      "application/vnd.databricks.v1+bamboolib_hint": "{\"pd.DataFrames\": [\"pdf\"], \"version\": \"0.0.1\"}",
      "text/plain": []
     },
     "metadata": {},
     "output_type": "display_data"
    },
    {
     "output_type": "display_data",
     "data": {
      "image/png": "[encoded data removed]"
     },
     "metadata": {
      "application/vnd.databricks.v1+output": {
       "addedWidgets": {},
       "arguments": {},
       "data": "data:image/png;base64,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\n",
       "datasetInfos": [],
       "metadata": {},
       "removedWidgets": [],
       "type": "image"
      }
     },
     "output_type": "display_data"
    }
   ],
   "source": [
    "import pandas as pd\n",
    "import matplotlib.pyplot as plt\n",
    "\n",
    "# Convert CRASH_DATE to datetime\n",
    "pdf['CRASH_DATE'] = pd.to_datetime(pdf['CRASH_DATE'])\n",
    "\n",
    "# Group data by year and month\n",
    "monthly_trends = pdf.groupby(pdf['CRASH_DATE'].dt.to_period('M')).size()\n",
    "\n",
    "# Plot monthly trends\n",
    "plt.figure(figsize=(10, 6))\n",
    "monthly_trends.plot(kind='line', title='Monthly Crash Trends')\n",
    "plt.xlabel(\"Month\")\n",
    "plt.ylabel(\"Number of Crashes\")\n",
    "plt.grid()\n",
    "plt.show()\n"
   ]
  },
  {
   "cell_type": "code",
   "execution_count": 0,
   "metadata": {
    "application/vnd.databricks.v1+cell": {
     "cellMetadata": {
      "byteLimit": 2048000,
      "rowLimit": 10000
     },
     "inputWidgets": {},
     "nuid": "060c39a7-3c28-4c46-95c1-4e3f7bba6395",
     "showTitle": false,
     "tableResultSettingsMap": {},
     "title": ""
    }
   },
   "outputs": [
    {
     "output_type": "stream",
     "name": "stdout",
     "output_type": "stream",
     "text": [
      "+----------+-------------+\n|CRASH_YEAR|TOTAL_CRASHES|\n+----------+-------------+\n|      2023|       106711|\n|      2022|       115323|\n|      2020|       138923|\n|      2024|        77221|\n|      2021|       124388|\n+----------+-------------+\n\n+-----------+-------------+\n|CRASH_MONTH|TOTAL_CRASHES|\n+-----------+-------------+\n|         12|        37071|\n|          1|        54173|\n|          6|        48884|\n|          3|        53140|\n|          5|        48608|\n|          9|        49165|\n|          4|        41110|\n|          8|        48523|\n|          7|        48100|\n|         10|        43791|\n|         11|        38889|\n|          2|        51112|\n+-----------+-------------+\n\n"
     ]
    }
   ],
   "source": [
    "from pyspark.sql.functions import year, month, count\n",
    "\n",
    "# Extract year and month from the crash date\n",
    "df_with_date = df.withColumn(\"CRASH_YEAR\", year(\"CRASH_DATE\")).withColumn(\"CRASH_MONTH\", month(\"CRASH_DATE\"))\n",
    "\n",
    "# Aggregate crashes by year\n",
    "yearly_trends = df_with_date.groupBy(\"CRASH_YEAR\").agg(count(\"*\").alias(\"TOTAL_CRASHES\"))\n",
    "yearly_trends.show()\n",
    "\n",
    "# Aggregate crashes by month\n",
    "monthly_trends = df_with_date.groupBy(\"CRASH_MONTH\").agg(count(\"*\").alias(\"TOTAL_CRASHES\"))\n",
    "monthly_trends.show()\n"
   ]
  },
  {
   "cell_type": "code",
   "execution_count": 0,
   "metadata": {
    "application/vnd.databricks.v1+cell": {
     "cellMetadata": {
      "byteLimit": 2048000,
      "rowLimit": 10000
     },
     "inputWidgets": {},
     "nuid": "c7f70e17-42e2-499e-84d9-6af55340e49a",
     "showTitle": false,
     "tableResultSettingsMap": {},
     "title": ""
    }
   },
   "outputs": [
    {
     "output_type": "display_data",
     "data": {
      "image/png": "[encoded data removed]"
     },
     "metadata": {
      "application/vnd.databricks.v1+output": {
       "addedWidgets": {},
       "arguments": {},
       "data": "data:image/png;base64,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\n",
       "datasetInfos": [],
       "metadata": {},
       "removedWidgets": [],
       "type": "image"
      }
     },
     "output_type": "display_data"
    }
   ],
   "source": [
    "import matplotlib.pyplot as plt\n",
    "from pyspark.sql.functions import year, month, count\n",
    "\n",
    "# Extract year and month from the crash date\n",
    "df_with_date = df.withColumn(\"CRASH_YEAR\", year(\"CRASH_DATE\")).withColumn(\"CRASH_MONTH\", month(\"CRASH_DATE\"))\n",
    "\n",
    "# Aggregate crashes by year\n",
    "yearly_trends = df_with_date.groupBy(\"CRASH_YEAR\").agg(count(\"*\").alias(\"TOTAL_CRASHES\")).orderBy(\"CRASH_YEAR\")\n",
    "yearly_trends_data = yearly_trends.collect()\n",
    "\n",
    "# Extract data for plotting\n",
    "years = [row['CRASH_YEAR'] for row in yearly_trends_data]\n",
    "yearly_crashes = [row['TOTAL_CRASHES'] for row in yearly_trends_data]\n",
    "\n",
    "# Plot yearly trends as a line graph\n",
    "plt.figure(figsize=(10, 5))\n",
    "plt.plot(years, yearly_crashes, marker='o', linestyle='-', color='blue', label=\"Total Crashes\")\n",
    "plt.xlabel(\"Year\")\n",
    "plt.ylabel(\"Total Crashes\")\n",
    "plt.title(\"Yearly Trends in Crash Occurrences\")\n",
    "plt.xticks(years)\n",
    "plt.grid(axis='y', linestyle='--', alpha=0.7)\n",
    "plt.legend()\n",
    "plt.show()\n"
   ]
  },
  {
   "cell_type": "code",
   "execution_count": 0,
   "metadata": {
    "application/vnd.databricks.v1+cell": {
     "cellMetadata": {
      "byteLimit": 2048000,
      "rowLimit": 10000
     },
     "inputWidgets": {},
     "nuid": "f07777da-5377-4d92-a672-7ec987ede61e",
     "showTitle": false,
     "tableResultSettingsMap": {},
     "title": ""
    }
   },
   "outputs": [
    {
     "output_type": "display_data",
     "data": {
      "image/png": "[encoded data removed]"
     },
     "metadata": {
      "application/vnd.databricks.v1+output": {
       "addedWidgets": {},
       "arguments": {},
       "data": "data:image/png;base64,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\n",
       "datasetInfos": [],
       "metadata": {},
       "removedWidgets": [],
       "type": "image"
      }
     },
     "output_type": "display_data"
    },
    {
     "output_type": "display_data",
     "data": {
      "image/png": "[encoded data removed]"
     },
     "metadata": {
      "application/vnd.databricks.v1+output": {
       "addedWidgets": {},
       "arguments": {},
       "data": "data:image/png;base64,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\n",
       "datasetInfos": [],
       "metadata": {},
       "removedWidgets": [],
       "type": "image"
      }
     },
     "output_type": "display_data"
    }
   ],
   "source": [
    "import matplotlib.pyplot as plt\n",
    "from pyspark.sql.functions import year, month, count\n",
    "\n",
    "# Extract year and month from the crash date\n",
    "df_with_date = df.withColumn(\"CRASH_YEAR\", year(\"CRASH_DATE\")).withColumn(\"CRASH_MONTH\", month(\"CRASH_DATE\"))\n",
    "\n",
    "# Aggregate crashes by year\n",
    "yearly_trends = df_with_date.groupBy(\"CRASH_YEAR\").agg(count(\"*\").alias(\"TOTAL_CRASHES\")).orderBy(\"CRASH_YEAR\")\n",
    "yearly_trends_data = yearly_trends.collect()\n",
    "\n",
    "# Aggregate crashes by month\n",
    "monthly_trends = df_with_date.groupBy(\"CRASH_MONTH\").agg(count(\"*\").alias(\"TOTAL_CRASHES\")).orderBy(\"CRASH_MONTH\")\n",
    "monthly_trends_data = monthly_trends.collect()\n",
    "\n",
    "# Extract data for plotting\n",
    "years = [row['CRASH_YEAR'] for row in yearly_trends_data]\n",
    "yearly_crashes = [row['TOTAL_CRASHES'] for row in yearly_trends_data]\n",
    "\n",
    "months = [row['CRASH_MONTH'] for row in monthly_trends_data]\n",
    "monthly_crashes = [row['TOTAL_CRASHES'] for row in monthly_trends_data]\n",
    "\n",
    "# Plot yearly trends\n",
    "plt.figure(figsize=(10, 5))\n",
    "plt.bar(years, yearly_crashes, color='skyblue')\n",
    "plt.xlabel(\"Year\")\n",
    "plt.ylabel(\"Total Crashes\")\n",
    "plt.title(\"Yearly Trends in Crash Occurrences\")\n",
    "plt.xticks(years)\n",
    "plt.grid(axis='y', linestyle='--', alpha=0.7)\n",
    "plt.show()\n",
    "\n",
    "# Plot monthly trends\n",
    "plt.figure(figsize=(10, 5))\n",
    "plt.bar(months, monthly_crashes, color='lightcoral')\n",
    "plt.xlabel(\"Month\")\n",
    "plt.ylabel(\"Total Crashes\")\n",
    "plt.title(\"Monthly Trends in Crash Occurrences\")\n",
    "plt.xticks(months)\n",
    "plt.grid(axis='y', linestyle='--', alpha=0.7)\n",
    "plt.show()\n"
   ]
  },
  {
   "cell_type": "code",
   "execution_count": 0,
   "metadata": {
    "application/vnd.databricks.v1+cell": {
     "cellMetadata": {
      "byteLimit": 2048000,
      "rowLimit": 10000
     },
     "inputWidgets": {},
     "nuid": "92770351-bcad-49ea-b988-43e84bd15998",
     "showTitle": false,
     "tableResultSettingsMap": {},
     "title": ""
    }
   },
   "outputs": [
    {
     "output_type": "stream",
     "name": "stdout",
     "output_type": "stream",
     "text": [
      "+-----------+-------------+\n|TIME_OF_DAY|TOTAL_CRASHES|\n+-----------+-------------+\n|    Evening|       144763|\n|    Morning|       138949|\n|  Afternoon|       204982|\n|      Night|        73872|\n+-----------+-------------+\n\n"
     ]
    }
   ],
   "source": [
    "from pyspark.sql.functions import hour, when\n",
    "\n",
    "# Extract hour from crash time\n",
    "df_with_hour = df.withColumn(\"CRASH_HOUR\", hour(\"CRASH_TIME\"))\n",
    "\n",
    "# Categorize into morning, afternoon, evening, night\n",
    "df_with_time_category = df_with_hour.withColumn(\n",
    "    \"TIME_OF_DAY\",\n",
    "    when((df_with_hour.CRASH_HOUR >= 6) & (df_with_hour.CRASH_HOUR < 12), \"Morning\")\n",
    "    .when((df_with_hour.CRASH_HOUR >= 12) & (df_with_hour.CRASH_HOUR < 18), \"Afternoon\")\n",
    "    .when((df_with_hour.CRASH_HOUR >= 18) & (df_with_hour.CRASH_HOUR < 24), \"Evening\")\n",
    "    .otherwise(\"Night\")\n",
    ")\n",
    "\n",
    "# Aggregate crashes by time of day\n",
    "time_of_day_trends = df_with_time_category.groupBy(\"TIME_OF_DAY\").agg(count(\"*\").alias(\"TOTAL_CRASHES\"))\n",
    "time_of_day_trends.show()\n"
   ]
  },
  {
   "cell_type": "code",
   "execution_count": 0,
   "metadata": {
    "application/vnd.databricks.v1+cell": {
     "cellMetadata": {
      "byteLimit": 2048000,
      "rowLimit": 10000
     },
     "inputWidgets": {},
     "nuid": "a8ba1fae-00fa-4368-826a-a4bfa6b09b53",
     "showTitle": false,
     "tableResultSettingsMap": {},
     "title": ""
    }
   },
   "outputs": [
    {
     "output_type": "stream",
     "name": "stdout",
     "output_type": "stream",
     "text": [
      "+----------+-------------+\n|DRIVER_SEX|TOTAL_CRASHES|\n+----------+-------------+\n|         F|       142994|\n|         M|       418302|\n|         U|         1270|\n+----------+-------------+\n\n"
     ]
    }
   ],
   "source": [
    "# Aggregate crashes by driver sex\n",
    "driver_sex_trends = df.groupBy(\"DRIVER_SEX\").agg(count(\"*\").alias(\"TOTAL_CRASHES\"))\n",
    "driver_sex_trends.show()\n"
   ]
  },
  {
   "cell_type": "code",
   "execution_count": 0,
   "metadata": {
    "application/vnd.databricks.v1+cell": {
     "cellMetadata": {
      "byteLimit": 2048000,
      "rowLimit": 10000
     },
     "inputWidgets": {},
     "nuid": "1b523b35-d1d4-4218-b7ba-a0bb8907c239",
     "showTitle": false,
     "tableResultSettingsMap": {},
     "title": ""
    }
   },
   "outputs": [
    {
     "output_type": "stream",
     "name": "stdout",
     "output_type": "stream",
     "text": [
      "<Figure size 576x360 with 0 Axes>"
     ]
    },
    {
     "output_type": "display_data",
     "data": {
      "image/png": "[encoded data removed]"
     },
     "metadata": {
      "application/vnd.databricks.v1+output": {
       "addedWidgets": {},
       "arguments": {},
       "data": "data:image/png;base64,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\n",
       "datasetInfos": [],
       "metadata": {},
       "removedWidgets": [],
       "type": "image"
      }
     },
     "output_type": "display_data"
    }
   ],
   "source": [
    "# Group by DRIVER_SEX and calculate crash counts and average vehicle occupants\n",
    "driver_stats = pdf.groupby('DRIVER_SEX')['VEHICLE_OCCUPANTS'].agg(['count', 'mean']).reset_index()\n",
    "\n",
    "# Plot driver demographics\n",
    "plt.figure(figsize=(8, 5))\n",
    "driver_stats.plot(kind='bar', x='DRIVER_SEX', y='count', legend=False, color='orange', title='Crashes by Driver Sex')\n",
    "plt.xlabel(\"Driver Sex\")\n",
    "plt.ylabel(\"Number of Crashes\")\n",
    "plt.grid()\n",
    "plt.show()\n"
   ]
  },
  {
   "cell_type": "code",
   "execution_count": 0,
   "metadata": {
    "application/vnd.databricks.v1+cell": {
     "cellMetadata": {
      "byteLimit": 2048000,
      "rowLimit": 10000
     },
     "inputWidgets": {},
     "nuid": "8f1ddba9-0b47-493d-b0c6-b5b55318dab2",
     "showTitle": false,
     "tableResultSettingsMap": {},
     "title": ""
    }
   },
   "outputs": [
    {
     "output_type": "stream",
     "name": "stdout",
     "output_type": "stream",
     "text": [
      "+-----------------+-------------+\n|VEHICLE_OCCUPANTS|TOTAL_CRASHES|\n+-----------------+-------------+\n|              1.0|       411419|\n|              2.0|       102653|\n|              3.0|        29482|\n|              4.0|        11199|\n|              5.0|         4097|\n|              6.0|         1359|\n|              7.0|          615|\n|              8.0|          368|\n|              9.0|          260|\n|             10.0|          208|\n|             11.0|          162|\n|             12.0|          110|\n|             13.0|           94|\n|             14.0|           70|\n|             15.0|           78|\n|             16.0|           49|\n|             17.0|           34|\n|             18.0|           23|\n|             19.0|           15|\n|             20.0|           32|\n+-----------------+-------------+\nonly showing top 20 rows\n\n"
     ]
    }
   ],
   "source": [
    "# Aggregate crashes by number of vehicle occupants\n",
    "occupants_trends = df.groupBy(\"VEHICLE_OCCUPANTS\").agg(count(\"*\").alias(\"TOTAL_CRASHES\"))\n",
    "occupants_trends.orderBy(\"VEHICLE_OCCUPANTS\").show()\n"
   ]
  },
  {
   "cell_type": "code",
   "execution_count": 0,
   "metadata": {
    "application/vnd.databricks.v1+cell": {
     "cellMetadata": {
      "byteLimit": 2048000,
      "rowLimit": 10000
     },
     "inputWidgets": {},
     "nuid": "d9181bf8-6597-49b6-b187-bd4b665d8593",
     "showTitle": false,
     "tableResultSettingsMap": {},
     "title": ""
    }
   },
   "outputs": [
    {
     "output_type": "stream",
     "name": "stdout",
     "output_type": "stream",
     "text": [
      "+--------------------+-------------+\n|        VEHICLE_TYPE|TOTAL_CRASHES|\n+--------------------+-------------+\n|               Sedan|       259738|\n|Station Wagon/Spo...|       201161|\n|                Taxi|        17238|\n|       Pick-up Truck|        14153|\n|           Box Truck|        13776|\n|                 Bus|        12992|\n|Tractor Truck Diesel|         6234|\n|          Motorcycle|         5241|\n|                 Van|         4010|\n|           Ambulance|         3758|\n|                Dump|         2560|\n|               Moped|         1828|\n|   Garbage or Refuse|         1478|\n|            Flat Bed|         1456|\n|                  PK|         1427|\n|         Convertible|         1334|\n|                Bike|         1062|\n|           Carry All|         1024|\n|Tractor Truck Gas...|          885|\n| Tow Truck / Wrecker|          796|\n+--------------------+-------------+\nonly showing top 20 rows\n\n"
     ]
    }
   ],
   "source": [
    "# Aggregate crashes by vehicle type\n",
    "vehicle_type_trends = df.groupBy(\"VEHICLE_TYPE\").agg(count(\"*\").alias(\"TOTAL_CRASHES\"))\n",
    "vehicle_type_trends.orderBy(\"TOTAL_CRASHES\", ascending=False).show()\n"
   ]
  },
  {
   "cell_type": "code",
   "execution_count": 0,
   "metadata": {
    "application/vnd.databricks.v1+cell": {
     "cellMetadata": {
      "byteLimit": 2048000,
      "implicitDf": true,
      "rowLimit": 10000
     },
     "inputWidgets": {},
     "nuid": "80c6f88a-7528-4551-993d-551e042a6b68",
     "showTitle": false,
     "tableResultSettingsMap": {},
     "title": ""
    }
   },
   "outputs": [
    {
     "output_type": "display_data",
     "data": {
      "text/plain": [
       "\u001B[0;31m---------------------------------------------------------------------------\u001B[0m\n",
       "\u001B[0;31mAnalysisException\u001B[0m                         Traceback (most recent call last)\n",
       "File \u001B[0;32m<command-3308136697089614>:7\u001B[0m\n",
       "\u001B[1;32m      5\u001B[0m     display(df)\n",
       "\u001B[1;32m      6\u001B[0m     \u001B[38;5;28;01mreturn\u001B[39;00m df\n",
       "\u001B[0;32m----> 7\u001B[0m   _sqldf \u001B[38;5;241m=\u001B[39m \u001B[43m____databricks_percent_sql\u001B[49m\u001B[43m(\u001B[49m\u001B[43m)\u001B[49m\n",
       "\u001B[1;32m      8\u001B[0m \u001B[38;5;28;01mfinally\u001B[39;00m:\n",
       "\u001B[1;32m      9\u001B[0m   \u001B[38;5;28;01mdel\u001B[39;00m ____databricks_percent_sql\n",
       "\n",
       "File \u001B[0;32m<command-3308136697089614>:4\u001B[0m, in \u001B[0;36m____databricks_percent_sql\u001B[0;34m()\u001B[0m\n",
       "\u001B[1;32m      2\u001B[0m \u001B[38;5;28;01mdef\u001B[39;00m \u001B[38;5;21m____databricks_percent_sql\u001B[39m():\n",
       "\u001B[1;32m      3\u001B[0m   \u001B[38;5;28;01mimport\u001B[39;00m \u001B[38;5;21;01mbase64\u001B[39;00m\n",
       "\u001B[0;32m----> 4\u001B[0m   df \u001B[38;5;241m=\u001B[39m \u001B[43mspark\u001B[49m\u001B[38;5;241;43m.\u001B[39;49m\u001B[43msql\u001B[49m\u001B[43m(\u001B[49m\u001B[43mbase64\u001B[49m\u001B[38;5;241;43m.\u001B[39;49m\u001B[43mstandard_b64decode\u001B[49m\u001B[43m(\u001B[49m\u001B[38;5;124;43m\"\u001B[39;49m\u001B[38;5;124;43mQ1JFQVRFIFRBQkxFIG1vdG9yX3ZlaGljbGVfY29sbGlzaW9ucwpVU0lORyBjc3YKT1BUSU9OUyAoCiAgICBwYXRoICcvRmlsZVN0b3JlL3RhYmxlcy9maWx0ZXJlZF9tb3Rvcl92ZWhpY2xlX2NvbGxpc2lvbnNfMjAyMF9vbndhcmRzLmNzdicsCiAgICBoZWFkZXIgJ3RydWUnLAogICAgaW5mZXJTY2hlbWEgJ3RydWUnCik=\u001B[39;49m\u001B[38;5;124;43m\"\u001B[39;49m\u001B[43m)\u001B[49m\u001B[38;5;241;43m.\u001B[39;49m\u001B[43mdecode\u001B[49m\u001B[43m(\u001B[49m\u001B[43m)\u001B[49m\u001B[43m)\u001B[49m\n",
       "\u001B[1;32m      5\u001B[0m   display(df)\n",
       "\u001B[1;32m      6\u001B[0m   \u001B[38;5;28;01mreturn\u001B[39;00m df\n",
       "\n",
       "File \u001B[0;32m/databricks/spark/python/pyspark/instrumentation_utils.py:48\u001B[0m, in \u001B[0;36m_wrap_function.<locals>.wrapper\u001B[0;34m(*args, **kwargs)\u001B[0m\n",
       "\u001B[1;32m     46\u001B[0m start \u001B[38;5;241m=\u001B[39m time\u001B[38;5;241m.\u001B[39mperf_counter()\n",
       "\u001B[1;32m     47\u001B[0m \u001B[38;5;28;01mtry\u001B[39;00m:\n",
       "\u001B[0;32m---> 48\u001B[0m     res \u001B[38;5;241m=\u001B[39m \u001B[43mfunc\u001B[49m\u001B[43m(\u001B[49m\u001B[38;5;241;43m*\u001B[39;49m\u001B[43margs\u001B[49m\u001B[43m,\u001B[49m\u001B[43m \u001B[49m\u001B[38;5;241;43m*\u001B[39;49m\u001B[38;5;241;43m*\u001B[39;49m\u001B[43mkwargs\u001B[49m\u001B[43m)\u001B[49m\n",
       "\u001B[1;32m     49\u001B[0m     logger\u001B[38;5;241m.\u001B[39mlog_success(\n",
       "\u001B[1;32m     50\u001B[0m         module_name, class_name, function_name, time\u001B[38;5;241m.\u001B[39mperf_counter() \u001B[38;5;241m-\u001B[39m start, signature\n",
       "\u001B[1;32m     51\u001B[0m     )\n",
       "\u001B[1;32m     52\u001B[0m     \u001B[38;5;28;01mreturn\u001B[39;00m res\n",
       "\n",
       "File \u001B[0;32m/databricks/spark/python/pyspark/sql/session.py:1387\u001B[0m, in \u001B[0;36mSparkSession.sql\u001B[0;34m(self, sqlQuery, args, **kwargs)\u001B[0m\n",
       "\u001B[1;32m   1385\u001B[0m \u001B[38;5;28;01mtry\u001B[39;00m:\n",
       "\u001B[1;32m   1386\u001B[0m     litArgs \u001B[38;5;241m=\u001B[39m {k: _to_java_column(lit(v)) \u001B[38;5;28;01mfor\u001B[39;00m k, v \u001B[38;5;129;01min\u001B[39;00m (args \u001B[38;5;129;01mor\u001B[39;00m {})\u001B[38;5;241m.\u001B[39mitems()}\n",
       "\u001B[0;32m-> 1387\u001B[0m     \u001B[38;5;28;01mreturn\u001B[39;00m DataFrame(\u001B[38;5;28;43mself\u001B[39;49m\u001B[38;5;241;43m.\u001B[39;49m\u001B[43m_jsparkSession\u001B[49m\u001B[38;5;241;43m.\u001B[39;49m\u001B[43msql\u001B[49m\u001B[43m(\u001B[49m\u001B[43msqlQuery\u001B[49m\u001B[43m,\u001B[49m\u001B[43m \u001B[49m\u001B[43mlitArgs\u001B[49m\u001B[43m)\u001B[49m, \u001B[38;5;28mself\u001B[39m)\n",
       "\u001B[1;32m   1388\u001B[0m \u001B[38;5;28;01mfinally\u001B[39;00m:\n",
       "\u001B[1;32m   1389\u001B[0m     \u001B[38;5;28;01mif\u001B[39;00m \u001B[38;5;28mlen\u001B[39m(kwargs) \u001B[38;5;241m>\u001B[39m \u001B[38;5;241m0\u001B[39m:\n",
       "\n",
       "File \u001B[0;32m/databricks/spark/python/lib/py4j-0.10.9.5-src.zip/py4j/java_gateway.py:1321\u001B[0m, in \u001B[0;36mJavaMember.__call__\u001B[0;34m(self, *args)\u001B[0m\n",
       "\u001B[1;32m   1315\u001B[0m command \u001B[38;5;241m=\u001B[39m proto\u001B[38;5;241m.\u001B[39mCALL_COMMAND_NAME \u001B[38;5;241m+\u001B[39m\\\n",
       "\u001B[1;32m   1316\u001B[0m     \u001B[38;5;28mself\u001B[39m\u001B[38;5;241m.\u001B[39mcommand_header \u001B[38;5;241m+\u001B[39m\\\n",
       "\u001B[1;32m   1317\u001B[0m     args_command \u001B[38;5;241m+\u001B[39m\\\n",
       "\u001B[1;32m   1318\u001B[0m     proto\u001B[38;5;241m.\u001B[39mEND_COMMAND_PART\n",
       "\u001B[1;32m   1320\u001B[0m answer \u001B[38;5;241m=\u001B[39m \u001B[38;5;28mself\u001B[39m\u001B[38;5;241m.\u001B[39mgateway_client\u001B[38;5;241m.\u001B[39msend_command(command)\n",
       "\u001B[0;32m-> 1321\u001B[0m return_value \u001B[38;5;241m=\u001B[39m \u001B[43mget_return_value\u001B[49m\u001B[43m(\u001B[49m\n",
       "\u001B[1;32m   1322\u001B[0m \u001B[43m    \u001B[49m\u001B[43manswer\u001B[49m\u001B[43m,\u001B[49m\u001B[43m \u001B[49m\u001B[38;5;28;43mself\u001B[39;49m\u001B[38;5;241;43m.\u001B[39;49m\u001B[43mgateway_client\u001B[49m\u001B[43m,\u001B[49m\u001B[43m \u001B[49m\u001B[38;5;28;43mself\u001B[39;49m\u001B[38;5;241;43m.\u001B[39;49m\u001B[43mtarget_id\u001B[49m\u001B[43m,\u001B[49m\u001B[43m \u001B[49m\u001B[38;5;28;43mself\u001B[39;49m\u001B[38;5;241;43m.\u001B[39;49m\u001B[43mname\u001B[49m\u001B[43m)\u001B[49m\n",
       "\u001B[1;32m   1324\u001B[0m \u001B[38;5;28;01mfor\u001B[39;00m temp_arg \u001B[38;5;129;01min\u001B[39;00m temp_args:\n",
       "\u001B[1;32m   1325\u001B[0m     temp_arg\u001B[38;5;241m.\u001B[39m_detach()\n",
       "\n",
       "File \u001B[0;32m/databricks/spark/python/pyspark/errors/exceptions.py:234\u001B[0m, in \u001B[0;36mcapture_sql_exception.<locals>.deco\u001B[0;34m(*a, **kw)\u001B[0m\n",
       "\u001B[1;32m    230\u001B[0m converted \u001B[38;5;241m=\u001B[39m convert_exception(e\u001B[38;5;241m.\u001B[39mjava_exception)\n",
       "\u001B[1;32m    231\u001B[0m \u001B[38;5;28;01mif\u001B[39;00m \u001B[38;5;129;01mnot\u001B[39;00m \u001B[38;5;28misinstance\u001B[39m(converted, UnknownException):\n",
       "\u001B[1;32m    232\u001B[0m     \u001B[38;5;66;03m# Hide where the exception came from that shows a non-Pythonic\u001B[39;00m\n",
       "\u001B[1;32m    233\u001B[0m     \u001B[38;5;66;03m# JVM exception message.\u001B[39;00m\n",
       "\u001B[0;32m--> 234\u001B[0m     \u001B[38;5;28;01mraise\u001B[39;00m converted \u001B[38;5;28;01mfrom\u001B[39;00m \u001B[38;5;28mNone\u001B[39m\n",
       "\u001B[1;32m    235\u001B[0m \u001B[38;5;28;01melse\u001B[39;00m:\n",
       "\u001B[1;32m    236\u001B[0m     \u001B[38;5;28;01mraise\u001B[39;00m\n",
       "\n",
       "\u001B[0;31mAnalysisException\u001B[0m: [TABLE_OR_VIEW_ALREADY_EXISTS] Cannot create table or view `spark_catalog`.`default`.`motor_vehicle_collisions` because it already exists.\n",
       "Choose a different name, drop or replace the existing object, add the IF NOT EXISTS clause to tolerate pre-existing objects, or add the OR REFRESH clause to refresh the existing streaming table."
      ]
     },
     "metadata": {
      "application/vnd.databricks.v1+output": {
       "arguments": {},
       "data": "\u001B[0;31m---------------------------------------------------------------------------\u001B[0m\n\u001B[0;31mAnalysisException\u001B[0m                         Traceback (most recent call last)\nFile \u001B[0;32m<command-3308136697089614>:7\u001B[0m\n\u001B[1;32m      5\u001B[0m     display(df)\n\u001B[1;32m      6\u001B[0m     \u001B[38;5;28;01mreturn\u001B[39;00m df\n\u001B[0;32m----> 7\u001B[0m   _sqldf \u001B[38;5;241m=\u001B[39m \u001B[43m____databricks_percent_sql\u001B[49m\u001B[43m(\u001B[49m\u001B[43m)\u001B[49m\n\u001B[1;32m      8\u001B[0m \u001B[38;5;28;01mfinally\u001B[39;00m:\n\u001B[1;32m      9\u001B[0m   \u001B[38;5;28;01mdel\u001B[39;00m ____databricks_percent_sql\n\nFile \u001B[0;32m<command-3308136697089614>:4\u001B[0m, in \u001B[0;36m____databricks_percent_sql\u001B[0;34m()\u001B[0m\n\u001B[1;32m      2\u001B[0m \u001B[38;5;28;01mdef\u001B[39;00m \u001B[38;5;21m____databricks_percent_sql\u001B[39m():\n\u001B[1;32m      3\u001B[0m   \u001B[38;5;28;01mimport\u001B[39;00m \u001B[38;5;21;01mbase64\u001B[39;00m\n\u001B[0;32m----> 4\u001B[0m   df \u001B[38;5;241m=\u001B[39m \u001B[43mspark\u001B[49m\u001B[38;5;241;43m.\u001B[39;49m\u001B[43msql\u001B[49m\u001B[43m(\u001B[49m\u001B[43mbase64\u001B[49m\u001B[38;5;241;43m.\u001B[39;49m\u001B[43mstandard_b64decode\u001B[49m\u001B[43m(\u001B[49m\u001B[38;5;124;43m\"\u001B[39;49m\u001B[38;5;124;43mQ1JFQVRFIFRBQkxFIG1vdG9yX3ZlaGljbGVfY29sbGlzaW9ucwpVU0lORyBjc3YKT1BUSU9OUyAoCiAgICBwYXRoICcvRmlsZVN0b3JlL3RhYmxlcy9maWx0ZXJlZF9tb3Rvcl92ZWhpY2xlX2NvbGxpc2lvbnNfMjAyMF9vbndhcmRzLmNzdicsCiAgICBoZWFkZXIgJ3RydWUnLAogICAgaW5mZXJTY2hlbWEgJ3RydWUnCik=\u001B[39;49m\u001B[38;5;124;43m\"\u001B[39;49m\u001B[43m)\u001B[49m\u001B[38;5;241;43m.\u001B[39;49m\u001B[43mdecode\u001B[49m\u001B[43m(\u001B[49m\u001B[43m)\u001B[49m\u001B[43m)\u001B[49m\n\u001B[1;32m      5\u001B[0m   display(df)\n\u001B[1;32m      6\u001B[0m   \u001B[38;5;28;01mreturn\u001B[39;00m df\n\nFile \u001B[0;32m/databricks/spark/python/pyspark/instrumentation_utils.py:48\u001B[0m, in \u001B[0;36m_wrap_function.<locals>.wrapper\u001B[0;34m(*args, **kwargs)\u001B[0m\n\u001B[1;32m     46\u001B[0m start \u001B[38;5;241m=\u001B[39m time\u001B[38;5;241m.\u001B[39mperf_counter()\n\u001B[1;32m     47\u001B[0m \u001B[38;5;28;01mtry\u001B[39;00m:\n\u001B[0;32m---> 48\u001B[0m     res \u001B[38;5;241m=\u001B[39m \u001B[43mfunc\u001B[49m\u001B[43m(\u001B[49m\u001B[38;5;241;43m*\u001B[39;49m\u001B[43margs\u001B[49m\u001B[43m,\u001B[49m\u001B[43m \u001B[49m\u001B[38;5;241;43m*\u001B[39;49m\u001B[38;5;241;43m*\u001B[39;49m\u001B[43mkwargs\u001B[49m\u001B[43m)\u001B[49m\n\u001B[1;32m     49\u001B[0m     logger\u001B[38;5;241m.\u001B[39mlog_success(\n\u001B[1;32m     50\u001B[0m         module_name, class_name, function_name, time\u001B[38;5;241m.\u001B[39mperf_counter() \u001B[38;5;241m-\u001B[39m start, signature\n\u001B[1;32m     51\u001B[0m     )\n\u001B[1;32m     52\u001B[0m     \u001B[38;5;28;01mreturn\u001B[39;00m res\n\nFile \u001B[0;32m/databricks/spark/python/pyspark/sql/session.py:1387\u001B[0m, in \u001B[0;36mSparkSession.sql\u001B[0;34m(self, sqlQuery, args, **kwargs)\u001B[0m\n\u001B[1;32m   1385\u001B[0m \u001B[38;5;28;01mtry\u001B[39;00m:\n\u001B[1;32m   1386\u001B[0m     litArgs \u001B[38;5;241m=\u001B[39m {k: _to_java_column(lit(v)) \u001B[38;5;28;01mfor\u001B[39;00m k, v \u001B[38;5;129;01min\u001B[39;00m (args \u001B[38;5;129;01mor\u001B[39;00m {})\u001B[38;5;241m.\u001B[39mitems()}\n\u001B[0;32m-> 1387\u001B[0m     \u001B[38;5;28;01mreturn\u001B[39;00m DataFrame(\u001B[38;5;28;43mself\u001B[39;49m\u001B[38;5;241;43m.\u001B[39;49m\u001B[43m_jsparkSession\u001B[49m\u001B[38;5;241;43m.\u001B[39;49m\u001B[43msql\u001B[49m\u001B[43m(\u001B[49m\u001B[43msqlQuery\u001B[49m\u001B[43m,\u001B[49m\u001B[43m \u001B[49m\u001B[43mlitArgs\u001B[49m\u001B[43m)\u001B[49m, \u001B[38;5;28mself\u001B[39m)\n\u001B[1;32m   1388\u001B[0m \u001B[38;5;28;01mfinally\u001B[39;00m:\n\u001B[1;32m   1389\u001B[0m     \u001B[38;5;28;01mif\u001B[39;00m \u001B[38;5;28mlen\u001B[39m(kwargs) \u001B[38;5;241m>\u001B[39m \u001B[38;5;241m0\u001B[39m:\n\nFile \u001B[0;32m/databricks/spark/python/lib/py4j-0.10.9.5-src.zip/py4j/java_gateway.py:1321\u001B[0m, in \u001B[0;36mJavaMember.__call__\u001B[0;34m(self, *args)\u001B[0m\n\u001B[1;32m   1315\u001B[0m command \u001B[38;5;241m=\u001B[39m proto\u001B[38;5;241m.\u001B[39mCALL_COMMAND_NAME \u001B[38;5;241m+\u001B[39m\\\n\u001B[1;32m   1316\u001B[0m     \u001B[38;5;28mself\u001B[39m\u001B[38;5;241m.\u001B[39mcommand_header \u001B[38;5;241m+\u001B[39m\\\n\u001B[1;32m   1317\u001B[0m     args_command \u001B[38;5;241m+\u001B[39m\\\n\u001B[1;32m   1318\u001B[0m     proto\u001B[38;5;241m.\u001B[39mEND_COMMAND_PART\n\u001B[1;32m   1320\u001B[0m answer \u001B[38;5;241m=\u001B[39m \u001B[38;5;28mself\u001B[39m\u001B[38;5;241m.\u001B[39mgateway_client\u001B[38;5;241m.\u001B[39msend_command(command)\n\u001B[0;32m-> 1321\u001B[0m return_value \u001B[38;5;241m=\u001B[39m \u001B[43mget_return_value\u001B[49m\u001B[43m(\u001B[49m\n\u001B[1;32m   1322\u001B[0m \u001B[43m    \u001B[49m\u001B[43manswer\u001B[49m\u001B[43m,\u001B[49m\u001B[43m \u001B[49m\u001B[38;5;28;43mself\u001B[39;49m\u001B[38;5;241;43m.\u001B[39;49m\u001B[43mgateway_client\u001B[49m\u001B[43m,\u001B[49m\u001B[43m \u001B[49m\u001B[38;5;28;43mself\u001B[39;49m\u001B[38;5;241;43m.\u001B[39;49m\u001B[43mtarget_id\u001B[49m\u001B[43m,\u001B[49m\u001B[43m \u001B[49m\u001B[38;5;28;43mself\u001B[39;49m\u001B[38;5;241;43m.\u001B[39;49m\u001B[43mname\u001B[49m\u001B[43m)\u001B[49m\n\u001B[1;32m   1324\u001B[0m \u001B[38;5;28;01mfor\u001B[39;00m temp_arg \u001B[38;5;129;01min\u001B[39;00m temp_args:\n\u001B[1;32m   1325\u001B[0m     temp_arg\u001B[38;5;241m.\u001B[39m_detach()\n\nFile \u001B[0;32m/databricks/spark/python/pyspark/errors/exceptions.py:234\u001B[0m, in \u001B[0;36mcapture_sql_exception.<locals>.deco\u001B[0;34m(*a, **kw)\u001B[0m\n\u001B[1;32m    230\u001B[0m converted \u001B[38;5;241m=\u001B[39m convert_exception(e\u001B[38;5;241m.\u001B[39mjava_exception)\n\u001B[1;32m    231\u001B[0m \u001B[38;5;28;01mif\u001B[39;00m \u001B[38;5;129;01mnot\u001B[39;00m \u001B[38;5;28misinstance\u001B[39m(converted, UnknownException):\n\u001B[1;32m    232\u001B[0m     \u001B[38;5;66;03m# Hide where the exception came from that shows a non-Pythonic\u001B[39;00m\n\u001B[1;32m    233\u001B[0m     \u001B[38;5;66;03m# JVM exception message.\u001B[39;00m\n\u001B[0;32m--> 234\u001B[0m     \u001B[38;5;28;01mraise\u001B[39;00m converted \u001B[38;5;28;01mfrom\u001B[39;00m \u001B[38;5;28mNone\u001B[39m\n\u001B[1;32m    235\u001B[0m \u001B[38;5;28;01melse\u001B[39;00m:\n\u001B[1;32m    236\u001B[0m     \u001B[38;5;28;01mraise\u001B[39;00m\n\n\u001B[0;31mAnalysisException\u001B[0m: [TABLE_OR_VIEW_ALREADY_EXISTS] Cannot create table or view `spark_catalog`.`default`.`motor_vehicle_collisions` because it already exists.\nChoose a different name, drop or replace the existing object, add the IF NOT EXISTS clause to tolerate pre-existing objects, or add the OR REFRESH clause to refresh the existing streaming table.",
       "errorSummary": "<span class='ansi-red-fg'>AnalysisException</span>: [TABLE_OR_VIEW_ALREADY_EXISTS] Cannot create table or view `spark_catalog`.`default`.`motor_vehicle_collisions` because it already exists.\nChoose a different name, drop or replace the existing object, add the IF NOT EXISTS clause to tolerate pre-existing objects, or add the OR REFRESH clause to refresh the existing streaming table.",
       "errorTraceType": "ansi",
       "metadata": {},
       "type": "ipynbError"
      }
     },
     "output_type": "display_data"
    }
   ],
   "source": [
    "%sql\n",
    "CREATE TABLE motor_vehicle_collisions\n",
    "USING csv\n",
    "OPTIONS (\n",
    "    path '/FileStore/tables/filtered_motor_vehicle_collisions_2020_onwards.csv',\n",
    "    header 'true',\n",
    "    inferSchema 'true'\n",
    ");\n"
   ]
  },
  {
   "cell_type": "code",
   "execution_count": 0,
   "metadata": {
    "application/vnd.databricks.v1+cell": {
     "cellMetadata": {
      "byteLimit": 2048000,
      "implicitDf": true,
      "rowLimit": 10000
     },
     "inputWidgets": {},
     "nuid": "2b58afa5-e470-4e12-a83f-22eb9ddcfb6b",
     "showTitle": false,
     "tableResultSettingsMap": {},
     "title": ""
    }
   },
   "outputs": [
    {
     "output_type": "display_data",
     "data": {
      "text/html": [
       "<style scoped>\n",
       "  .table-result-container {\n",
       "    max-height: 300px;\n",
       "    overflow: auto;\n",
       "  }\n",
       "  table, th, td {\n",
       "    border: 1px solid black;\n",
       "    border-collapse: collapse;\n",
       "  }\n",
       "  th, td {\n",
       "    padding: 5px;\n",
       "  }\n",
       "  th {\n",
       "    text-align: left;\n",
       "  }\n",
       "</style><div class='table-result-container'><table class='table-result'><thead style='background-color: white'><tr><th>UNIQUE_ID</th><th>COLLISION_ID</th><th>CRASH_DATE</th><th>CRASH_TIME</th><th>VEHICLE_ID</th><th>STATE_REGISTRATION</th><th>VEHICLE_TYPE</th><th>VEHICLE_MAKE</th><th>TRAVEL_DIRECTION</th><th>VEHICLE_OCCUPANTS</th><th>DRIVER_SEX</th><th>DRIVER_LICENSE_STATUS</th><th>DRIVER_LICENSE_JURISDICTION</th><th>PRE_CRASH</th><th>POINT_OF_IMPACT</th><th>VEHICLE_DAMAGE</th><th>PUBLIC_PROPERTY_DAMAGE</th><th>CONTRIBUTING_FACTOR_1</th><th>CONTRIBUTING_FACTOR_2</th><th>TRAVEL_DIRECTION_CODE</th></tr></thead><tbody><tr><td>19693299</td><td>4322349</td><td>2020-06-22</td><td>2024-11-18T18:10:00.000+0000</td><td>7675ccbe-68b6-4842-8998-ebe005cc0d5d</td><td>NY</td><td>Van</td><td>TOYT-TRUCK/BUS</td><td>East</td><td>1.0</td><td>M</td><td>Licensed</td><td>NY</td><td>Going Straight Ahead</td><td>Right Side Doors</td><td>Right Side Doors</td><td>N</td><td>Other Vehicular</td><td>Other Vehicular</td><td>3</td></tr><tr><td>19693330</td><td>4322338</td><td>2020-06-22</td><td>2024-11-18T10:19:00.000+0000</td><td>97331e7e-4d04-40dc-8593-2c0dc0c5b032</td><td>NY</td><td>Station Wagon/Sport Utility Vehicle</td><td>MERZ -CAR/SUV</td><td>North</td><td>1.0</td><td>M</td><td>Licensed</td><td>NY</td><td>Parked</td><td>Left Front Bumper</td><td>Left Front Bumper</td><td>N</td><td>Driver Inattention/Distraction</td><td>Unspecified</td><td>1</td></tr><tr><td>19693538</td><td>4322263</td><td>2020-06-22</td><td>2024-11-18T11:44:00.000+0000</td><td>a476a608-c32b-435e-879f-1f1fb0727410</td><td>NY</td><td>Station Wagon/Sport Utility Vehicle</td><td>TOYT -CAR/SUV</td><td>East</td><td>1.0</td><td>M</td><td>Licensed</td><td>NY</td><td>Making Left Turn</td><td>Right Side Doors</td><td>Right Side Doors</td><td>N</td><td>Failure to Yield Right-of-Way</td><td>Unspecified</td><td>3</td></tr><tr><td>19693856</td><td>4322497</td><td>2020-06-22</td><td>2024-11-18T01:30:00.000+0000</td><td>669ca3be-cf2a-4011-9b16-9ccc9498b409</td><td>NY</td><td>Taxi</td><td>TOYT -CAR/SUV</td><td>North</td><td>1.0</td><td>M</td><td>Licensed</td><td>NY</td><td>Going Straight Ahead</td><td>Left Front Quarter Panel</td><td>Left Front Quarter Panel</td><td>N</td><td>Unspecified</td><td>Unspecified</td><td>1</td></tr><tr><td>19693317</td><td>4322245</td><td>2020-06-22</td><td>2024-11-18T10:00:00.000+0000</td><td>b2a80c17-b76d-4e85-9a4e-b607f46a253c</td><td>NY</td><td>Dump</td><td>BESON</td><td>West</td><td>1.0</td><td>M</td><td>Licensed</td><td>NY</td><td>Going Straight Ahead</td><td>Left Front Bumper</td><td>Left Front Bumper</td><td>N</td><td>Driver Inattention/Distraction</td><td>Unspecified</td><td>4</td></tr><tr><td>20668499</td><td>4732902</td><td>2024-05-21</td><td>2024-11-18T08:00:00.000+0000</td><td>efad751c-62c9-4182-9269-8996baeec300</td><td>PA</td><td>Sedan</td><td>BMW -CAR/SUV</td><td>West</td><td>1.0</td><td>M</td><td>Permit</td><td>NJ</td><td>Making Left Turn</td><td>Right Rear Quarter Panel</td><td>Right Rear Quarter Panel</td><td>N</td><td>Unspecified</td><td>Unspecified</td><td>4</td></tr><tr><td>19693666</td><td>4322423</td><td>2020-06-22</td><td>2024-11-18T14:30:00.000+0000</td><td>c3fa4d41-805f-446b-9240-4f0b60f3483d</td><td>NJ</td><td>Station Wagon/Sport Utility Vehicle</td><td>CADI -CAR/SUV</td><td>North</td><td>4.0</td><td>M</td><td>Licensed</td><td>NJ</td><td>Going Straight Ahead</td><td>Center Back End</td><td>Center Back End</td><td>N</td><td>Other Vehicular</td><td>Other Vehicular</td><td>1</td></tr><tr><td>20666624</td><td>4732250</td><td>2024-06-12</td><td>2024-11-18T09:39:00.000+0000</td><td>1a811da2-95ab-4ec3-b633-5abb3eb5e114</td><td>NY</td><td>Sedan</td><td>BMW -CAR/SUV</td><td>South</td><td>1.0</td><td>M</td><td>Licensed</td><td>NY</td><td>Going Straight Ahead</td><td>Center Front End</td><td>Center Front End</td><td>N</td><td>Pedestrian/Bicyclist/Other Pedestrian Error/Confusion</td><td>Unspecified</td><td>2</td></tr><tr><td>19694499</td><td>4322780</td><td>2020-06-06</td><td>2024-11-18T12:00:00.000+0000</td><td>227e8966-faff-4903-8383-0c1feb4fe212</td><td>NC</td><td>Station Wagon/Sport Utility Vehicle</td><td>GMC -CAR/SUV</td><td>West</td><td>1.0</td><td>M</td><td>Licensed</td><td>NC</td><td>Going Straight Ahead</td><td>Center Front End</td><td>Center Front End</td><td>N</td><td>Following Too Closely</td><td>Driver Inattention/Distraction</td><td>4</td></tr><tr><td>20666833</td><td>4732171</td><td>2024-06-12</td><td>2024-11-18T08:52:00.000+0000</td><td>6e61bd27-29b7-4972-8ecb-8cccc4050317</td><td>NY</td><td>Station Wagon/Sport Utility Vehicle</td><td>HYUN -CAR/SUV</td><td>North</td><td>3.0</td><td>F</td><td>Licensed</td><td>NY</td><td>Going Straight Ahead</td><td>Right Front Bumper</td><td>Right Front Bumper</td><td>N</td><td>Unspecified</td><td>Unspecified</td><td>1</td></tr></tbody></table></div>"
      ]
     },
     "metadata": {
      "application/vnd.databricks.v1+output": {
       "addedWidgets": {},
       "aggData": [],
       "aggError": "",
       "aggOverflow": false,
       "aggSchema": [],
       "aggSeriesLimitReached": false,
       "aggType": "",
       "arguments": {},
       "columnCustomDisplayInfos": {},
       "data": [
        [
         19693299,
         4322349,
         "2020-06-22",
         "2024-11-18T18:10:00.000+0000",
         "7675ccbe-68b6-4842-8998-ebe005cc0d5d",
         "NY",
         "Van",
         "TOYT-TRUCK/BUS",
         "East",
         1.0,
         "M",
         "Licensed",
         "NY",
         "Going Straight Ahead",
         "Right Side Doors",
         "Right Side Doors",
         "N",
         "Other Vehicular",
         "Other Vehicular",
         3
        ],
        [
         19693330,
         4322338,
         "2020-06-22",
         "2024-11-18T10:19:00.000+0000",
         "97331e7e-4d04-40dc-8593-2c0dc0c5b032",
         "NY",
         "Station Wagon/Sport Utility Vehicle",
         "MERZ -CAR/SUV",
         "North",
         1.0,
         "M",
         "Licensed",
         "NY",
         "Parked",
         "Left Front Bumper",
         "Left Front Bumper",
         "N",
         "Driver Inattention/Distraction",
         "Unspecified",
         1
        ],
        [
         19693538,
         4322263,
         "2020-06-22",
         "2024-11-18T11:44:00.000+0000",
         "a476a608-c32b-435e-879f-1f1fb0727410",
         "NY",
         "Station Wagon/Sport Utility Vehicle",
         "TOYT -CAR/SUV",
         "East",
         1.0,
         "M",
         "Licensed",
         "NY",
         "Making Left Turn",
         "Right Side Doors",
         "Right Side Doors",
         "N",
         "Failure to Yield Right-of-Way",
         "Unspecified",
         3
        ],
        [
         19693856,
         4322497,
         "2020-06-22",
         "2024-11-18T01:30:00.000+0000",
         "669ca3be-cf2a-4011-9b16-9ccc9498b409",
         "NY",
         "Taxi",
         "TOYT -CAR/SUV",
         "North",
         1.0,
         "M",
         "Licensed",
         "NY",
         "Going Straight Ahead",
         "Left Front Quarter Panel",
         "Left Front Quarter Panel",
         "N",
         "Unspecified",
         "Unspecified",
         1
        ],
        [
         19693317,
         4322245,
         "2020-06-22",
         "2024-11-18T10:00:00.000+0000",
         "b2a80c17-b76d-4e85-9a4e-b607f46a253c",
         "NY",
         "Dump",
         "BESON",
         "West",
         1.0,
         "M",
         "Licensed",
         "NY",
         "Going Straight Ahead",
         "Left Front Bumper",
         "Left Front Bumper",
         "N",
         "Driver Inattention/Distraction",
         "Unspecified",
         4
        ],
        [
         20668499,
         4732902,
         "2024-05-21",
         "2024-11-18T08:00:00.000+0000",
         "efad751c-62c9-4182-9269-8996baeec300",
         "PA",
         "Sedan",
         "BMW -CAR/SUV",
         "West",
         1.0,
         "M",
         "Permit",
         "NJ",
         "Making Left Turn",
         "Right Rear Quarter Panel",
         "Right Rear Quarter Panel",
         "N",
         "Unspecified",
         "Unspecified",
         4
        ],
        [
         19693666,
         4322423,
         "2020-06-22",
         "2024-11-18T14:30:00.000+0000",
         "c3fa4d41-805f-446b-9240-4f0b60f3483d",
         "NJ",
         "Station Wagon/Sport Utility Vehicle",
         "CADI -CAR/SUV",
         "North",
         4.0,
         "M",
         "Licensed",
         "NJ",
         "Going Straight Ahead",
         "Center Back End",
         "Center Back End",
         "N",
         "Other Vehicular",
         "Other Vehicular",
         1
        ],
        [
         20666624,
         4732250,
         "2024-06-12",
         "2024-11-18T09:39:00.000+0000",
         "1a811da2-95ab-4ec3-b633-5abb3eb5e114",
         "NY",
         "Sedan",
         "BMW -CAR/SUV",
         "South",
         1.0,
         "M",
         "Licensed",
         "NY",
         "Going Straight Ahead",
         "Center Front End",
         "Center Front End",
         "N",
         "Pedestrian/Bicyclist/Other Pedestrian Error/Confusion",
         "Unspecified",
         2
        ],
        [
         19694499,
         4322780,
         "2020-06-06",
         "2024-11-18T12:00:00.000+0000",
         "227e8966-faff-4903-8383-0c1feb4fe212",
         "NC",
         "Station Wagon/Sport Utility Vehicle",
         "GMC -CAR/SUV",
         "West",
         1.0,
         "M",
         "Licensed",
         "NC",
         "Going Straight Ahead",
         "Center Front End",
         "Center Front End",
         "N",
         "Following Too Closely",
         "Driver Inattention/Distraction",
         4
        ],
        [
         20666833,
         4732171,
         "2024-06-12",
         "2024-11-18T08:52:00.000+0000",
         "6e61bd27-29b7-4972-8ecb-8cccc4050317",
         "NY",
         "Station Wagon/Sport Utility Vehicle",
         "HYUN -CAR/SUV",
         "North",
         3.0,
         "F",
         "Licensed",
         "NY",
         "Going Straight Ahead",
         "Right Front Bumper",
         "Right Front Bumper",
         "N",
         "Unspecified",
         "Unspecified",
         1
        ]
       ],
       "datasetInfos": [],
       "dbfsResultPath": null,
       "isJsonSchema": true,
       "metadata": {},
       "overflow": false,
       "plotOptions": {
        "customPlotOptions": {},
        "displayType": "table",
        "pivotAggregation": null,
        "pivotColumns": null,
        "xColumns": null,
        "yColumns": null
       },
       "removedWidgets": [],
       "schema": [
        {
         "metadata": "{}",
         "name": "UNIQUE_ID",
         "type": "\"integer\""
        },
        {
         "metadata": "{}",
         "name": "COLLISION_ID",
         "type": "\"integer\""
        },
        {
         "metadata": "{\"__detected_date_formats\":\"yyyy-M-d\"}",
         "name": "CRASH_DATE",
         "type": "\"date\""
        },
        {
         "metadata": "{}",
         "name": "CRASH_TIME",
         "type": "\"timestamp\""
        },
        {
         "metadata": "{}",
         "name": "VEHICLE_ID",
         "type": "\"string\""
        },
        {
         "metadata": "{}",
         "name": "STATE_REGISTRATION",
         "type": "\"string\""
        },
        {
         "metadata": "{}",
         "name": "VEHICLE_TYPE",
         "type": "\"string\""
        },
        {
         "metadata": "{}",
         "name": "VEHICLE_MAKE",
         "type": "\"string\""
        },
        {
         "metadata": "{}",
         "name": "TRAVEL_DIRECTION",
         "type": "\"string\""
        },
        {
         "metadata": "{}",
         "name": "VEHICLE_OCCUPANTS",
         "type": "\"double\""
        },
        {
         "metadata": "{}",
         "name": "DRIVER_SEX",
         "type": "\"string\""
        },
        {
         "metadata": "{}",
         "name": "DRIVER_LICENSE_STATUS",
         "type": "\"string\""
        },
        {
         "metadata": "{}",
         "name": "DRIVER_LICENSE_JURISDICTION",
         "type": "\"string\""
        },
        {
         "metadata": "{}",
         "name": "PRE_CRASH",
         "type": "\"string\""
        },
        {
         "metadata": "{}",
         "name": "POINT_OF_IMPACT",
         "type": "\"string\""
        },
        {
         "metadata": "{}",
         "name": "VEHICLE_DAMAGE",
         "type": "\"string\""
        },
        {
         "metadata": "{}",
         "name": "PUBLIC_PROPERTY_DAMAGE",
         "type": "\"string\""
        },
        {
         "metadata": "{}",
         "name": "CONTRIBUTING_FACTOR_1",
         "type": "\"string\""
        },
        {
         "metadata": "{}",
         "name": "CONTRIBUTING_FACTOR_2",
         "type": "\"string\""
        },
        {
         "metadata": "{}",
         "name": "TRAVEL_DIRECTION_CODE",
         "type": "\"integer\""
        }
       ],
       "type": "table"
      }
     },
     "output_type": "display_data"
    }
   ],
   "source": [
    "%sql\n",
    "SELECT * FROM motor_vehicle_collisions LIMIT 10;\n"
   ]
  },
  {
   "cell_type": "code",
   "execution_count": 0,
   "metadata": {
    "application/vnd.databricks.v1+cell": {
     "cellMetadata": {
      "byteLimit": 2048000,
      "implicitDf": true,
      "rowLimit": 10000
     },
     "inputWidgets": {},
     "nuid": "32d87270-e484-4380-9020-5942b41a9d88",
     "showTitle": false,
     "tableResultSettingsMap": {},
     "title": ""
    }
   },
   "outputs": [
    {
     "output_type": "display_data",
     "data": {
      "text/html": [
       "<style scoped>\n",
       "  .table-result-container {\n",
       "    max-height: 300px;\n",
       "    overflow: auto;\n",
       "  }\n",
       "  table, th, td {\n",
       "    border: 1px solid black;\n",
       "    border-collapse: collapse;\n",
       "  }\n",
       "  th, td {\n",
       "    padding: 5px;\n",
       "  }\n",
       "  th {\n",
       "    text-align: left;\n",
       "  }\n",
       "</style><div class='table-result-container'><table class='table-result'><thead style='background-color: white'><tr><th>VEHICLE_OCCUPANTS</th><th>TOTAL_CRASHES</th></tr></thead><tbody><tr><td>1.0</td><td>411419</td></tr><tr><td>2.0</td><td>102653</td></tr><tr><td>3.0</td><td>29482</td></tr><tr><td>4.0</td><td>11199</td></tr><tr><td>5.0</td><td>4097</td></tr><tr><td>6.0</td><td>1359</td></tr><tr><td>7.0</td><td>615</td></tr><tr><td>8.0</td><td>368</td></tr><tr><td>9.0</td><td>260</td></tr><tr><td>10.0</td><td>208</td></tr><tr><td>11.0</td><td>162</td></tr><tr><td>12.0</td><td>110</td></tr><tr><td>13.0</td><td>94</td></tr><tr><td>14.0</td><td>70</td></tr><tr><td>15.0</td><td>78</td></tr><tr><td>16.0</td><td>49</td></tr><tr><td>17.0</td><td>34</td></tr><tr><td>18.0</td><td>23</td></tr><tr><td>19.0</td><td>15</td></tr><tr><td>20.0</td><td>32</td></tr><tr><td>21.0</td><td>15</td></tr><tr><td>22.0</td><td>8</td></tr><tr><td>23.0</td><td>9</td></tr><tr><td>24.0</td><td>8</td></tr><tr><td>25.0</td><td>17</td></tr><tr><td>26.0</td><td>7</td></tr><tr><td>27.0</td><td>8</td></tr><tr><td>28.0</td><td>7</td></tr><tr><td>29.0</td><td>7</td></tr><tr><td>30.0</td><td>12</td></tr><tr><td>31.0</td><td>11</td></tr><tr><td>32.0</td><td>7</td></tr><tr><td>33.0</td><td>10</td></tr><tr><td>34.0</td><td>4</td></tr><tr><td>35.0</td><td>10</td></tr><tr><td>36.0</td><td>4</td></tr><tr><td>37.0</td><td>3</td></tr><tr><td>38.0</td><td>3</td></tr><tr><td>39.0</td><td>4</td></tr><tr><td>40.0</td><td>8</td></tr><tr><td>41.0</td><td>7</td></tr><tr><td>42.0</td><td>4</td></tr><tr><td>43.0</td><td>2</td></tr><tr><td>44.0</td><td>3</td></tr><tr><td>45.0</td><td>4</td></tr><tr><td>47.0</td><td>1</td></tr><tr><td>48.0</td><td>1</td></tr><tr><td>49.0</td><td>2</td></tr><tr><td>50.0</td><td>3</td></tr><tr><td>51.0</td><td>1</td></tr><tr><td>53.0</td><td>3</td></tr><tr><td>54.0</td><td>1</td></tr><tr><td>55.0</td><td>2</td></tr><tr><td>59.0</td><td>1</td></tr><tr><td>60.0</td><td>2</td></tr><tr><td>65.0</td><td>1</td></tr><tr><td>75.0</td><td>2</td></tr><tr><td>80.0</td><td>2</td></tr><tr><td>81.0</td><td>1</td></tr><tr><td>91.0</td><td>1</td></tr><tr><td>99.0</td><td>1</td></tr><tr><td>100.0</td><td>3</td></tr><tr><td>101.0</td><td>1</td></tr><tr><td>111.0</td><td>1</td></tr><tr><td>135.0</td><td>1</td></tr><tr><td>148.0</td><td>2</td></tr><tr><td>169.0</td><td>1</td></tr><tr><td>263.0</td><td>1</td></tr><tr><td>326.0</td><td>3</td></tr><tr><td>328.0</td><td>2</td></tr><tr><td>382.0</td><td>1</td></tr><tr><td>413.0</td><td>1</td></tr><tr><td>639.0</td><td>5</td></tr><tr><td>678.0</td><td>1</td></tr><tr><td>693.0</td><td>1</td></tr><tr><td>737.0</td><td>1</td></tr><tr><td>743.0</td><td>1</td></tr><tr><td>769.0</td><td>1</td></tr><tr><td>9999.0</td><td>1</td></tr><tr><td>24260.0</td><td>1</td></tr><tr><td>5292023.0</td><td>1</td></tr><tr><td>9.9999999E7</td><td>1</td></tr><tr><td>9.81990849E8</td><td>1</td></tr></tbody></table></div>"
      ]
     },
     "metadata": {
      "application/vnd.databricks.v1+output": {
       "addedWidgets": {},
       "aggData": [],
       "aggError": "",
       "aggOverflow": false,
       "aggSchema": [],
       "aggSeriesLimitReached": false,
       "aggType": "",
       "arguments": {},
       "columnCustomDisplayInfos": {},
       "data": [
        [
         1.0,
         411419
        ],
        [
         2.0,
         102653
        ],
        [
         3.0,
         29482
        ],
        [
         4.0,
         11199
        ],
        [
         5.0,
         4097
        ],
        [
         6.0,
         1359
        ],
        [
         7.0,
         615
        ],
        [
         8.0,
         368
        ],
        [
         9.0,
         260
        ],
        [
         10.0,
         208
        ],
        [
         11.0,
         162
        ],
        [
         12.0,
         110
        ],
        [
         13.0,
         94
        ],
        [
         14.0,
         70
        ],
        [
         15.0,
         78
        ],
        [
         16.0,
         49
        ],
        [
         17.0,
         34
        ],
        [
         18.0,
         23
        ],
        [
         19.0,
         15
        ],
        [
         20.0,
         32
        ],
        [
         21.0,
         15
        ],
        [
         22.0,
         8
        ],
        [
         23.0,
         9
        ],
        [
         24.0,
         8
        ],
        [
         25.0,
         17
        ],
        [
         26.0,
         7
        ],
        [
         27.0,
         8
        ],
        [
         28.0,
         7
        ],
        [
         29.0,
         7
        ],
        [
         30.0,
         12
        ],
        [
         31.0,
         11
        ],
        [
         32.0,
         7
        ],
        [
         33.0,
         10
        ],
        [
         34.0,
         4
        ],
        [
         35.0,
         10
        ],
        [
         36.0,
         4
        ],
        [
         37.0,
         3
        ],
        [
         38.0,
         3
        ],
        [
         39.0,
         4
        ],
        [
         40.0,
         8
        ],
        [
         41.0,
         7
        ],
        [
         42.0,
         4
        ],
        [
         43.0,
         2
        ],
        [
         44.0,
         3
        ],
        [
         45.0,
         4
        ],
        [
         47.0,
         1
        ],
        [
         48.0,
         1
        ],
        [
         49.0,
         2
        ],
        [
         50.0,
         3
        ],
        [
         51.0,
         1
        ],
        [
         53.0,
         3
        ],
        [
         54.0,
         1
        ],
        [
         55.0,
         2
        ],
        [
         59.0,
         1
        ],
        [
         60.0,
         2
        ],
        [
         65.0,
         1
        ],
        [
         75.0,
         2
        ],
        [
         80.0,
         2
        ],
        [
         81.0,
         1
        ],
        [
         91.0,
         1
        ],
        [
         99.0,
         1
        ],
        [
         100.0,
         3
        ],
        [
         101.0,
         1
        ],
        [
         111.0,
         1
        ],
        [
         135.0,
         1
        ],
        [
         148.0,
         2
        ],
        [
         169.0,
         1
        ],
        [
         263.0,
         1
        ],
        [
         326.0,
         3
        ],
        [
         328.0,
         2
        ],
        [
         382.0,
         1
        ],
        [
         413.0,
         1
        ],
        [
         639.0,
         5
        ],
        [
         678.0,
         1
        ],
        [
         693.0,
         1
        ],
        [
         737.0,
         1
        ],
        [
         743.0,
         1
        ],
        [
         769.0,
         1
        ],
        [
         9999.0,
         1
        ],
        [
         24260.0,
         1
        ],
        [
         5292023.0,
         1
        ],
        [
         9.9999999E7,
         1
        ],
        [
         9.81990849E8,
         1
        ]
       ],
       "datasetInfos": [],
       "dbfsResultPath": null,
       "isJsonSchema": true,
       "metadata": {},
       "overflow": false,
       "plotOptions": {
        "customPlotOptions": {},
        "displayType": "table",
        "pivotAggregation": null,
        "pivotColumns": null,
        "xColumns": null,
        "yColumns": null
       },
       "removedWidgets": [],
       "schema": [
        {
         "metadata": "{}",
         "name": "VEHICLE_OCCUPANTS",
         "type": "\"double\""
        },
        {
         "metadata": "{}",
         "name": "TOTAL_CRASHES",
         "type": "\"long\""
        }
       ],
       "type": "table"
      }
     },
     "output_type": "display_data"
    }
   ],
   "source": [
    "%sql\n",
    "SELECT \n",
    "    VEHICLE_OCCUPANTS, \n",
    "    COUNT(*) AS TOTAL_CRASHES\n",
    "FROM motor_vehicle_collisions\n",
    "GROUP BY VEHICLE_OCCUPANTS\n",
    "ORDER BY VEHICLE_OCCUPANTS;\n"
   ]
  },
  {
   "cell_type": "code",
   "execution_count": 0,
   "metadata": {
    "application/vnd.databricks.v1+cell": {
     "cellMetadata": {
      "byteLimit": 2048000,
      "implicitDf": true,
      "rowLimit": 10000
     },
     "inputWidgets": {},
     "nuid": "1ef84456-2e6c-451b-840d-4bdf3df006a6",
     "showTitle": false,
     "tableResultSettingsMap": {},
     "title": ""
    }
   },
   "outputs": [
    {
     "output_type": "display_data",
     "data": {
      "text/html": [
       "<style scoped>\n",
       "  .table-result-container {\n",
       "    max-height: 300px;\n",
       "    overflow: auto;\n",
       "  }\n",
       "  table, th, td {\n",
       "    border: 1px solid black;\n",
       "    border-collapse: collapse;\n",
       "  }\n",
       "  th, td {\n",
       "    padding: 5px;\n",
       "  }\n",
       "  th {\n",
       "    text-align: left;\n",
       "  }\n",
       "</style><div class='table-result-container'><table class='table-result'><thead style='background-color: white'><tr><th>VEHICLE_TYPE</th><th>TOTAL_CRASHES</th></tr></thead><tbody><tr><td>Sedan</td><td>259738</td></tr><tr><td>Station Wagon/Sport Utility Vehicle</td><td>201161</td></tr><tr><td>Taxi</td><td>17238</td></tr><tr><td>Pick-up Truck</td><td>14153</td></tr><tr><td>Box Truck</td><td>13776</td></tr><tr><td>Bus</td><td>12992</td></tr><tr><td>Tractor Truck Diesel</td><td>6234</td></tr><tr><td>Motorcycle</td><td>5241</td></tr><tr><td>Van</td><td>4010</td></tr><tr><td>Ambulance</td><td>3758</td></tr><tr><td>Dump</td><td>2560</td></tr><tr><td>Moped</td><td>1828</td></tr><tr><td>Garbage or Refuse</td><td>1478</td></tr><tr><td>Flat Bed</td><td>1456</td></tr><tr><td>PK</td><td>1427</td></tr><tr><td>Convertible</td><td>1334</td></tr><tr><td>Bike</td><td>1062</td></tr><tr><td>Carry All</td><td>1024</td></tr><tr><td>Tractor Truck Gasoline</td><td>885</td></tr><tr><td>Tow Truck / Wrecker</td><td>796</td></tr><tr><td>Chassis Cab</td><td>653</td></tr><tr><td>E-Bike</td><td>608</td></tr><tr><td>AMBULANCE</td><td>597</td></tr><tr><td>E-Scooter</td><td>514</td></tr><tr><td>Tanker</td><td>511</td></tr><tr><td>4 dr sedan</td><td>482</td></tr><tr><td>Motorscooter</td><td>435</td></tr><tr><td>LIMO</td><td>315</td></tr><tr><td>Motorbike</td><td>296</td></tr><tr><td>Concrete Mixer</td><td>262</td></tr><tr><td>subn</td><td>246</td></tr><tr><td>Flat Rack</td><td>229</td></tr><tr><td>3-Door</td><td>198</td></tr><tr><td>Armored Truck</td><td>181</td></tr><tr><td>FIRE TRUCK</td><td>157</td></tr><tr><td>Refrigerated Van</td><td>151</td></tr><tr><td>van</td><td>142</td></tr><tr><td>Beverage Truck</td><td>137</td></tr><tr><td>Stake or Rack</td><td>130</td></tr><tr><td>Lift Boom</td><td>127</td></tr><tr><td>School Bus</td><td>120</td></tr><tr><td>Multi-Wheeled Vehicle</td><td>91</td></tr><tr><td>ambulance</td><td>90</td></tr><tr><td>Pedicab</td><td>84</td></tr><tr><td>Open Body</td><td>75</td></tr><tr><td>Snow Plow</td><td>71</td></tr><tr><td>MOPED</td><td>71</td></tr><tr><td>TRUCK</td><td>68</td></tr><tr><td>TRAILER</td><td>64</td></tr><tr><td>FIRETRUCK</td><td>59</td></tr><tr><td>TOW TRUCK</td><td>52</td></tr><tr><td>AMBU</td><td>49</td></tr><tr><td>Truck</td><td>48</td></tr><tr><td>Bulk Agriculture</td><td>47</td></tr><tr><td>FDNY AMBUL</td><td>41</td></tr><tr><td>Fire truck</td><td>39</td></tr><tr><td>SCHOOL BUS</td><td>38</td></tr><tr><td>Fire Truck</td><td>37</td></tr><tr><td>Trailer</td><td>37</td></tr><tr><td>Tow Truck</td><td>36</td></tr><tr><td>BOX TRUCK</td><td>35</td></tr><tr><td>FDNY FIRE</td><td>33</td></tr><tr><td>GARBAGE TR</td><td>32</td></tr><tr><td>COMMERCIAL</td><td>31</td></tr><tr><td>2 dr sedan</td><td>30</td></tr><tr><td>FDNY TRUCK</td><td>30</td></tr><tr><td>COM</td><td>29</td></tr><tr><td>PICK UP</td><td>29</td></tr><tr><td>FDNY</td><td>27</td></tr><tr><td>Pallet</td><td>26</td></tr><tr><td>Pickup with mounted Camper</td><td>26</td></tr><tr><td>Hopper</td><td>25</td></tr><tr><td>DELV</td><td>24</td></tr><tr><td>DUMP</td><td>24</td></tr><tr><td>MTA BUS</td><td>24</td></tr><tr><td>Commercial</td><td>23</td></tr><tr><td>DUMP TRUCK</td><td>23</td></tr><tr><td>UTILITY</td><td>21</td></tr><tr><td>Lunch Wagon</td><td>21</td></tr><tr><td>Firetruck</td><td>21</td></tr><tr><td>AMB</td><td>20</td></tr><tr><td>UTIL</td><td>20</td></tr><tr><td>trailer</td><td>20</td></tr><tr><td>fire truck</td><td>19</td></tr><tr><td>Box truck</td><td>19</td></tr><tr><td>PAS</td><td>18</td></tr><tr><td>SANITATION</td><td>18</td></tr><tr><td>pick</td><td>18</td></tr><tr><td>PICK UP TR</td><td>17</td></tr><tr><td>Sanitation</td><td>17</td></tr><tr><td>c1</td><td>17</td></tr><tr><td>Minibike</td><td>16</td></tr><tr><td>ROAD SWEEP</td><td>16</td></tr><tr><td>truck</td><td>16</td></tr><tr><td>School bus</td><td>16</td></tr><tr><td>moped</td><td>15</td></tr><tr><td>bus</td><td>15</td></tr><tr><td>PICKUP</td><td>15</td></tr><tr><td>VAN TRUCK</td><td>15</td></tr><tr><td>STREET SWE</td><td>14</td></tr><tr><td>FDNY Ambul</td><td>14</td></tr><tr><td>DELIVERY T</td><td>14</td></tr><tr><td>TRACTOR</td><td>14</td></tr><tr><td>PSD</td><td>13</td></tr><tr><td>REFG</td><td>12</td></tr><tr><td>Minicycle</td><td>12</td></tr><tr><td>POWER SHOV</td><td>12</td></tr><tr><td>Sprinter V</td><td>11</td></tr><tr><td>Van Camper</td><td>11</td></tr><tr><td>FORKLIFT</td><td>11</td></tr><tr><td>F550</td><td>11</td></tr><tr><td>TRAC</td><td>11</td></tr><tr><td>FLAT</td><td>11</td></tr><tr><td>TRACTOR TR</td><td>11</td></tr><tr><td>Pick up tr</td><td>11</td></tr><tr><td>SPRINTER V</td><td>10</td></tr><tr><td>Delivery</td><td>10</td></tr><tr><td>Enclosed Body - Nonremovable Enclosure</td><td>10</td></tr><tr><td>FIRE ENGIN</td><td>10</td></tr><tr><td>C1</td><td>10</td></tr><tr><td>commercial</td><td>9</td></tr><tr><td>firetruck</td><td>9</td></tr><tr><td>EMS</td><td>9</td></tr><tr><td>DELIVERY</td><td>9</td></tr><tr><td>box truck</td><td>9</td></tr><tr><td>PICK-UP TR</td><td>9</td></tr><tr><td>Tow truck</td><td>9</td></tr><tr><td>PASSENGER</td><td>9</td></tr><tr><td>FDNY LADDE</td><td>8</td></tr><tr><td>FDNY Truck</td><td>8</td></tr><tr><td>school bus</td><td>8</td></tr><tr><td>Dump truck</td><td>8</td></tr><tr><td>FLATBED</td><td>8</td></tr><tr><td>SUV</td><td>8</td></tr><tr><td>USPS TRUCK</td><td>8</td></tr><tr><td>Motorized Home</td><td>8</td></tr><tr><td>UTILITY TR</td><td>8</td></tr><tr><td>SUBURBAN</td><td>8</td></tr><tr><td>Pick up</td><td>8</td></tr><tr><td>STAK</td><td>7</td></tr><tr><td>Enclosed Body - Removable Enclosure</td><td>7</td></tr><tr><td>AMBULENCE</td><td>7</td></tr><tr><td>Pickup</td><td>7</td></tr><tr><td>Scooter</td><td>7</td></tr><tr><td>Vanette</td><td>7</td></tr><tr><td>FDNY FIRET</td><td>7</td></tr><tr><td>Utility</td><td>7</td></tr><tr><td>PICKUP TRU</td><td>7</td></tr><tr><td>RV</td><td>7</td></tr><tr><td>FIRE</td><td>7</td></tr><tr><td>SCOOTER</td><td>7</td></tr><tr><td>UTILITY VE</td><td>6</td></tr><tr><td>USPS</td><td>6</td></tr><tr><td>Livestock Rack</td><td>6</td></tr><tr><td>Tractor</td><td>6</td></tr><tr><td>UNKNOWN</td><td>6</td></tr><tr><td>FDNY EMS</td><td>6</td></tr><tr><td>Street Swe</td><td>6</td></tr><tr><td>FDNY ENGIN</td><td>6</td></tr><tr><td>FDNY truck</td><td>6</td></tr><tr><td>ambu</td><td>6</td></tr><tr><td>HORSE CARR</td><td>6</td></tr><tr><td>tow truck</td><td>6</td></tr><tr><td>FORD</td><td>6</td></tr><tr><td>MTA</td><td>6</td></tr><tr><td>WORK VAN</td><td>6</td></tr><tr><td>garbage tr</td><td>6</td></tr><tr><td>NYS AMBULA</td><td>6</td></tr><tr><td>POSTAL TRU</td><td>6</td></tr><tr><td>TANK</td><td>6</td></tr><tr><td>Garbage tr</td><td>6</td></tr><tr><td>Tk</td><td>5</td></tr><tr><td>com</td><td>5</td></tr><tr><td>Log</td><td>5</td></tr><tr><td>Well Driller</td><td>5</td></tr><tr><td>UPS TRUCK</td><td>5</td></tr><tr><td>MAIL TRUCK</td><td>5</td></tr><tr><td>Sprinter v</td><td>5</td></tr><tr><td>Tractor tr</td><td>5</td></tr><tr><td>E-SCOOTER</td><td>5</td></tr><tr><td>Garbage Tr</td><td>5</td></tr><tr><td>DELIVERY V</td><td>5</td></tr><tr><td>Glass Rack</td><td>5</td></tr><tr><td>SELF INSUR</td><td>5</td></tr><tr><td>Suburban</td><td>5</td></tr><tr><td>Amb</td><td>5</td></tr><tr><td>MTA Bus</td><td>5</td></tr><tr><td>Road sweep</td><td>5</td></tr><tr><td>Tow</td><td>5</td></tr><tr><td>UNK</td><td>5</td></tr><tr><td>taxi</td><td>5</td></tr><tr><td>SPC</td><td>4</td></tr><tr><td>Courier</td><td>4</td></tr><tr><td>utility</td><td>4</td></tr><tr><td>USPS Truck</td><td>4</td></tr><tr><td>tk</td><td>4</td></tr><tr><td>Passenger</td><td>4</td></tr><tr><td>ICE CREAM</td><td>4</td></tr><tr><td>MOTORCYCLE</td><td>4</td></tr><tr><td>road sweep</td><td>4</td></tr><tr><td>dump truck</td><td>4</td></tr><tr><td>TRAILOR</td><td>4</td></tr><tr><td>pickup</td><td>4</td></tr><tr><td>CMIX</td><td>4</td></tr><tr><td>NYC SANITA</td><td>4</td></tr><tr><td>NYC TRANSI</td><td>4</td></tr><tr><td>NYC AMBULA</td><td>4</td></tr><tr><td>C3</td><td>4</td></tr><tr><td>Pickup tru</td><td>4</td></tr><tr><td>power shov</td><td>4</td></tr><tr><td>Power shov</td><td>4</td></tr><tr><td>OTHER</td><td>4</td></tr><tr><td>MACK</td><td>4</td></tr><tr><td>AMBULETTE</td><td>4</td></tr><tr><td>TRK</td><td>4</td></tr><tr><td>Subn</td><td>4</td></tr><tr><td>tr</td><td>4</td></tr><tr><td>tractor tr</td><td>4</td></tr><tr><td>Road Sweep</td><td>4</td></tr><tr><td>FDNY Fire</td><td>4</td></tr><tr><td>FREIGHTLIN</td><td>4</td></tr><tr><td>RMP</td><td>4</td></tr><tr><td>l1</td><td>4</td></tr><tr><td>Fdny ambul</td><td>4</td></tr><tr><td>mta bus</td><td>4</td></tr><tr><td>CARGO VAN</td><td>4</td></tr><tr><td>MOTOR SCOO</td><td>4</td></tr><tr><td>tow</td><td>4</td></tr><tr><td>c3</td><td>4</td></tr><tr><td>Self Insur</td><td>4</td></tr><tr><td>Flatbed</td><td>3</td></tr><tr><td>SEMI</td><td>3</td></tr><tr><td>postal tru</td><td>3</td></tr><tr><td>RAM</td><td>3</td></tr><tr><td>G AMB</td><td>3</td></tr><tr><td>Sweeper</td><td>3</td></tr><tr><td>I1</td><td>3</td></tr><tr><td>SEDAN</td><td>3</td></tr><tr><td>Tractor Tr</td><td>3</td></tr><tr><td>COMMERICAL</td><td>3</td></tr><tr><td>FDNY fire</td><td>3</td></tr><tr><td>Com</td><td>3</td></tr><tr><td>Dump Truck</td><td>3</td></tr><tr><td>FREIG</td><td>3</td></tr><tr><td>BULLDOZER</td><td>3</td></tr><tr><td>MTA bus</td><td>3</td></tr><tr><td>Pick-Up</td><td>3</td></tr><tr><td>JEEP</td><td>3</td></tr><tr><td>NYC FIRE T</td><td>3</td></tr><tr><td>Ambu</td><td>3</td></tr><tr><td>G COM</td><td>3</td></tr><tr><td>FORD VAN</td><td>3</td></tr><tr><td>GAS MOPED</td><td>3</td></tr><tr><td>utility tr</td><td>3</td></tr><tr><td>FORD TRANS</td><td>3</td></tr><tr><td>pick up</td><td>3</td></tr><tr><td>EMS TRUCK</td><td>3</td></tr><tr><td>delivery t</td><td>3</td></tr><tr><td>self insur</td><td>3</td></tr><tr><td>Delivery t</td><td>3</td></tr><tr><td>P/SH</td><td>3</td></tr><tr><td>PKUP</td><td>3</td></tr><tr><td>OMR</td><td>3</td></tr><tr><td>OMT</td><td>3</td></tr><tr><td>dump</td><td>3</td></tr><tr><td>FORK LIFT</td><td>3</td></tr><tr><td>TRL</td><td>3</td></tr><tr><td>GLBEN</td><td>3</td></tr><tr><td>Forklift</td><td>3</td></tr><tr><td>Ambulence</td><td>3</td></tr><tr><td>MC</td><td>3</td></tr><tr><td>toyot</td><td>3</td></tr><tr><td>Self insur</td><td>3</td></tr><tr><td>Street swe</td><td>3</td></tr><tr><td>wagon</td><td>3</td></tr><tr><td>FDNY ambul</td><td>3</td></tr><tr><td>Backhoe</td><td>3</td></tr><tr><td>X COM</td><td>3</td></tr><tr><td>f1</td><td>3</td></tr><tr><td>WAGON</td><td>3</td></tr><tr><td>Ford</td><td>3</td></tr><tr><td>GOVERNMENT</td><td>3</td></tr><tr><td>Cargo van</td><td>3</td></tr><tr><td>Utility ve</td><td>3</td></tr><tr><td>FORD AMBUL</td><td>3</td></tr><tr><td>COMM VAN</td><td>3</td></tr><tr><td>FLAT BED</td><td>2</td></tr><tr><td>Power Shov</td><td>2</td></tr><tr><td>Van truck</td><td>2</td></tr><tr><td>PUMPER</td><td>2</td></tr><tr><td>forklift</td><td>2</td></tr><tr><td>COURIER</td><td>2</td></tr><tr><td>BACKHOE LO</td><td>2</td></tr><tr><td>FOOD TRUCK</td><td>2</td></tr><tr><td>Bucket Tru</td><td>2</td></tr><tr><td>FREIGHT</td><td>2</td></tr><tr><td>Government</td><td>2</td></tr><tr><td>EMS Ambula</td><td>2</td></tr><tr><td>street cle</td><td>2</td></tr><tr><td>suburban</td><td>2</td></tr><tr><td>MOPD</td><td>2</td></tr><tr><td>FLATBED TR</td><td>2</td></tr><tr><td>TRUCK TRAI</td><td>2</td></tr><tr><td>usps</td><td>2</td></tr><tr><td>RD/S</td><td>2</td></tr><tr><td>sprinter v</td><td>2</td></tr><tr><td>uhaul truc</td><td>2</td></tr><tr><td>CAT</td><td>2</td></tr><tr><td>MINI VAN</td><td>2</td></tr><tr><td>government</td><td>2</td></tr><tr><td>G PSD</td><td>2</td></tr><tr><td>Work Van</td><td>2</td></tr><tr><td>Ems</td><td>2</td></tr><tr><td>REP</td><td>2</td></tr><tr><td>CEMENT TRU</td><td>2</td></tr><tr><td>AMBULACE</td><td>2</td></tr><tr><td>REVEL</td><td>2</td></tr><tr><td>Street Cle</td><td>2</td></tr><tr><td>FRT</td><td>2</td></tr><tr><td>USPS MAIL</td><td>2</td></tr><tr><td>usps truck</td><td>2</td></tr><tr><td>Sprinter</td><td>2</td></tr><tr><td>REVEL MOPE</td><td>2</td></tr><tr><td>FDNY RIG</td><td>2</td></tr><tr><td>REVEL SCOO</td><td>2</td></tr><tr><td>SCHOOL BU</td><td>2</td></tr><tr><td>VAN/TRUCK</td><td>2</td></tr><tr><td>passenger</td><td>2</td></tr><tr><td>Pickup Tru</td><td>2</td></tr><tr><td>ford</td><td>2</td></tr><tr><td>work van</td><td>2</td></tr><tr><td>MACK TRUCK</td><td>2</td></tr><tr><td>sedan</td><td>2</td></tr><tr><td>Ford Van</td><td>2</td></tr><tr><td>Freight</td><td>2</td></tr><tr><td>Toyota</td><td>2</td></tr><tr><td>TF</td><td>2</td></tr><tr><td>AMBULANE</td><td>2</td></tr><tr><td>STAKE TRUC</td><td>2</td></tr><tr><td>PC</td><td>2</td></tr><tr><td>FD TRUCK</td><td>2</td></tr><tr><td>constructi</td><td>2</td></tr><tr><td>E-BIKE</td><td>2</td></tr><tr><td>sanitation</td><td>2</td></tr><tr><td>FEDEX TRUC</td><td>2</td></tr><tr><td>Ems truck</td><td>2</td></tr><tr><td>Post offic</td><td>2</td></tr><tr><td>Grumman LL</td><td>2</td></tr><tr><td>scooter</td><td>2</td></tr><tr><td>pickup tru</td><td>2</td></tr><tr><td>Fire Engin</td><td>2</td></tr><tr><td>Pass</td><td>2</td></tr><tr><td>4dsd</td><td>2</td></tr><tr><td>MECHANICAL</td><td>2</td></tr><tr><td>H1</td><td>2</td></tr><tr><td>GEICO</td><td>2</td></tr><tr><td>FOOD CART</td><td>2</td></tr><tr><td>d3</td><td>2</td></tr><tr><td>CHEVROLET</td><td>2</td></tr><tr><td>C</td><td>2</td></tr><tr><td>TL</td><td>2</td></tr><tr><td>GOV</td><td>2</td></tr><tr><td>CON ED TRU</td><td>2</td></tr><tr><td>EMT Ambula</td><td>2</td></tr><tr><td>a</td><td>2</td></tr><tr><td>DOT VEHICL</td><td>2</td></tr><tr><td>CRANE</td><td>2</td></tr><tr><td>BOX VAN</td><td>2</td></tr><tr><td>E scooter</td><td>2</td></tr><tr><td>YELLOW BUS</td><td>2</td></tr><tr><td>Omnibus</td><td>2</td></tr><tr><td>TRANSIT VA</td><td>2</td></tr><tr><td>Van Truck</td><td>2</td></tr><tr><td>FREIGHT VA</td><td>2</td></tr><tr><td>USPS truck</td><td>2</td></tr><tr><td>CATER</td><td>2</td></tr><tr><td>Pick Up</td><td>2</td></tr><tr><td>PICK-UP</td><td>2</td></tr><tr><td>pick up tr</td><td>2</td></tr><tr><td>FIRE APPAR</td><td>2</td></tr><tr><td>FD AMBULAN</td><td>2</td></tr><tr><td>Usps</td><td>2</td></tr><tr><td>Motor Home</td><td>2</td></tr><tr><td>Postal tru</td><td>2</td></tr><tr><td>P PSD</td><td>2</td></tr><tr><td>USPS Mail</td><td>2</td></tr><tr><td>Fdny</td><td>2</td></tr><tr><td>POLICE VEH</td><td>2</td></tr><tr><td>amb</td><td>2</td></tr><tr><td>Chevy</td><td>2</td></tr><tr><td>street swe</td><td>2</td></tr><tr><td>Minivan</td><td>2</td></tr><tr><td>MINIVAN</td><td>2</td></tr><tr><td>FDNY Vehic</td><td>2</td></tr><tr><td>SP PURPOSE</td><td>2</td></tr><tr><td>NYS Ambula</td><td>2</td></tr><tr><td>d1</td><td>2</td></tr><tr><td>GOLF CART</td><td>2</td></tr><tr><td>CEMENT MIX</td><td>2</td></tr><tr><td>CHASSIS &</td><td>2</td></tr><tr><td>CONSTRUCTI</td><td>2</td></tr><tr><td>BOBCAT</td><td>2</td></tr><tr><td>BACKHOE</td><td>2</td></tr><tr><td>AMAZON TRU</td><td>2</td></tr><tr><td>e1</td><td>2</td></tr><tr><td>4</td><td>2</td></tr><tr><td>mot</td><td>2</td></tr><tr><td>MOT</td><td>2</td></tr><tr><td>NIU</td><td>1</td></tr><tr><td>Honda HRV</td><td>1</td></tr><tr><td>motorcycle</td><td>1</td></tr><tr><td>Fleet</td><td>1</td></tr><tr><td>KENWO</td><td>1</td></tr><tr><td>ford van</td><td>1</td></tr><tr><td>FLATBED FR</td><td>1</td></tr><tr><td>Fork Lift</td><td>1</td></tr><tr><td>TRUCK FLAT</td><td>1</td></tr><tr><td>MOBILE</td><td>1</td></tr><tr><td>FD LADDER</td><td>1</td></tr><tr><td>DIRTBIKE</td><td>1</td></tr><tr><td>gator</td><td>1</td></tr><tr><td>Escavator</td><td>1</td></tr><tr><td>FIRET TRUC</td><td>1</td></tr><tr><td>fdny</td><td>1</td></tr><tr><td>E SCOOTER</td><td>1</td></tr><tr><td>SMART CAR</td><td>1</td></tr><tr><td>WORKH UTIL</td><td>1</td></tr><tr><td>INTE TRUCK</td><td>1</td></tr><tr><td>Front-Load</td><td>1</td></tr><tr><td>Cargo Van</td><td>1</td></tr><tr><td>Delv</td><td>1</td></tr><tr><td>FREIGHT FL</td><td>1</td></tr><tr><td>GENAMBUL</td><td>1</td></tr><tr><td>CHEVY EXPR</td><td>1</td></tr><tr><td>BOBCAT FOR</td><td>1</td></tr><tr><td>NYPD Traff</td><td>1</td></tr><tr><td>fdny ambul</td><td>1</td></tr><tr><td>HAUL FOR H</td><td>1</td></tr><tr><td>LAWN MOWER</td><td>1</td></tr><tr><td>dilevery t</td><td>1</td></tr><tr><td>Comm Food</td><td>1</td></tr><tr><td>sanitaton</td><td>1</td></tr><tr><td>LLV MAIL T</td><td>1</td></tr><tr><td>PERM</td><td>1</td></tr><tr><td>FRHT TRAIL</td><td>1</td></tr><tr><td>FIRTRUCK</td><td>1</td></tr><tr><td>EMS ambula</td><td>1</td></tr><tr><td>Wh Ford co</td><td>1</td></tr><tr><td>SWT</td><td>1</td></tr><tr><td>Pumper</td><td>1</td></tr><tr><td>g com</td><td>1</td></tr><tr><td>SLINGSHOT</td><td>1</td></tr><tr><td>backh</td><td>1</td></tr><tr><td>transport</td><td>1</td></tr><tr><td>Ford sprin</td><td>1</td></tr><tr><td>FDNY Engin</td><td>1</td></tr><tr><td>FRIEGHTLIN</td><td>1</td></tr><tr><td>almbulance</td><td>1</td></tr><tr><td>Util.</td><td>1</td></tr><tr><td>abulance</td><td>1</td></tr><tr><td>SUBN - AMB</td><td>1</td></tr><tr><td>forlift</td><td>1</td></tr><tr><td>NYC ACS Va</td><td>1</td></tr><tr><td>JOHN DEERE</td><td>1</td></tr><tr><td>util</td><td>1</td></tr><tr><td>PEDI CAB</td><td>1</td></tr><tr><td>USPCS Truc</td><td>1</td></tr><tr><td>nyc EMS</td><td>1</td></tr><tr><td>Trac</td><td>1</td></tr><tr><td>U HAUL TRU</td><td>1</td></tr><tr><td>TRUCK VAN</td><td>1</td></tr><tr><td>J1</td><td>1</td></tr><tr><td>Ram Promas</td><td>1</td></tr><tr><td>Fedex</td><td>1</td></tr><tr><td>cargo van</td><td>1</td></tr><tr><td>Subr</td><td>1</td></tr><tr><td>Cement Tru</td><td>1</td></tr><tr><td>unk</td><td>1</td></tr><tr><td>PICKUP TOW</td><td>1</td></tr><tr><td>POSTAL SER</td><td>1</td></tr><tr><td>Ambulette</td><td>1</td></tr><tr><td>E REVEL SC</td><td>1</td></tr><tr><td>AMAZON SPR</td><td>1</td></tr><tr><td>mopd</td><td>1</td></tr><tr><td>fdny ems</td><td>1</td></tr><tr><td>fdny ladde</td><td>1</td></tr><tr><td>NYC BUS</td><td>1</td></tr><tr><td>PALFINGER</td><td>1</td></tr><tr><td>USPS TRUC,</td><td>1</td></tr><tr><td>EMERGANCY</td><td>1</td></tr><tr><td>Flat bed t</td><td>1</td></tr><tr><td>INTERNATIO</td><td>1</td></tr><tr><td>Leased amb</td><td>1</td></tr><tr><td>MTA Truck</td><td>1</td></tr><tr><td>CATAPILLAR</td><td>1</td></tr><tr><td>cross</td><td>1</td></tr><tr><td>US Govt ve</td><td>1</td></tr><tr><td>AMBULANCE`</td><td>1</td></tr><tr><td>pick-up</td><td>1</td></tr><tr><td>Dirt Bike</td><td>1</td></tr><tr><td>LADDER TRU</td><td>1</td></tr><tr><td>MTA truck</td><td>1</td></tr><tr><td>SKYWATCH</td><td>1</td></tr><tr><td>FDNY CHIEF</td><td>1</td></tr><tr><td>VAN/TRANSI</td><td>1</td></tr><tr><td>TTAILER</td><td>1</td></tr><tr><td>UT</td><td>1</td></tr><tr><td>CONST EQUI</td><td>1</td></tr><tr><td>truck trai</td><td>1</td></tr><tr><td>TRAILER/FL</td><td>1</td></tr><tr><td>ECONOLINE</td><td>1</td></tr><tr><td>Flatbed Pi</td><td>1</td></tr><tr><td>RGR</td><td>1</td></tr><tr><td>US GOVERME</td><td>1</td></tr><tr><td>post offic</td><td>1</td></tr><tr><td>comm</td><td>1</td></tr><tr><td>EXCAVATOR</td><td>1</td></tr><tr><td>MINI SCHOO</td><td>1</td></tr><tr><td>SNOW PLOWE</td><td>1</td></tr><tr><td>Fdny fire</td><td>1</td></tr><tr><td>SHUTTLE BU</td><td>1</td></tr><tr><td>Transit</td><td>1</td></tr><tr><td>DELV BR</td><td>1</td></tr><tr><td>FIRE TURCK</td><td>1</td></tr><tr><td>Front End</td><td>1</td></tr><tr><td>VAN WH</td><td>1</td></tr><tr><td>GMC DELIVE</td><td>1</td></tr><tr><td>SMYELLSCHO</td><td>1</td></tr><tr><td>Caterpilla</td><td>1</td></tr><tr><td>Bobcat</td><td>1</td></tr><tr><td>Trailer Tr</td><td>1</td></tr><tr><td>police rep</td><td>1</td></tr><tr><td>util truck</td><td>1</td></tr><tr><td>CAMPER VAN</td><td>1</td></tr><tr><td>AMUBULANCE</td><td>1</td></tr><tr><td>motor home</td><td>1</td></tr><tr><td>Ram</td><td>1</td></tr><tr><td>Mercedes</td><td>1</td></tr><tr><td>SPECIAL PU</td><td>1</td></tr><tr><td>PUMP</td><td>1</td></tr><tr><td>TRUCK COMM</td><td>1</td></tr><tr><td>CARRIER</td><td>1</td></tr><tr><td>Mack</td><td>1</td></tr><tr><td>cat payloa</td><td>1</td></tr><tr><td>Fedex Box</td><td>1</td></tr><tr><td>Busv</td><td>1</td></tr><tr><td>EC3</td><td>1</td></tr><tr><td>Horse trai</td><td>1</td></tr><tr><td>mta bus 4</td><td>1</td></tr><tr><td>TRUCK LADD</td><td>1</td></tr><tr><td>AMBUKANCE</td><td>1</td></tr><tr><td>freight tr</td><td>1</td></tr><tr><td>SW/VAN</td><td>1</td></tr><tr><td>SEMI TRAIL</td><td>1</td></tr><tr><td>Skywatch</td><td>1</td></tr><tr><td>NICE BUS</td><td>1</td></tr><tr><td>Sierra</td><td>1</td></tr><tr><td>FORD SPRIN</td><td>1</td></tr><tr><td>BOOM LIFT/</td><td>1</td></tr><tr><td>box</td><td>1</td></tr><tr><td>TRAILEE</td><td>1</td></tr><tr><td>TRAIL</td><td>1</td></tr><tr><td>basic psd</td><td>1</td></tr><tr><td>Rental Tru</td><td>1</td></tr><tr><td>POWER LADD</td><td>1</td></tr><tr><td>SCHOOL VAN</td><td>1</td></tr><tr><td>SPECIAL CO</td><td>1</td></tr><tr><td>PLOW</td><td>1</td></tr><tr><td>toolcat</td><td>1</td></tr><tr><td>E-Bik</td><td>1</td></tr><tr><td>work truck</td><td>1</td></tr><tr><td>UHAL</td><td>1</td></tr><tr><td>Fire</td><td>1</td></tr><tr><td>conedison</td><td>1</td></tr><tr><td>POSTAL VEH</td><td>1</td></tr><tr><td>SUBN TN</td><td>1</td></tr><tr><td>con ed tru</td><td>1</td></tr><tr><td>EMS/VAN</td><td>1</td></tr><tr><td>LADDER CO</td><td>1</td></tr><tr><td>NYPD VAN</td><td>1</td></tr><tr><td>AMbulance</td><td>1</td></tr><tr><td>SHORT SCHO</td><td>1</td></tr><tr><td>BACK HOE</td><td>1</td></tr><tr><td>FDNY AMBU</td><td>1</td></tr><tr><td>Cement tru</td><td>1</td></tr><tr><td>swingloade</td><td>1</td></tr><tr><td>WH</td><td>1</td></tr><tr><td>USPS MAILT</td><td>1</td></tr><tr><td>usps self</td><td>1</td></tr><tr><td>TOW4</td><td>1</td></tr><tr><td>EMS bus</td><td>1</td></tr><tr><td>Mack Truck</td><td>1</td></tr><tr><td>MARKED VAN</td><td>1</td></tr><tr><td>CO</td><td>1</td></tr><tr><td>Dodge</td><td>1</td></tr><tr><td>tractor</td><td>1</td></tr><tr><td>TRACT</td><td>1</td></tr><tr><td>TLR</td><td>1</td></tr><tr><td>AMBULCANCE</td><td>1</td></tr><tr><td>engine</td><td>1</td></tr><tr><td>PRIVATE</td><td>1</td></tr><tr><td>UPS</td><td>1</td></tr><tr><td>EMBULANCE</td><td>1</td></tr><tr><td>omt</td><td>1</td></tr><tr><td>delivery v</td><td>1</td></tr><tr><td>CITY VEHIC</td><td>1</td></tr><tr><td>mailtruck</td><td>1</td></tr><tr><td>psd</td><td>1</td></tr><tr><td>Livery Omn</td><td>1</td></tr><tr><td>PICK RD</td><td>1</td></tr><tr><td>DODGE RAM</td><td>1</td></tr><tr><td>REVEL scoo</td><td>1</td></tr><tr><td>FREIGHT TR</td><td>1</td></tr><tr><td>TLC</td><td>1</td></tr><tr><td>Pumper tru</td><td>1</td></tr><tr><td>Motor home</td><td>1</td></tr><tr><td>Self</td><td>1</td></tr><tr><td>DUMPSTER T</td><td>1</td></tr><tr><td>Pick wh</td><td>1</td></tr><tr><td>CITY</td><td>1</td></tr><tr><td>MTA NYC BU</td><td>1</td></tr><tr><td>AMBULAMCE</td><td>1</td></tr><tr><td>DEPARTMENT</td><td>1</td></tr><tr><td>BLU BUS</td><td>1</td></tr><tr><td>Piggy back</td><td>1</td></tr><tr><td>Unmarked V</td><td>1</td></tr><tr><td>MOVING TRU</td><td>1</td></tr><tr><td>FDNY Firet</td><td>1</td></tr><tr><td>postal ser</td><td>1</td></tr><tr><td>UTILITY VA</td><td>1</td></tr><tr><td>ESCAVATOR</td><td>1</td></tr><tr><td>Budget tru</td><td>1</td></tr><tr><td>White ambu</td><td>1</td></tr><tr><td>Mopd</td><td>1</td></tr><tr><td>Chevy carg</td><td>1</td></tr><tr><td>NYC DOT</td><td>1</td></tr><tr><td>994</td><td>1</td></tr><tr><td>Light trai</td><td>1</td></tr><tr><td>White Van</td><td>1</td></tr><tr><td>tow trk</td><td>1</td></tr><tr><td>SWEEPER</td><td>1</td></tr><tr><td>Garage</td><td>1</td></tr><tr><td>SEDONA</td><td>1</td></tr><tr><td>OML/OMNIBU</td><td>1</td></tr><tr><td>COM TRANS</td><td>1</td></tr><tr><td>LCOM</td><td>1</td></tr><tr><td>FOR VAN</td><td>1</td></tr><tr><td>Hearse</td><td>1</td></tr><tr><td>NYC fire t</td><td>1</td></tr><tr><td>Gator</td><td>1</td></tr><tr><td>ESU RESCUE</td><td>1</td></tr><tr><td>US Mail Tr</td><td>1</td></tr><tr><td>Van Box Tr</td><td>1</td></tr><tr><td>2DCP</td><td>1</td></tr><tr><td>MINI BUS</td><td>1</td></tr><tr><td>Ambiance</td><td>1</td></tr><tr><td>NYPD TOW T</td><td>1</td></tr><tr><td>ESU REP</td><td>1</td></tr><tr><td>LIMIT USE</td><td>1</td></tr><tr><td>rgs</td><td>1</td></tr><tr><td>ORION</td><td>1</td></tr><tr><td>UHAUL VAN</td><td>1</td></tr><tr><td>OMS</td><td>1</td></tr><tr><td>Fed ex van</td><td>1</td></tr><tr><td>GLNEN</td><td>1</td></tr><tr><td>Electric S</td><td>1</td></tr><tr><td>D/V WB</td><td>1</td></tr><tr><td>TR-Trailer</td><td>1</td></tr><tr><td>delviery</td><td>1</td></tr><tr><td>ESCOOTER S</td><td>1</td></tr><tr><td>Crane truc</td><td>1</td></tr><tr><td>yellow cab</td><td>1</td></tr><tr><td>COMMERIAL</td><td>1</td></tr><tr><td>TOUR BUS</td><td>1</td></tr><tr><td>HEAVY TRUC</td><td>1</td></tr><tr><td>Freighntli</td><td>1</td></tr><tr><td>E-scooter</td><td>1</td></tr><tr><td>subar</td><td>1</td></tr><tr><td>APP</td><td>1</td></tr><tr><td>Ford picku</td><td>1</td></tr><tr><td>G com</td><td>1</td></tr><tr><td>box van</td><td>1</td></tr><tr><td>Fdny ems</td><td>1</td></tr><tr><td>armored tr</td><td>1</td></tr><tr><td>1C</td><td>1</td></tr><tr><td>Ford FF</td><td>1</td></tr><tr><td>Govt P/U T</td><td>1</td></tr><tr><td>nat grid t</td><td>1</td></tr><tr><td>Cargo Truc</td><td>1</td></tr><tr><td>FED EX</td><td>1</td></tr><tr><td>trailor</td><td>1</td></tr><tr><td>0</td><td>1</td></tr><tr><td>SAVANA VAN</td><td>1</td></tr><tr><td>HRSE</td><td>1</td></tr><tr><td>Jo/de</td><td>1</td></tr><tr><td>HINO TANK</td><td>1</td></tr><tr><td>AMBULANVE</td><td>1</td></tr><tr><td>commerial</td><td>1</td></tr><tr><td>RAZOR150 M</td><td>1</td></tr><tr><td>FORD F-150</td><td>1</td></tr><tr><td>TANK WH</td><td>1</td></tr><tr><td>ambulette</td><td>1</td></tr><tr><td>TRANSIT MT</td><td>1</td></tr><tr><td>SCOOT</td><td>1</td></tr><tr><td>NYC FDNY #</td><td>1</td></tr><tr><td>.</td><td>1</td></tr><tr><td>ESCOVATOR</td><td>1</td></tr><tr><td>mini bus</td><td>1</td></tr><tr><td>999</td><td>1</td></tr><tr><td>Mail Truck</td><td>1</td></tr><tr><td>ambulence</td><td>1</td></tr><tr><td>DUMPTRUCK</td><td>1</td></tr><tr><td>Work van</td><td>1</td></tr><tr><td>principle</td><td>1</td></tr><tr><td>SPINTER VA</td><td>1</td></tr><tr><td>FEDERAL EX</td><td>1</td></tr><tr><td>Utility.</td><td>1</td></tr><tr><td>SUBN WHI</td><td>1</td></tr><tr><td>USPS posta</td><td>1</td></tr><tr><td>Forklift t</td><td>1</td></tr><tr><td>sub</td><td>1</td></tr><tr><td>mail truck</td><td>1</td></tr><tr><td>GLP050VXEV</td><td>1</td></tr><tr><td>LIT DIRECT</td><td>1</td></tr><tr><td>RDS</td><td>1</td></tr><tr><td>postal bus</td><td>1</td></tr><tr><td>Delivery V</td><td>1</td></tr><tr><td>EMERGENCY</td><td>1</td></tr><tr><td>EMS FDNY B</td><td>1</td></tr><tr><td>FORD SUPER</td><td>1</td></tr><tr><td>ford econo</td><td>1</td></tr><tr><td>ACCESS A R</td><td>1</td></tr><tr><td>EMT Truck</td><td>1</td></tr><tr><td>NYC FD</td><td>1</td></tr><tr><td>M2</td><td>1</td></tr><tr><td>sweeper</td><td>1</td></tr><tr><td>Cherry pic</td><td>1</td></tr><tr><td>chev</td><td>1</td></tr><tr><td>FORD-TCN</td><td>1</td></tr><tr><td>FREIG DELV</td><td>1</td></tr><tr><td>NEW FLYER</td><td>1</td></tr><tr><td>E-Scoter</td><td>1</td></tr><tr><td>NYC FIRE D</td><td>1</td></tr><tr><td>E COM</td><td>1</td></tr><tr><td>f-250</td><td>1</td></tr><tr><td>hrse</td><td>1</td></tr><tr><td>FDNY EMT</td><td>1</td></tr><tr><td>pc</td><td>1</td></tr><tr><td>FDNY Ladde</td><td>1</td></tr><tr><td>Trc</td><td>1</td></tr><tr><td>Pas</td><td>1</td></tr><tr><td>Short Bus</td><td>1</td></tr><tr><td>ems bus</td><td>1</td></tr><tr><td>BOX CAR</td><td>1</td></tr><tr><td>F150XL PIC</td><td>1</td></tr><tr><td>MTA WORK T</td><td>1</td></tr><tr><td>City</td><td>1</td></tr><tr><td>2YDSWHEELL</td><td>1</td></tr><tr><td>POSTAL tru</td><td>1</td></tr><tr><td>A bulance</td><td>1</td></tr><tr><td>NYPD Tow T</td><td>1</td></tr><tr><td>Fed Ex Tru</td><td>1</td></tr><tr><td>rmp</td><td>1</td></tr><tr><td>REF BOX TR</td><td>1</td></tr><tr><td>PROGRESSIV</td><td>1</td></tr><tr><td>f</td><td>1</td></tr><tr><td>PATROL WAG</td><td>1</td></tr><tr><td>PASS</td><td>1</td></tr><tr><td>KME</td><td>1</td></tr><tr><td>DSNY sanit</td><td>1</td></tr><tr><td>SCHOOLBUS</td><td>1</td></tr><tr><td>del truck</td><td>1</td></tr><tr><td>Fire Truvk</td><td>1</td></tr><tr><td>REAR END</td><td>1</td></tr><tr><td>17</td><td>1</td></tr><tr><td>C45 BOC TR</td><td>1</td></tr><tr><td>Box Mail t</td><td>1</td></tr><tr><td>Horse carr</td><td>1</td></tr><tr><td>Truck/bus</td><td>1</td></tr><tr><td>COMMERICIA</td><td>1</td></tr><tr><td>STREET</td><td>1</td></tr><tr><td>Dumpster t</td><td>1</td></tr><tr><td>FD Pickup</td><td>1</td></tr><tr><td>Utility Ve</td><td>1</td></tr><tr><td>FRHT-SPR</td><td>1</td></tr><tr><td>wag</td><td>1</td></tr><tr><td>FireTruck</td><td>1</td></tr><tr><td>USPCS</td><td>1</td></tr><tr><td>Moving van</td><td>1</td></tr><tr><td>12 PASSENG</td><td>1</td></tr><tr><td>A</td><td>1</td></tr><tr><td>bobcat sno</td><td>1</td></tr><tr><td>straight t</td><td>1</td></tr><tr><td>Freight Va</td><td>1</td></tr><tr><td>2 wheel sc</td><td>1</td></tr><tr><td>ECOLINE VA</td><td>1</td></tr><tr><td>NE/FL</td><td>1</td></tr><tr><td>mcy</td><td>1</td></tr><tr><td>SLINGSHOOT</td><td>1</td></tr><tr><td>NYCFIREDEP</td><td>1</td></tr><tr><td>BOXTRUCK</td><td>1</td></tr><tr><td>Transit va</td><td>1</td></tr><tr><td>FedEx van</td><td>1</td></tr><tr><td>Combinatio</td><td>1</td></tr><tr><td>CONTRUCTIO</td><td>1</td></tr><tr><td>BUS (OMNIB</td><td>1</td></tr><tr><td>Utility tr</td><td>1</td></tr><tr><td>GOVT</td><td>1</td></tr><tr><td>E-SKATEBOA</td><td>1</td></tr><tr><td>Fdny Truck</td><td>1</td></tr><tr><td>DIRT BIKE</td><td>1</td></tr><tr><td>Scooter ga</td><td>1</td></tr><tr><td>Pick up Tr</td><td>1</td></tr><tr><td>ASPHALT RO</td><td>1</td></tr><tr><td>A,n</td><td>1</td></tr><tr><td>LSV</td><td>1</td></tr><tr><td>backhoe</td><td>1</td></tr><tr><td>MTA Van</td><td>1</td></tr><tr><td>MTA transi</td><td>1</td></tr><tr><td>Access A R</td><td>1</td></tr><tr><td>Train cart</td><td>1</td></tr><tr><td>FDNY Ferra</td><td>1</td></tr><tr><td>amazon tru</td><td>1</td></tr><tr><td>Rd\\s</td><td>1</td></tr><tr><td>TRANSIT</td><td>1</td></tr><tr><td>Fork lift</td><td>1</td></tr><tr><td>backhoe re</td><td>1</td></tr><tr><td>Van/Truck</td><td>1</td></tr><tr><td>AMULANCE</td><td>1</td></tr><tr><td>MTA TRANSI</td><td>1</td></tr><tr><td>RAM COMM.</td><td>1</td></tr><tr><td>fed ex tru</td><td>1</td></tr><tr><td>TRAILER/TR</td><td>1</td></tr><tr><td>Garbage</td><td>1</td></tr><tr><td>Bucket tru</td><td>1</td></tr><tr><td>GOV VEHICL</td><td>1</td></tr><tr><td>VAn</td><td>1</td></tr><tr><td>ABULANCE</td><td>1</td></tr><tr><td>FRHT VEHIC</td><td>1</td></tr><tr><td>TRUCK W/TR</td><td>1</td></tr><tr><td>mini coope</td><td>1</td></tr><tr><td>DOT</td><td>1</td></tr><tr><td>fdny truck</td><td>1</td></tr><tr><td>Subn/ambul</td><td>1</td></tr><tr><td>DSNY SWEEP</td><td>1</td></tr><tr><td>PEPSI DELI</td><td>1</td></tr><tr><td>E350</td><td>1</td></tr><tr><td>Suv</td><td>1</td></tr><tr><td>BOOM MOPED</td><td>1</td></tr><tr><td>Seagrave T</td><td>1</td></tr><tr><td>Ford f150</td><td>1</td></tr><tr><td>Work truck</td><td>1</td></tr><tr><td>POSTOFFICE</td><td>1</td></tr><tr><td>Fdny truck</td><td>1</td></tr><tr><td>UHAULWTOWD</td><td>1</td></tr><tr><td>ESCOOTER</td><td>1</td></tr><tr><td>NJ transit</td><td>1</td></tr><tr><td>Mta bus</td><td>1</td></tr><tr><td>G SCL</td><td>1</td></tr><tr><td>Box Car</td><td>1</td></tr><tr><td>FedEx box</td><td>1</td></tr><tr><td>nissa</td><td>1</td></tr><tr><td>D3</td><td>1</td></tr><tr><td>18 WHEELER</td><td>1</td></tr><tr><td>Fd engine</td><td>1</td></tr><tr><td>EXCABATOR</td><td>1</td></tr><tr><td>USPS SMALL</td><td>1</td></tr><tr><td>Uhaul</td><td>1</td></tr><tr><td>FDNY PICKU</td><td>1</td></tr><tr><td>SALTSPREAD</td><td>1</td></tr><tr><td>Fire engin</td><td>1</td></tr><tr><td>ACUR</td><td>1</td></tr><tr><td>Rental van</td><td>1</td></tr><tr><td>Mcy</td><td>1</td></tr><tr><td>FDNY SP200</td><td>1</td></tr><tr><td>LIABITIY</td><td>1</td></tr><tr><td>Mack truck</td><td>1</td></tr><tr><td>FRIEG</td><td>1</td></tr><tr><td>Ladder tru</td><td>1</td></tr><tr><td>NY CITY MT</td><td>1</td></tr><tr><td>Sprinter W</td><td>1</td></tr><tr><td>SELF</td><td>1</td></tr><tr><td>nys ambula</td><td>1</td></tr><tr><td>USPS box t</td><td>1</td></tr><tr><td>refg</td><td>1</td></tr><tr><td>City Owned</td><td>1</td></tr><tr><td>FD Ladder</td><td>1</td></tr><tr><td>METROTECH</td><td>1</td></tr><tr><td>SchooL bus</td><td>1</td></tr><tr><td>Postal ser</td><td>1</td></tr><tr><td>HURSE</td><td>1</td></tr><tr><td>pas</td><td>1</td></tr><tr><td>MAC</td><td>1</td></tr><tr><td>AMBALANCE</td><td>1</td></tr><tr><td>JOHND</td><td>1</td></tr><tr><td>Electric M</td><td>1</td></tr><tr><td>COM DELIVE</td><td>1</td></tr><tr><td>U HAUL</td><td>1</td></tr><tr><td>D2</td><td>1</td></tr><tr><td>Unknown ve</td><td>1</td></tr><tr><td>FDNY LADER</td><td>1</td></tr><tr><td>GOVENMENT</td><td>1</td></tr><tr><td>MOOPER</td><td>1</td></tr><tr><td>usps van</td><td>1</td></tr><tr><td>TCN</td><td>1</td></tr><tr><td>Private Am</td><td>1</td></tr><tr><td>C2</td><td>1</td></tr><tr><td>ROLLOFF</td><td>1</td></tr><tr><td>P/SH YW</td><td>1</td></tr><tr><td>Stak</td><td>1</td></tr><tr><td>F550 ESU R</td><td>1</td></tr><tr><td>WSTR</td><td>1</td></tr><tr><td>FIRE BUS</td><td>1</td></tr><tr><td>KOMATSU LO</td><td>1</td></tr><tr><td>AMAZON VAN</td><td>1</td></tr><tr><td>UHAUL</td><td>1</td></tr><tr><td>commerical</td><td>1</td></tr><tr><td>UPS truck</td><td>1</td></tr><tr><td>e-SCOOTER</td><td>1</td></tr><tr><td>pass</td><td>1</td></tr><tr><td>UHal Renta</td><td>1</td></tr><tr><td>Pump</td><td>1</td></tr><tr><td>7</td><td>1</td></tr><tr><td>Econoline</td><td>1</td></tr><tr><td>IC</td><td>1</td></tr><tr><td>X Amb</td><td>1</td></tr><tr><td>FREIGHT LI</td><td>1</td></tr><tr><td>LMB</td><td>1</td></tr><tr><td>fork lift</td><td>1</td></tr><tr><td>e-bike</td><td>1</td></tr><tr><td>DELV WH</td><td>1</td></tr><tr><td>motorized</td><td>1</td></tr><tr><td>Yellow Bus</td><td>1</td></tr><tr><td>PASS VAN</td><td>1</td></tr><tr><td>utility ve</td><td>1</td></tr><tr><td>MTA ESU VE</td><td>1</td></tr><tr><td>Pickup SL</td><td>1</td></tr><tr><td>Limo</td><td>1</td></tr><tr><td>Excavator</td><td>1</td></tr><tr><td>VA</td><td>1</td></tr><tr><td>Ford Couri</td><td>1</td></tr><tr><td>TOW-TRUCK</td><td>1</td></tr><tr><td>GMC SIENNA</td><td>1</td></tr><tr><td>mc</td><td>1</td></tr><tr><td>TRANSPORT</td><td>1</td></tr><tr><td>STREET CLE</td><td>1</td></tr><tr><td>997</td><td>1</td></tr><tr><td>VAN (TRANS</td><td>1</td></tr><tr><td>Waste truc</td><td>1</td></tr><tr><td>Trailer tr</td><td>1</td></tr><tr><td>courier</td><td>1</td></tr><tr><td>DUMP GR</td><td>1</td></tr><tr><td>FDNY SUPER</td><td>1</td></tr><tr><td>Unknown</td><td>1</td></tr><tr><td>Lim</td><td>1</td></tr><tr><td>Schoolbus</td><td>1</td></tr><tr><td>100th truc</td><td>1</td></tr><tr><td>Apportione</td><td>1</td></tr><tr><td>CITY OF NE</td><td>1</td></tr><tr><td>NYC FDNY</td><td>1</td></tr><tr><td>Tank</td><td>1</td></tr><tr><td>COMM TRUCK</td><td>1</td></tr><tr><td>Shovel</td><td>1</td></tr><tr><td>BK</td><td>1</td></tr><tr><td>Commer Veh</td><td>1</td></tr><tr><td>City vehic</td><td>1</td></tr><tr><td>ems truck</td><td>1</td></tr><tr><td>COMM</td><td>1</td></tr><tr><td>ABMU</td><td>1</td></tr><tr><td>16m</td><td>1</td></tr><tr><td>FORD NONTR</td><td>1</td></tr><tr><td>dsny sweep</td><td>1</td></tr><tr><td>Na</td><td>1</td></tr><tr><td>access-a-r</td><td>1</td></tr><tr><td>Pvt Ambula</td><td>1</td></tr><tr><td>GARBAGE ST</td><td>1</td></tr><tr><td>delv</td><td>1</td></tr><tr><td>EMS BUS</td><td>1</td></tr><tr><td>FREIGT VAN</td><td>1</td></tr><tr><td>LAWNMOWER</td><td>1</td></tr><tr><td>MARSH ,OPE</td><td>1</td></tr><tr><td>P/U</td><td>1</td></tr><tr><td>TRANSPORTE</td><td>1</td></tr><tr><td>NYCHA Van</td><td>1</td></tr><tr><td>JOHNDEERE</td><td>1</td></tr><tr><td>uhual</td><td>1</td></tr><tr><td>Delivery T</td><td>1</td></tr><tr><td>Access a R</td><td>1</td></tr><tr><td>tlc</td><td>1</td></tr><tr><td>Small Bus</td><td>1</td></tr><tr><td>Ford Trans</td><td>1</td></tr><tr><td>YW SCHOOL</td><td>1</td></tr><tr><td>13</td><td>1</td></tr><tr><td>UNK BOX TR</td><td>1</td></tr><tr><td>trac</td><td>1</td></tr><tr><td>Garbage ve</td><td>1</td></tr><tr><td>F45</td><td>1</td></tr><tr><td>Dumb Truck</td><td>1</td></tr><tr><td>VERZION VA</td><td>1</td></tr><tr><td>NYC PARKS</td><td>1</td></tr><tr><td>Psd</td><td>1</td></tr><tr><td>CITYWIDE</td><td>1</td></tr><tr><td>MDX</td><td>1</td></tr><tr><td>POSTALVAN</td><td>1</td></tr><tr><td>US POSTAL</td><td>1</td></tr><tr><td>CI</td><td>1</td></tr><tr><td>MACK DUMP</td><td>1</td></tr><tr><td>RAM PRM</td><td>1</td></tr><tr><td>FNDY EMS</td><td>1</td></tr><tr><td>USPS DELIV</td><td>1</td></tr><tr><td>REN</td><td>1</td></tr><tr><td>TAC</td><td>1</td></tr><tr><td>Rescue Tru</td><td>1</td></tr><tr><td>Box</td><td>1</td></tr><tr><td>U-HAUL TRU</td><td>1</td></tr><tr><td>Grain</td><td>1</td></tr><tr><td>Dot</td><td>1</td></tr><tr><td>Passanger</td><td>1</td></tr><tr><td>Car hauler</td><td>1</td></tr><tr><td>TRAILER-VA</td><td>1</td></tr><tr><td>FLEET</td><td>1</td></tr><tr><td>10 Paaseng</td><td>1</td></tr><tr><td>Tlc</td><td>1</td></tr><tr><td>Landscapin</td><td>1</td></tr><tr><td>MOTORSCOOT</td><td>1</td></tr><tr><td>Access-A-R</td><td>1</td></tr><tr><td>SAVANA</td><td>1</td></tr><tr><td>cp</td><td>1</td></tr><tr><td>Hino</td><td>1</td></tr><tr><td>D1</td><td>1</td></tr><tr><td>TRUCK CRAN</td><td>1</td></tr><tr><td>Collection</td><td>1</td></tr><tr><td>Mini van</td><td>1</td></tr><tr><td>MOPPED</td><td>1</td></tr><tr><td>SUBN/Van</td><td>1</td></tr><tr><td>COT</td><td>1</td></tr><tr><td>ESU</td><td>1</td></tr><tr><td>Cmix</td><td>1</td></tr><tr><td>R.M.P.</td><td>1</td></tr><tr><td>LIMO VAN</td><td>1</td></tr><tr><td>FORKLIFT T</td><td>1</td></tr><tr><td>OML</td><td>1</td></tr><tr><td>School van</td><td>1</td></tr><tr><td>Dept Tow t</td><td>1</td></tr><tr><td>SWEEPER TR</td><td>1</td></tr><tr><td>PV HOLDING</td><td>1</td></tr><tr><td>VAGON</td><td>1</td></tr><tr><td>Nova</td><td>1</td></tr><tr><td>263</td><td>1</td></tr><tr><td>Trailer.</td><td>1</td></tr><tr><td>VOLVO</td><td>1</td></tr><tr><td>R/V</td><td>1</td></tr><tr><td>food truck</td><td>1</td></tr><tr><td>City Bus</td><td>1</td></tr><tr><td>FDNYLadder</td><td>1</td></tr><tr><td>Station Wa</td><td>1</td></tr><tr><td>Supercab</td><td>1</td></tr><tr><td>Kubota bac</td><td>1</td></tr><tr><td>Fdny Ems T</td><td>1</td></tr><tr><td>Ice cream</td><td>1</td></tr><tr><td>EMS -BUS</td><td>1</td></tr><tr><td>Yellow sch</td><td>1</td></tr><tr><td>FDNY EMS#1</td><td>1</td></tr><tr><td>COMM TRAIL</td><td>1</td></tr><tr><td>RIV 2022</td><td>1</td></tr><tr><td>delivery</td><td>1</td></tr><tr><td>Usaa</td><td>1</td></tr><tr><td>Omni Bus</td><td>1</td></tr><tr><td>TRLR</td><td>1</td></tr><tr><td>ATTECHMENT</td><td>1</td></tr><tr><td>NYFD ambul</td><td>1</td></tr><tr><td>Pedestrian</td><td>1</td></tr><tr><td>HORSE TRAI</td><td>1</td></tr><tr><td>U-Haul</td><td>1</td></tr><tr><td>Ice Cream</td><td>1</td></tr><tr><td>NYC MTA BU</td><td>1</td></tr><tr><td>?Y? 06</td><td>1</td></tr><tr><td>conv</td><td>1</td></tr><tr><td>X TRL</td><td>1</td></tr><tr><td>GOVERMENT</td><td>1</td></tr><tr><td>SEMI TRUCK</td><td>1</td></tr><tr><td>Gas Moped</td><td>1</td></tr><tr><td>freightlin</td><td>1</td></tr><tr><td>FDNY INSUR</td><td>1</td></tr><tr><td>Ford EC2</td><td>1</td></tr><tr><td>Postoffice</td><td>1</td></tr><tr><td>TRUCK TRAC</td><td>1</td></tr><tr><td>FLAT RACK</td><td>1</td></tr><tr><td>FD Ambulan</td><td>1</td></tr><tr><td>Gas Scoote</td><td>1</td></tr><tr><td>FDNY EMS V</td><td>1</td></tr><tr><td>Thomas</td><td>1</td></tr><tr><td>van truck</td><td>1</td></tr><tr><td>SELF-INSUR</td><td>1</td></tr><tr><td>2</td><td>1</td></tr><tr><td>trk</td><td>1</td></tr><tr><td>Pick-up</td><td>1</td></tr><tr><td>charter bu</td><td>1</td></tr><tr><td>HINO MOTOR</td><td>1</td></tr></tbody></table></div>"
      ]
     },
     "metadata": {
      "application/vnd.databricks.v1+output": {
       "addedWidgets": {},
       "aggData": [],
       "aggError": "",
       "aggOverflow": false,
       "aggSchema": [],
       "aggSeriesLimitReached": false,
       "aggType": "",
       "arguments": {},
       "columnCustomDisplayInfos": {},
       "data": [
        [
         "Sedan",
         259738
        ],
        [
         "Station Wagon/Sport Utility Vehicle",
         201161
        ],
        [
         "Taxi",
         17238
        ],
        [
         "Pick-up Truck",
         14153
        ],
        [
         "Box Truck",
         13776
        ],
        [
         "Bus",
         12992
        ],
        [
         "Tractor Truck Diesel",
         6234
        ],
        [
         "Motorcycle",
         5241
        ],
        [
         "Van",
         4010
        ],
        [
         "Ambulance",
         3758
        ],
        [
         "Dump",
         2560
        ],
        [
         "Moped",
         1828
        ],
        [
         "Garbage or Refuse",
         1478
        ],
        [
         "Flat Bed",
         1456
        ],
        [
         "PK",
         1427
        ],
        [
         "Convertible",
         1334
        ],
        [
         "Bike",
         1062
        ],
        [
         "Carry All",
         1024
        ],
        [
         "Tractor Truck Gasoline",
         885
        ],
        [
         "Tow Truck / Wrecker",
         796
        ],
        [
         "Chassis Cab",
         653
        ],
        [
         "E-Bike",
         608
        ],
        [
         "AMBULANCE",
         597
        ],
        [
         "E-Scooter",
         514
        ],
        [
         "Tanker",
         511
        ],
        [
         "4 dr sedan",
         482
        ],
        [
         "Motorscooter",
         435
        ],
        [
         "LIMO",
         315
        ],
        [
         "Motorbike",
         296
        ],
        [
         "Concrete Mixer",
         262
        ],
        [
         "subn",
         246
        ],
        [
         "Flat Rack",
         229
        ],
        [
         "3-Door",
         198
        ],
        [
         "Armored Truck",
         181
        ],
        [
         "FIRE TRUCK",
         157
        ],
        [
         "Refrigerated Van",
         151
        ],
        [
         "van",
         142
        ],
        [
         "Beverage Truck",
         137
        ],
        [
         "Stake or Rack",
         130
        ],
        [
         "Lift Boom",
         127
        ],
        [
         "School Bus",
         120
        ],
        [
         "Multi-Wheeled Vehicle",
         91
        ],
        [
         "ambulance",
         90
        ],
        [
         "Pedicab",
         84
        ],
        [
         "Open Body",
         75
        ],
        [
         "Snow Plow",
         71
        ],
        [
         "MOPED",
         71
        ],
        [
         "TRUCK",
         68
        ],
        [
         "TRAILER",
         64
        ],
        [
         "FIRETRUCK",
         59
        ],
        [
         "TOW TRUCK",
         52
        ],
        [
         "AMBU",
         49
        ],
        [
         "Truck",
         48
        ],
        [
         "Bulk Agriculture",
         47
        ],
        [
         "FDNY AMBUL",
         41
        ],
        [
         "Fire truck",
         39
        ],
        [
         "SCHOOL BUS",
         38
        ],
        [
         "Fire Truck",
         37
        ],
        [
         "Trailer",
         37
        ],
        [
         "Tow Truck",
         36
        ],
        [
         "BOX TRUCK",
         35
        ],
        [
         "FDNY FIRE",
         33
        ],
        [
         "GARBAGE TR",
         32
        ],
        [
         "COMMERCIAL",
         31
        ],
        [
         "2 dr sedan",
         30
        ],
        [
         "FDNY TRUCK",
         30
        ],
        [
         "COM",
         29
        ],
        [
         "PICK UP",
         29
        ],
        [
         "FDNY",
         27
        ],
        [
         "Pallet",
         26
        ],
        [
         "Pickup with mounted Camper",
         26
        ],
        [
         "Hopper",
         25
        ],
        [
         "DELV",
         24
        ],
        [
         "DUMP",
         24
        ],
        [
         "MTA BUS",
         24
        ],
        [
         "Commercial",
         23
        ],
        [
         "DUMP TRUCK",
         23
        ],
        [
         "UTILITY",
         21
        ],
        [
         "Lunch Wagon",
         21
        ],
        [
         "Firetruck",
         21
        ],
        [
         "AMB",
         20
        ],
        [
         "UTIL",
         20
        ],
        [
         "trailer",
         20
        ],
        [
         "fire truck",
         19
        ],
        [
         "Box truck",
         19
        ],
        [
         "PAS",
         18
        ],
        [
         "SANITATION",
         18
        ],
        [
         "pick",
         18
        ],
        [
         "PICK UP TR",
         17
        ],
        [
         "Sanitation",
         17
        ],
        [
         "c1",
         17
        ],
        [
         "Minibike",
         16
        ],
        [
         "ROAD SWEEP",
         16
        ],
        [
         "truck",
         16
        ],
        [
         "School bus",
         16
        ],
        [
         "moped",
         15
        ],
        [
         "bus",
         15
        ],
        [
         "PICKUP",
         15
        ],
        [
         "VAN TRUCK",
         15
        ],
        [
         "STREET SWE",
         14
        ],
        [
         "FDNY Ambul",
         14
        ],
        [
         "DELIVERY T",
         14
        ],
        [
         "TRACTOR",
         14
        ],
        [
         "PSD",
         13
        ],
        [
         "REFG",
         12
        ],
        [
         "Minicycle",
         12
        ],
        [
         "POWER SHOV",
         12
        ],
        [
         "Sprinter V",
         11
        ],
        [
         "Van Camper",
         11
        ],
        [
         "FORKLIFT",
         11
        ],
        [
         "F550",
         11
        ],
        [
         "TRAC",
         11
        ],
        [
         "FLAT",
         11
        ],
        [
         "TRACTOR TR",
         11
        ],
        [
         "Pick up tr",
         11
        ],
        [
         "SPRINTER V",
         10
        ],
        [
         "Delivery",
         10
        ],
        [
         "Enclosed Body - Nonremovable Enclosure",
         10
        ],
        [
         "FIRE ENGIN",
         10
        ],
        [
         "C1",
         10
        ],
        [
         "commercial",
         9
        ],
        [
         "firetruck",
         9
        ],
        [
         "EMS",
         9
        ],
        [
         "DELIVERY",
         9
        ],
        [
         "box truck",
         9
        ],
        [
         "PICK-UP TR",
         9
        ],
        [
         "Tow truck",
         9
        ],
        [
         "PASSENGER",
         9
        ],
        [
         "FDNY LADDE",
         8
        ],
        [
         "FDNY Truck",
         8
        ],
        [
         "school bus",
         8
        ],
        [
         "Dump truck",
         8
        ],
        [
         "FLATBED",
         8
        ],
        [
         "SUV",
         8
        ],
        [
         "USPS TRUCK",
         8
        ],
        [
         "Motorized Home",
         8
        ],
        [
         "UTILITY TR",
         8
        ],
        [
         "SUBURBAN",
         8
        ],
        [
         "Pick up",
         8
        ],
        [
         "STAK",
         7
        ],
        [
         "Enclosed Body - Removable Enclosure",
         7
        ],
        [
         "AMBULENCE",
         7
        ],
        [
         "Pickup",
         7
        ],
        [
         "Scooter",
         7
        ],
        [
         "Vanette",
         7
        ],
        [
         "FDNY FIRET",
         7
        ],
        [
         "Utility",
         7
        ],
        [
         "PICKUP TRU",
         7
        ],
        [
         "RV",
         7
        ],
        [
         "FIRE",
         7
        ],
        [
         "SCOOTER",
         7
        ],
        [
         "UTILITY VE",
         6
        ],
        [
         "USPS",
         6
        ],
        [
         "Livestock Rack",
         6
        ],
        [
         "Tractor",
         6
        ],
        [
         "UNKNOWN",
         6
        ],
        [
         "FDNY EMS",
         6
        ],
        [
         "Street Swe",
         6
        ],
        [
         "FDNY ENGIN",
         6
        ],
        [
         "FDNY truck",
         6
        ],
        [
         "ambu",
         6
        ],
        [
         "HORSE CARR",
         6
        ],
        [
         "tow truck",
         6
        ],
        [
         "FORD",
         6
        ],
        [
         "MTA",
         6
        ],
        [
         "WORK VAN",
         6
        ],
        [
         "garbage tr",
         6
        ],
        [
         "NYS AMBULA",
         6
        ],
        [
         "POSTAL TRU",
         6
        ],
        [
         "TANK",
         6
        ],
        [
         "Garbage tr",
         6
        ],
        [
         "Tk",
         5
        ],
        [
         "com",
         5
        ],
        [
         "Log",
         5
        ],
        [
         "Well Driller",
         5
        ],
        [
         "UPS TRUCK",
         5
        ],
        [
         "MAIL TRUCK",
         5
        ],
        [
         "Sprinter v",
         5
        ],
        [
         "Tractor tr",
         5
        ],
        [
         "E-SCOOTER",
         5
        ],
        [
         "Garbage Tr",
         5
        ],
        [
         "DELIVERY V",
         5
        ],
        [
         "Glass Rack",
         5
        ],
        [
         "SELF INSUR",
         5
        ],
        [
         "Suburban",
         5
        ],
        [
         "Amb",
         5
        ],
        [
         "MTA Bus",
         5
        ],
        [
         "Road sweep",
         5
        ],
        [
         "Tow",
         5
        ],
        [
         "UNK",
         5
        ],
        [
         "taxi",
         5
        ],
        [
         "SPC",
         4
        ],
        [
         "Courier",
         4
        ],
        [
         "utility",
         4
        ],
        [
         "USPS Truck",
         4
        ],
        [
         "tk",
         4
        ],
        [
         "Passenger",
         4
        ],
        [
         "ICE CREAM",
         4
        ],
        [
         "MOTORCYCLE",
         4
        ],
        [
         "road sweep",
         4
        ],
        [
         "dump truck",
         4
        ],
        [
         "TRAILOR",
         4
        ],
        [
         "pickup",
         4
        ],
        [
         "CMIX",
         4
        ],
        [
         "NYC SANITA",
         4
        ],
        [
         "NYC TRANSI",
         4
        ],
        [
         "NYC AMBULA",
         4
        ],
        [
         "C3",
         4
        ],
        [
         "Pickup tru",
         4
        ],
        [
         "power shov",
         4
        ],
        [
         "Power shov",
         4
        ],
        [
         "OTHER",
         4
        ],
        [
         "MACK",
         4
        ],
        [
         "AMBULETTE",
         4
        ],
        [
         "TRK",
         4
        ],
        [
         "Subn",
         4
        ],
        [
         "tr",
         4
        ],
        [
         "tractor tr",
         4
        ],
        [
         "Road Sweep",
         4
        ],
        [
         "FDNY Fire",
         4
        ],
        [
         "FREIGHTLIN",
         4
        ],
        [
         "RMP",
         4
        ],
        [
         "l1",
         4
        ],
        [
         "Fdny ambul",
         4
        ],
        [
         "mta bus",
         4
        ],
        [
         "CARGO VAN",
         4
        ],
        [
         "MOTOR SCOO",
         4
        ],
        [
         "tow",
         4
        ],
        [
         "c3",
         4
        ],
        [
         "Self Insur",
         4
        ],
        [
         "Flatbed",
         3
        ],
        [
         "SEMI",
         3
        ],
        [
         "postal tru",
         3
        ],
        [
         "RAM",
         3
        ],
        [
         "G AMB",
         3
        ],
        [
         "Sweeper",
         3
        ],
        [
         "I1",
         3
        ],
        [
         "SEDAN",
         3
        ],
        [
         "Tractor Tr",
         3
        ],
        [
         "COMMERICAL",
         3
        ],
        [
         "FDNY fire",
         3
        ],
        [
         "Com",
         3
        ],
        [
         "Dump Truck",
         3
        ],
        [
         "FREIG",
         3
        ],
        [
         "BULLDOZER",
         3
        ],
        [
         "MTA bus",
         3
        ],
        [
         "Pick-Up",
         3
        ],
        [
         "JEEP",
         3
        ],
        [
         "NYC FIRE T",
         3
        ],
        [
         "Ambu",
         3
        ],
        [
         "G COM",
         3
        ],
        [
         "FORD VAN",
         3
        ],
        [
         "GAS MOPED",
         3
        ],
        [
         "utility tr",
         3
        ],
        [
         "FORD TRANS",
         3
        ],
        [
         "pick up",
         3
        ],
        [
         "EMS TRUCK",
         3
        ],
        [
         "delivery t",
         3
        ],
        [
         "self insur",
         3
        ],
        [
         "Delivery t",
         3
        ],
        [
         "P/SH",
         3
        ],
        [
         "PKUP",
         3
        ],
        [
         "OMR",
         3
        ],
        [
         "OMT",
         3
        ],
        [
         "dump",
         3
        ],
        [
         "FORK LIFT",
         3
        ],
        [
         "TRL",
         3
        ],
        [
         "GLBEN",
         3
        ],
        [
         "Forklift",
         3
        ],
        [
         "Ambulence",
         3
        ],
        [
         "MC",
         3
        ],
        [
         "toyot",
         3
        ],
        [
         "Self insur",
         3
        ],
        [
         "Street swe",
         3
        ],
        [
         "wagon",
         3
        ],
        [
         "FDNY ambul",
         3
        ],
        [
         "Backhoe",
         3
        ],
        [
         "X COM",
         3
        ],
        [
         "f1",
         3
        ],
        [
         "WAGON",
         3
        ],
        [
         "Ford",
         3
        ],
        [
         "GOVERNMENT",
         3
        ],
        [
         "Cargo van",
         3
        ],
        [
         "Utility ve",
         3
        ],
        [
         "FORD AMBUL",
         3
        ],
        [
         "COMM VAN",
         3
        ],
        [
         "FLAT BED",
         2
        ],
        [
         "Power Shov",
         2
        ],
        [
         "Van truck",
         2
        ],
        [
         "PUMPER",
         2
        ],
        [
         "forklift",
         2
        ],
        [
         "COURIER",
         2
        ],
        [
         "BACKHOE LO",
         2
        ],
        [
         "FOOD TRUCK",
         2
        ],
        [
         "Bucket Tru",
         2
        ],
        [
         "FREIGHT",
         2
        ],
        [
         "Government",
         2
        ],
        [
         "EMS Ambula",
         2
        ],
        [
         "street cle",
         2
        ],
        [
         "suburban",
         2
        ],
        [
         "MOPD",
         2
        ],
        [
         "FLATBED TR",
         2
        ],
        [
         "TRUCK TRAI",
         2
        ],
        [
         "usps",
         2
        ],
        [
         "RD/S",
         2
        ],
        [
         "sprinter v",
         2
        ],
        [
         "uhaul truc",
         2
        ],
        [
         "CAT",
         2
        ],
        [
         "MINI VAN",
         2
        ],
        [
         "government",
         2
        ],
        [
         "G PSD",
         2
        ],
        [
         "Work Van",
         2
        ],
        [
         "Ems",
         2
        ],
        [
         "REP",
         2
        ],
        [
         "CEMENT TRU",
         2
        ],
        [
         "AMBULACE",
         2
        ],
        [
         "REVEL",
         2
        ],
        [
         "Street Cle",
         2
        ],
        [
         "FRT",
         2
        ],
        [
         "USPS MAIL",
         2
        ],
        [
         "usps truck",
         2
        ],
        [
         "Sprinter",
         2
        ],
        [
         "REVEL MOPE",
         2
        ],
        [
         "FDNY RIG",
         2
        ],
        [
         "REVEL SCOO",
         2
        ],
        [
         "SCHOOL BU",
         2
        ],
        [
         "VAN/TRUCK",
         2
        ],
        [
         "passenger",
         2
        ],
        [
         "Pickup Tru",
         2
        ],
        [
         "ford",
         2
        ],
        [
         "work van",
         2
        ],
        [
         "MACK TRUCK",
         2
        ],
        [
         "sedan",
         2
        ],
        [
         "Ford Van",
         2
        ],
        [
         "Freight",
         2
        ],
        [
         "Toyota",
         2
        ],
        [
         "TF",
         2
        ],
        [
         "AMBULANE",
         2
        ],
        [
         "STAKE TRUC",
         2
        ],
        [
         "PC",
         2
        ],
        [
         "FD TRUCK",
         2
        ],
        [
         "constructi",
         2
        ],
        [
         "E-BIKE",
         2
        ],
        [
         "sanitation",
         2
        ],
        [
         "FEDEX TRUC",
         2
        ],
        [
         "Ems truck",
         2
        ],
        [
         "Post offic",
         2
        ],
        [
         "Grumman LL",
         2
        ],
        [
         "scooter",
         2
        ],
        [
         "pickup tru",
         2
        ],
        [
         "Fire Engin",
         2
        ],
        [
         "Pass",
         2
        ],
        [
         "4dsd",
         2
        ],
        [
         "MECHANICAL",
         2
        ],
        [
         "H1",
         2
        ],
        [
         "GEICO",
         2
        ],
        [
         "FOOD CART",
         2
        ],
        [
         "d3",
         2
        ],
        [
         "CHEVROLET",
         2
        ],
        [
         "C",
         2
        ],
        [
         "TL",
         2
        ],
        [
         "GOV",
         2
        ],
        [
         "CON ED TRU",
         2
        ],
        [
         "EMT Ambula",
         2
        ],
        [
         "a",
         2
        ],
        [
         "DOT VEHICL",
         2
        ],
        [
         "CRANE",
         2
        ],
        [
         "BOX VAN",
         2
        ],
        [
         "E scooter",
         2
        ],
        [
         "YELLOW BUS",
         2
        ],
        [
         "Omnibus",
         2
        ],
        [
         "TRANSIT VA",
         2
        ],
        [
         "Van Truck",
         2
        ],
        [
         "FREIGHT VA",
         2
        ],
        [
         "USPS truck",
         2
        ],
        [
         "CATER",
         2
        ],
        [
         "Pick Up",
         2
        ],
        [
         "PICK-UP",
         2
        ],
        [
         "pick up tr",
         2
        ],
        [
         "FIRE APPAR",
         2
        ],
        [
         "FD AMBULAN",
         2
        ],
        [
         "Usps",
         2
        ],
        [
         "Motor Home",
         2
        ],
        [
         "Postal tru",
         2
        ],
        [
         "P PSD",
         2
        ],
        [
         "USPS Mail",
         2
        ],
        [
         "Fdny",
         2
        ],
        [
         "POLICE VEH",
         2
        ],
        [
         "amb",
         2
        ],
        [
         "Chevy",
         2
        ],
        [
         "street swe",
         2
        ],
        [
         "Minivan",
         2
        ],
        [
         "MINIVAN",
         2
        ],
        [
         "FDNY Vehic",
         2
        ],
        [
         "SP PURPOSE",
         2
        ],
        [
         "NYS Ambula",
         2
        ],
        [
         "d1",
         2
        ],
        [
         "GOLF CART",
         2
        ],
        [
         "CEMENT MIX",
         2
        ],
        [
         "CHASSIS &",
         2
        ],
        [
         "CONSTRUCTI",
         2
        ],
        [
         "BOBCAT",
         2
        ],
        [
         "BACKHOE",
         2
        ],
        [
         "AMAZON TRU",
         2
        ],
        [
         "e1",
         2
        ],
        [
         "4",
         2
        ],
        [
         "mot",
         2
        ],
        [
         "MOT",
         2
        ],
        [
         "NIU",
         1
        ],
        [
         "Honda HRV",
         1
        ],
        [
         "motorcycle",
         1
        ],
        [
         "Fleet",
         1
        ],
        [
         "KENWO",
         1
        ],
        [
         "ford van",
         1
        ],
        [
         "FLATBED FR",
         1
        ],
        [
         "Fork Lift",
         1
        ],
        [
         "TRUCK FLAT",
         1
        ],
        [
         "MOBILE",
         1
        ],
        [
         "FD LADDER",
         1
        ],
        [
         "DIRTBIKE",
         1
        ],
        [
         "gator",
         1
        ],
        [
         "Escavator",
         1
        ],
        [
         "FIRET TRUC",
         1
        ],
        [
         "fdny",
         1
        ],
        [
         "E SCOOTER",
         1
        ],
        [
         "SMART CAR",
         1
        ],
        [
         "WORKH UTIL",
         1
        ],
        [
         "INTE TRUCK",
         1
        ],
        [
         "Front-Load",
         1
        ],
        [
         "Cargo Van",
         1
        ],
        [
         "Delv",
         1
        ],
        [
         "FREIGHT FL",
         1
        ],
        [
         "GENAMBUL",
         1
        ],
        [
         "CHEVY EXPR",
         1
        ],
        [
         "BOBCAT FOR",
         1
        ],
        [
         "NYPD Traff",
         1
        ],
        [
         "fdny ambul",
         1
        ],
        [
         "HAUL FOR H",
         1
        ],
        [
         "LAWN MOWER",
         1
        ],
        [
         "dilevery t",
         1
        ],
        [
         "Comm Food",
         1
        ],
        [
         "sanitaton",
         1
        ],
        [
         "LLV MAIL T",
         1
        ],
        [
         "PERM",
         1
        ],
        [
         "FRHT TRAIL",
         1
        ],
        [
         "FIRTRUCK",
         1
        ],
        [
         "EMS ambula",
         1
        ],
        [
         "Wh Ford co",
         1
        ],
        [
         "SWT",
         1
        ],
        [
         "Pumper",
         1
        ],
        [
         "g com",
         1
        ],
        [
         "SLINGSHOT",
         1
        ],
        [
         "backh",
         1
        ],
        [
         "transport",
         1
        ],
        [
         "Ford sprin",
         1
        ],
        [
         "FDNY Engin",
         1
        ],
        [
         "FRIEGHTLIN",
         1
        ],
        [
         "almbulance",
         1
        ],
        [
         "Util.",
         1
        ],
        [
         "abulance",
         1
        ],
        [
         "SUBN - AMB",
         1
        ],
        [
         "forlift",
         1
        ],
        [
         "NYC ACS Va",
         1
        ],
        [
         "JOHN DEERE",
         1
        ],
        [
         "util",
         1
        ],
        [
         "PEDI CAB",
         1
        ],
        [
         "USPCS Truc",
         1
        ],
        [
         "nyc EMS",
         1
        ],
        [
         "Trac",
         1
        ],
        [
         "U HAUL TRU",
         1
        ],
        [
         "TRUCK VAN",
         1
        ],
        [
         "J1",
         1
        ],
        [
         "Ram Promas",
         1
        ],
        [
         "Fedex",
         1
        ],
        [
         "cargo van",
         1
        ],
        [
         "Subr",
         1
        ],
        [
         "Cement Tru",
         1
        ],
        [
         "unk",
         1
        ],
        [
         "PICKUP TOW",
         1
        ],
        [
         "POSTAL SER",
         1
        ],
        [
         "Ambulette",
         1
        ],
        [
         "E REVEL SC",
         1
        ],
        [
         "AMAZON SPR",
         1
        ],
        [
         "mopd",
         1
        ],
        [
         "fdny ems",
         1
        ],
        [
         "fdny ladde",
         1
        ],
        [
         "NYC BUS",
         1
        ],
        [
         "PALFINGER",
         1
        ],
        [
         "USPS TRUC,",
         1
        ],
        [
         "EMERGANCY",
         1
        ],
        [
         "Flat bed t",
         1
        ],
        [
         "INTERNATIO",
         1
        ],
        [
         "Leased amb",
         1
        ],
        [
         "MTA Truck",
         1
        ],
        [
         "CATAPILLAR",
         1
        ],
        [
         "cross",
         1
        ],
        [
         "US Govt ve",
         1
        ],
        [
         "AMBULANCE`",
         1
        ],
        [
         "pick-up",
         1
        ],
        [
         "Dirt Bike",
         1
        ],
        [
         "LADDER TRU",
         1
        ],
        [
         "MTA truck",
         1
        ],
        [
         "SKYWATCH",
         1
        ],
        [
         "FDNY CHIEF",
         1
        ],
        [
         "VAN/TRANSI",
         1
        ],
        [
         "TTAILER",
         1
        ],
        [
         "UT",
         1
        ],
        [
         "CONST EQUI",
         1
        ],
        [
         "truck trai",
         1
        ],
        [
         "TRAILER/FL",
         1
        ],
        [
         "ECONOLINE",
         1
        ],
        [
         "Flatbed Pi",
         1
        ],
        [
         "RGR",
         1
        ],
        [
         "US GOVERME",
         1
        ],
        [
         "post offic",
         1
        ],
        [
         "comm",
         1
        ],
        [
         "EXCAVATOR",
         1
        ],
        [
         "MINI SCHOO",
         1
        ],
        [
         "SNOW PLOWE",
         1
        ],
        [
         "Fdny fire",
         1
        ],
        [
         "SHUTTLE BU",
         1
        ],
        [
         "Transit",
         1
        ],
        [
         "DELV BR",
         1
        ],
        [
         "FIRE TURCK",
         1
        ],
        [
         "Front End",
         1
        ],
        [
         "VAN WH",
         1
        ],
        [
         "GMC DELIVE",
         1
        ],
        [
         "SMYELLSCHO",
         1
        ],
        [
         "Caterpilla",
         1
        ],
        [
         "Bobcat",
         1
        ],
        [
         "Trailer Tr",
         1
        ],
        [
         "police rep",
         1
        ],
        [
         "util truck",
         1
        ],
        [
         "CAMPER VAN",
         1
        ],
        [
         "AMUBULANCE",
         1
        ],
        [
         "motor home",
         1
        ],
        [
         "Ram",
         1
        ],
        [
         "Mercedes",
         1
        ],
        [
         "SPECIAL PU",
         1
        ],
        [
         "PUMP",
         1
        ],
        [
         "TRUCK COMM",
         1
        ],
        [
         "CARRIER",
         1
        ],
        [
         "Mack",
         1
        ],
        [
         "cat payloa",
         1
        ],
        [
         "Fedex Box",
         1
        ],
        [
         "Busv",
         1
        ],
        [
         "EC3",
         1
        ],
        [
         "Horse trai",
         1
        ],
        [
         "mta bus 4",
         1
        ],
        [
         "TRUCK LADD",
         1
        ],
        [
         "AMBUKANCE",
         1
        ],
        [
         "freight tr",
         1
        ],
        [
         "SW/VAN",
         1
        ],
        [
         "SEMI TRAIL",
         1
        ],
        [
         "Skywatch",
         1
        ],
        [
         "NICE BUS",
         1
        ],
        [
         "Sierra",
         1
        ],
        [
         "FORD SPRIN",
         1
        ],
        [
         "BOOM LIFT/",
         1
        ],
        [
         "box",
         1
        ],
        [
         "TRAILEE",
         1
        ],
        [
         "TRAIL",
         1
        ],
        [
         "basic psd",
         1
        ],
        [
         "Rental Tru",
         1
        ],
        [
         "POWER LADD",
         1
        ],
        [
         "SCHOOL VAN",
         1
        ],
        [
         "SPECIAL CO",
         1
        ],
        [
         "PLOW",
         1
        ],
        [
         "toolcat",
         1
        ],
        [
         "E-Bik",
         1
        ],
        [
         "work truck",
         1
        ],
        [
         "UHAL",
         1
        ],
        [
         "Fire",
         1
        ],
        [
         "conedison",
         1
        ],
        [
         "POSTAL VEH",
         1
        ],
        [
         "SUBN TN",
         1
        ],
        [
         "con ed tru",
         1
        ],
        [
         "EMS/VAN",
         1
        ],
        [
         "LADDER CO",
         1
        ],
        [
         "NYPD VAN",
         1
        ],
        [
         "AMbulance",
         1
        ],
        [
         "SHORT SCHO",
         1
        ],
        [
         "BACK HOE",
         1
        ],
        [
         "FDNY AMBU",
         1
        ],
        [
         "Cement tru",
         1
        ],
        [
         "swingloade",
         1
        ],
        [
         "WH",
         1
        ],
        [
         "USPS MAILT",
         1
        ],
        [
         "usps self",
         1
        ],
        [
         "TOW4",
         1
        ],
        [
         "EMS bus",
         1
        ],
        [
         "Mack Truck",
         1
        ],
        [
         "MARKED VAN",
         1
        ],
        [
         "CO",
         1
        ],
        [
         "Dodge",
         1
        ],
        [
         "tractor",
         1
        ],
        [
         "TRACT",
         1
        ],
        [
         "TLR",
         1
        ],
        [
         "AMBULCANCE",
         1
        ],
        [
         "engine",
         1
        ],
        [
         "PRIVATE",
         1
        ],
        [
         "UPS",
         1
        ],
        [
         "EMBULANCE",
         1
        ],
        [
         "omt",
         1
        ],
        [
         "delivery v",
         1
        ],
        [
         "CITY VEHIC",
         1
        ],
        [
         "mailtruck",
         1
        ],
        [
         "psd",
         1
        ],
        [
         "Livery Omn",
         1
        ],
        [
         "PICK RD",
         1
        ],
        [
         "DODGE RAM",
         1
        ],
        [
         "REVEL scoo",
         1
        ],
        [
         "FREIGHT TR",
         1
        ],
        [
         "TLC",
         1
        ],
        [
         "Pumper tru",
         1
        ],
        [
         "Motor home",
         1
        ],
        [
         "Self",
         1
        ],
        [
         "DUMPSTER T",
         1
        ],
        [
         "Pick wh",
         1
        ],
        [
         "CITY",
         1
        ],
        [
         "MTA NYC BU",
         1
        ],
        [
         "AMBULAMCE",
         1
        ],
        [
         "DEPARTMENT",
         1
        ],
        [
         "BLU BUS",
         1
        ],
        [
         "Piggy back",
         1
        ],
        [
         "Unmarked V",
         1
        ],
        [
         "MOVING TRU",
         1
        ],
        [
         "FDNY Firet",
         1
        ],
        [
         "postal ser",
         1
        ],
        [
         "UTILITY VA",
         1
        ],
        [
         "ESCAVATOR",
         1
        ],
        [
         "Budget tru",
         1
        ],
        [
         "White ambu",
         1
        ],
        [
         "Mopd",
         1
        ],
        [
         "Chevy carg",
         1
        ],
        [
         "NYC DOT",
         1
        ],
        [
         "994",
         1
        ],
        [
         "Light trai",
         1
        ],
        [
         "White Van",
         1
        ],
        [
         "tow trk",
         1
        ],
        [
         "SWEEPER",
         1
        ],
        [
         "Garage",
         1
        ],
        [
         "SEDONA",
         1
        ],
        [
         "OML/OMNIBU",
         1
        ],
        [
         "COM TRANS",
         1
        ],
        [
         "LCOM",
         1
        ],
        [
         "FOR VAN",
         1
        ],
        [
         "Hearse",
         1
        ],
        [
         "NYC fire t",
         1
        ],
        [
         "Gator",
         1
        ],
        [
         "ESU RESCUE",
         1
        ],
        [
         "US Mail Tr",
         1
        ],
        [
         "Van Box Tr",
         1
        ],
        [
         "2DCP",
         1
        ],
        [
         "MINI BUS",
         1
        ],
        [
         "Ambiance",
         1
        ],
        [
         "NYPD TOW T",
         1
        ],
        [
         "ESU REP",
         1
        ],
        [
         "LIMIT USE",
         1
        ],
        [
         "rgs",
         1
        ],
        [
         "ORION",
         1
        ],
        [
         "UHAUL VAN",
         1
        ],
        [
         "OMS",
         1
        ],
        [
         "Fed ex van",
         1
        ],
        [
         "GLNEN",
         1
        ],
        [
         "Electric S",
         1
        ],
        [
         "D/V WB",
         1
        ],
        [
         "TR-Trailer",
         1
        ],
        [
         "delviery",
         1
        ],
        [
         "ESCOOTER S",
         1
        ],
        [
         "Crane truc",
         1
        ],
        [
         "yellow cab",
         1
        ],
        [
         "COMMERIAL",
         1
        ],
        [
         "TOUR BUS",
         1
        ],
        [
         "HEAVY TRUC",
         1
        ],
        [
         "Freighntli",
         1
        ],
        [
         "E-scooter",
         1
        ],
        [
         "subar",
         1
        ],
        [
         "APP",
         1
        ],
        [
         "Ford picku",
         1
        ],
        [
         "G com",
         1
        ],
        [
         "box van",
         1
        ],
        [
         "Fdny ems",
         1
        ],
        [
         "armored tr",
         1
        ],
        [
         "1C",
         1
        ],
        [
         "Ford FF",
         1
        ],
        [
         "Govt P/U T",
         1
        ],
        [
         "nat grid t",
         1
        ],
        [
         "Cargo Truc",
         1
        ],
        [
         "FED EX",
         1
        ],
        [
         "trailor",
         1
        ],
        [
         "0",
         1
        ],
        [
         "SAVANA VAN",
         1
        ],
        [
         "HRSE",
         1
        ],
        [
         "Jo/de",
         1
        ],
        [
         "HINO TANK",
         1
        ],
        [
         "AMBULANVE",
         1
        ],
        [
         "commerial",
         1
        ],
        [
         "RAZOR150 M",
         1
        ],
        [
         "FORD F-150",
         1
        ],
        [
         "TANK WH",
         1
        ],
        [
         "ambulette",
         1
        ],
        [
         "TRANSIT MT",
         1
        ],
        [
         "SCOOT",
         1
        ],
        [
         "NYC FDNY #",
         1
        ],
        [
         ".",
         1
        ],
        [
         "ESCOVATOR",
         1
        ],
        [
         "mini bus",
         1
        ],
        [
         "999",
         1
        ],
        [
         "Mail Truck",
         1
        ],
        [
         "ambulence",
         1
        ],
        [
         "DUMPTRUCK",
         1
        ],
        [
         "Work van",
         1
        ],
        [
         "principle",
         1
        ],
        [
         "SPINTER VA",
         1
        ],
        [
         "FEDERAL EX",
         1
        ],
        [
         "Utility.",
         1
        ],
        [
         "SUBN WHI",
         1
        ],
        [
         "USPS posta",
         1
        ],
        [
         "Forklift t",
         1
        ],
        [
         "sub",
         1
        ],
        [
         "mail truck",
         1
        ],
        [
         "GLP050VXEV",
         1
        ],
        [
         "LIT DIRECT",
         1
        ],
        [
         "RDS",
         1
        ],
        [
         "postal bus",
         1
        ],
        [
         "Delivery V",
         1
        ],
        [
         "EMERGENCY",
         1
        ],
        [
         "EMS FDNY B",
         1
        ],
        [
         "FORD SUPER",
         1
        ],
        [
         "ford econo",
         1
        ],
        [
         "ACCESS A R",
         1
        ],
        [
         "EMT Truck",
         1
        ],
        [
         "NYC FD",
         1
        ],
        [
         "M2",
         1
        ],
        [
         "sweeper",
         1
        ],
        [
         "Cherry pic",
         1
        ],
        [
         "chev",
         1
        ],
        [
         "FORD-TCN",
         1
        ],
        [
         "FREIG DELV",
         1
        ],
        [
         "NEW FLYER",
         1
        ],
        [
         "E-Scoter",
         1
        ],
        [
         "NYC FIRE D",
         1
        ],
        [
         "E COM",
         1
        ],
        [
         "f-250",
         1
        ],
        [
         "hrse",
         1
        ],
        [
         "FDNY EMT",
         1
        ],
        [
         "pc",
         1
        ],
        [
         "FDNY Ladde",
         1
        ],
        [
         "Trc",
         1
        ],
        [
         "Pas",
         1
        ],
        [
         "Short Bus",
         1
        ],
        [
         "ems bus",
         1
        ],
        [
         "BOX CAR",
         1
        ],
        [
         "F150XL PIC",
         1
        ],
        [
         "MTA WORK T",
         1
        ],
        [
         "City",
         1
        ],
        [
         "2YDSWHEELL",
         1
        ],
        [
         "POSTAL tru",
         1
        ],
        [
         "A bulance",
         1
        ],
        [
         "NYPD Tow T",
         1
        ],
        [
         "Fed Ex Tru",
         1
        ],
        [
         "rmp",
         1
        ],
        [
         "REF BOX TR",
         1
        ],
        [
         "PROGRESSIV",
         1
        ],
        [
         "f",
         1
        ],
        [
         "PATROL WAG",
         1
        ],
        [
         "PASS",
         1
        ],
        [
         "KME",
         1
        ],
        [
         "DSNY sanit",
         1
        ],
        [
         "SCHOOLBUS",
         1
        ],
        [
         "del truck",
         1
        ],
        [
         "Fire Truvk",
         1
        ],
        [
         "REAR END",
         1
        ],
        [
         "17",
         1
        ],
        [
         "C45 BOC TR",
         1
        ],
        [
         "Box Mail t",
         1
        ],
        [
         "Horse carr",
         1
        ],
        [
         "Truck/bus",
         1
        ],
        [
         "COMMERICIA",
         1
        ],
        [
         "STREET",
         1
        ],
        [
         "Dumpster t",
         1
        ],
        [
         "FD Pickup",
         1
        ],
        [
         "Utility Ve",
         1
        ],
        [
         "FRHT-SPR",
         1
        ],
        [
         "wag",
         1
        ],
        [
         "FireTruck",
         1
        ],
        [
         "USPCS",
         1
        ],
        [
         "Moving van",
         1
        ],
        [
         "12 PASSENG",
         1
        ],
        [
         "A",
         1
        ],
        [
         "bobcat sno",
         1
        ],
        [
         "straight t",
         1
        ],
        [
         "Freight Va",
         1
        ],
        [
         "2 wheel sc",
         1
        ],
        [
         "ECOLINE VA",
         1
        ],
        [
         "NE/FL",
         1
        ],
        [
         "mcy",
         1
        ],
        [
         "SLINGSHOOT",
         1
        ],
        [
         "NYCFIREDEP",
         1
        ],
        [
         "BOXTRUCK",
         1
        ],
        [
         "Transit va",
         1
        ],
        [
         "FedEx van",
         1
        ],
        [
         "Combinatio",
         1
        ],
        [
         "CONTRUCTIO",
         1
        ],
        [
         "BUS (OMNIB",
         1
        ],
        [
         "Utility tr",
         1
        ],
        [
         "GOVT",
         1
        ],
        [
         "E-SKATEBOA",
         1
        ],
        [
         "Fdny Truck",
         1
        ],
        [
         "DIRT BIKE",
         1
        ],
        [
         "Scooter ga",
         1
        ],
        [
         "Pick up Tr",
         1
        ],
        [
         "ASPHALT RO",
         1
        ],
        [
         "A,n",
         1
        ],
        [
         "LSV",
         1
        ],
        [
         "backhoe",
         1
        ],
        [
         "MTA Van",
         1
        ],
        [
         "MTA transi",
         1
        ],
        [
         "Access A R",
         1
        ],
        [
         "Train cart",
         1
        ],
        [
         "FDNY Ferra",
         1
        ],
        [
         "amazon tru",
         1
        ],
        [
         "Rd\\s",
         1
        ],
        [
         "TRANSIT",
         1
        ],
        [
         "Fork lift",
         1
        ],
        [
         "backhoe re",
         1
        ],
        [
         "Van/Truck",
         1
        ],
        [
         "AMULANCE",
         1
        ],
        [
         "MTA TRANSI",
         1
        ],
        [
         "RAM COMM.",
         1
        ],
        [
         "fed ex tru",
         1
        ],
        [
         "TRAILER/TR",
         1
        ],
        [
         "Garbage",
         1
        ],
        [
         "Bucket tru",
         1
        ],
        [
         "GOV VEHICL",
         1
        ],
        [
         "VAn",
         1
        ],
        [
         "ABULANCE",
         1
        ],
        [
         "FRHT VEHIC",
         1
        ],
        [
         "TRUCK W/TR",
         1
        ],
        [
         "mini coope",
         1
        ],
        [
         "DOT",
         1
        ],
        [
         "fdny truck",
         1
        ],
        [
         "Subn/ambul",
         1
        ],
        [
         "DSNY SWEEP",
         1
        ],
        [
         "PEPSI DELI",
         1
        ],
        [
         "E350",
         1
        ],
        [
         "Suv",
         1
        ],
        [
         "BOOM MOPED",
         1
        ],
        [
         "Seagrave T",
         1
        ],
        [
         "Ford f150",
         1
        ],
        [
         "Work truck",
         1
        ],
        [
         "POSTOFFICE",
         1
        ],
        [
         "Fdny truck",
         1
        ],
        [
         "UHAULWTOWD",
         1
        ],
        [
         "ESCOOTER",
         1
        ],
        [
         "NJ transit",
         1
        ],
        [
         "Mta bus",
         1
        ],
        [
         "G SCL",
         1
        ],
        [
         "Box Car",
         1
        ],
        [
         "FedEx box",
         1
        ],
        [
         "nissa",
         1
        ],
        [
         "D3",
         1
        ],
        [
         "18 WHEELER",
         1
        ],
        [
         "Fd engine",
         1
        ],
        [
         "EXCABATOR",
         1
        ],
        [
         "USPS SMALL",
         1
        ],
        [
         "Uhaul",
         1
        ],
        [
         "FDNY PICKU",
         1
        ],
        [
         "SALTSPREAD",
         1
        ],
        [
         "Fire engin",
         1
        ],
        [
         "ACUR",
         1
        ],
        [
         "Rental van",
         1
        ],
        [
         "Mcy",
         1
        ],
        [
         "FDNY SP200",
         1
        ],
        [
         "LIABITIY",
         1
        ],
        [
         "Mack truck",
         1
        ],
        [
         "FRIEG",
         1
        ],
        [
         "Ladder tru",
         1
        ],
        [
         "NY CITY MT",
         1
        ],
        [
         "Sprinter W",
         1
        ],
        [
         "SELF",
         1
        ],
        [
         "nys ambula",
         1
        ],
        [
         "USPS box t",
         1
        ],
        [
         "refg",
         1
        ],
        [
         "City Owned",
         1
        ],
        [
         "FD Ladder",
         1
        ],
        [
         "METROTECH",
         1
        ],
        [
         "SchooL bus",
         1
        ],
        [
         "Postal ser",
         1
        ],
        [
         "HURSE",
         1
        ],
        [
         "pas",
         1
        ],
        [
         "MAC",
         1
        ],
        [
         "AMBALANCE",
         1
        ],
        [
         "JOHND",
         1
        ],
        [
         "Electric M",
         1
        ],
        [
         "COM DELIVE",
         1
        ],
        [
         "U HAUL",
         1
        ],
        [
         "D2",
         1
        ],
        [
         "Unknown ve",
         1
        ],
        [
         "FDNY LADER",
         1
        ],
        [
         "GOVENMENT",
         1
        ],
        [
         "MOOPER",
         1
        ],
        [
         "usps van",
         1
        ],
        [
         "TCN",
         1
        ],
        [
         "Private Am",
         1
        ],
        [
         "C2",
         1
        ],
        [
         "ROLLOFF",
         1
        ],
        [
         "P/SH YW",
         1
        ],
        [
         "Stak",
         1
        ],
        [
         "F550 ESU R",
         1
        ],
        [
         "WSTR",
         1
        ],
        [
         "FIRE BUS",
         1
        ],
        [
         "KOMATSU LO",
         1
        ],
        [
         "AMAZON VAN",
         1
        ],
        [
         "UHAUL",
         1
        ],
        [
         "commerical",
         1
        ],
        [
         "UPS truck",
         1
        ],
        [
         "e-SCOOTER",
         1
        ],
        [
         "pass",
         1
        ],
        [
         "UHal Renta",
         1
        ],
        [
         "Pump",
         1
        ],
        [
         "7",
         1
        ],
        [
         "Econoline",
         1
        ],
        [
         "IC",
         1
        ],
        [
         "X Amb",
         1
        ],
        [
         "FREIGHT LI",
         1
        ],
        [
         "LMB",
         1
        ],
        [
         "fork lift",
         1
        ],
        [
         "e-bike",
         1
        ],
        [
         "DELV WH",
         1
        ],
        [
         "motorized",
         1
        ],
        [
         "Yellow Bus",
         1
        ],
        [
         "PASS VAN",
         1
        ],
        [
         "utility ve",
         1
        ],
        [
         "MTA ESU VE",
         1
        ],
        [
         "Pickup SL",
         1
        ],
        [
         "Limo",
         1
        ],
        [
         "Excavator",
         1
        ],
        [
         "VA",
         1
        ],
        [
         "Ford Couri",
         1
        ],
        [
         "TOW-TRUCK",
         1
        ],
        [
         "GMC SIENNA",
         1
        ],
        [
         "mc",
         1
        ],
        [
         "TRANSPORT",
         1
        ],
        [
         "STREET CLE",
         1
        ],
        [
         "997",
         1
        ],
        [
         "VAN (TRANS",
         1
        ],
        [
         "Waste truc",
         1
        ],
        [
         "Trailer tr",
         1
        ],
        [
         "courier",
         1
        ],
        [
         "DUMP GR",
         1
        ],
        [
         "FDNY SUPER",
         1
        ],
        [
         "Unknown",
         1
        ],
        [
         "Lim",
         1
        ],
        [
         "Schoolbus",
         1
        ],
        [
         "100th truc",
         1
        ],
        [
         "Apportione",
         1
        ],
        [
         "CITY OF NE",
         1
        ],
        [
         "NYC FDNY",
         1
        ],
        [
         "Tank",
         1
        ],
        [
         "COMM TRUCK",
         1
        ],
        [
         "Shovel",
         1
        ],
        [
         "BK",
         1
        ],
        [
         "Commer Veh",
         1
        ],
        [
         "City vehic",
         1
        ],
        [
         "ems truck",
         1
        ],
        [
         "COMM",
         1
        ],
        [
         "ABMU",
         1
        ],
        [
         "16m",
         1
        ],
        [
         "FORD NONTR",
         1
        ],
        [
         "dsny sweep",
         1
        ],
        [
         "Na",
         1
        ],
        [
         "access-a-r",
         1
        ],
        [
         "Pvt Ambula",
         1
        ],
        [
         "GARBAGE ST",
         1
        ],
        [
         "delv",
         1
        ],
        [
         "EMS BUS",
         1
        ],
        [
         "FREIGT VAN",
         1
        ],
        [
         "LAWNMOWER",
         1
        ],
        [
         "MARSH ,OPE",
         1
        ],
        [
         "P/U",
         1
        ],
        [
         "TRANSPORTE",
         1
        ],
        [
         "NYCHA Van",
         1
        ],
        [
         "JOHNDEERE",
         1
        ],
        [
         "uhual",
         1
        ],
        [
         "Delivery T",
         1
        ],
        [
         "Access a R",
         1
        ],
        [
         "tlc",
         1
        ],
        [
         "Small Bus",
         1
        ],
        [
         "Ford Trans",
         1
        ],
        [
         "YW SCHOOL",
         1
        ],
        [
         "13",
         1
        ],
        [
         "UNK BOX TR",
         1
        ],
        [
         "trac",
         1
        ],
        [
         "Garbage ve",
         1
        ],
        [
         "F45",
         1
        ],
        [
         "Dumb Truck",
         1
        ],
        [
         "VERZION VA",
         1
        ],
        [
         "NYC PARKS",
         1
        ],
        [
         "Psd",
         1
        ],
        [
         "CITYWIDE",
         1
        ],
        [
         "MDX",
         1
        ],
        [
         "POSTALVAN",
         1
        ],
        [
         "US POSTAL",
         1
        ],
        [
         "CI",
         1
        ],
        [
         "MACK DUMP",
         1
        ],
        [
         "RAM PRM",
         1
        ],
        [
         "FNDY EMS",
         1
        ],
        [
         "USPS DELIV",
         1
        ],
        [
         "REN",
         1
        ],
        [
         "TAC",
         1
        ],
        [
         "Rescue Tru",
         1
        ],
        [
         "Box",
         1
        ],
        [
         "U-HAUL TRU",
         1
        ],
        [
         "Grain",
         1
        ],
        [
         "Dot",
         1
        ],
        [
         "Passanger",
         1
        ],
        [
         "Car hauler",
         1
        ],
        [
         "TRAILER-VA",
         1
        ],
        [
         "FLEET",
         1
        ],
        [
         "10 Paaseng",
         1
        ],
        [
         "Tlc",
         1
        ],
        [
         "Landscapin",
         1
        ],
        [
         "MOTORSCOOT",
         1
        ],
        [
         "Access-A-R",
         1
        ],
        [
         "SAVANA",
         1
        ],
        [
         "cp",
         1
        ],
        [
         "Hino",
         1
        ],
        [
         "D1",
         1
        ],
        [
         "TRUCK CRAN",
         1
        ],
        [
         "Collection",
         1
        ],
        [
         "Mini van",
         1
        ],
        [
         "MOPPED",
         1
        ],
        [
         "SUBN/Van",
         1
        ],
        [
         "COT",
         1
        ],
        [
         "ESU",
         1
        ],
        [
         "Cmix",
         1
        ],
        [
         "R.M.P.",
         1
        ],
        [
         "LIMO VAN",
         1
        ],
        [
         "FORKLIFT T",
         1
        ],
        [
         "OML",
         1
        ],
        [
         "School van",
         1
        ],
        [
         "Dept Tow t",
         1
        ],
        [
         "SWEEPER TR",
         1
        ],
        [
         "PV HOLDING",
         1
        ],
        [
         "VAGON",
         1
        ],
        [
         "Nova",
         1
        ],
        [
         "263",
         1
        ],
        [
         "Trailer.",
         1
        ],
        [
         "VOLVO",
         1
        ],
        [
         "R/V",
         1
        ],
        [
         "food truck",
         1
        ],
        [
         "City Bus",
         1
        ],
        [
         "FDNYLadder",
         1
        ],
        [
         "Station Wa",
         1
        ],
        [
         "Supercab",
         1
        ],
        [
         "Kubota bac",
         1
        ],
        [
         "Fdny Ems T",
         1
        ],
        [
         "Ice cream",
         1
        ],
        [
         "EMS -BUS",
         1
        ],
        [
         "Yellow sch",
         1
        ],
        [
         "FDNY EMS#1",
         1
        ],
        [
         "COMM TRAIL",
         1
        ],
        [
         "RIV 2022",
         1
        ],
        [
         "delivery",
         1
        ],
        [
         "Usaa",
         1
        ],
        [
         "Omni Bus",
         1
        ],
        [
         "TRLR",
         1
        ],
        [
         "ATTECHMENT",
         1
        ],
        [
         "NYFD ambul",
         1
        ],
        [
         "Pedestrian",
         1
        ],
        [
         "HORSE TRAI",
         1
        ],
        [
         "U-Haul",
         1
        ],
        [
         "Ice Cream",
         1
        ],
        [
         "NYC MTA BU",
         1
        ],
        [
         "?Y? 06",
         1
        ],
        [
         "conv",
         1
        ],
        [
         "X TRL",
         1
        ],
        [
         "GOVERMENT",
         1
        ],
        [
         "SEMI TRUCK",
         1
        ],
        [
         "Gas Moped",
         1
        ],
        [
         "freightlin",
         1
        ],
        [
         "FDNY INSUR",
         1
        ],
        [
         "Ford EC2",
         1
        ],
        [
         "Postoffice",
         1
        ],
        [
         "TRUCK TRAC",
         1
        ],
        [
         "FLAT RACK",
         1
        ],
        [
         "FD Ambulan",
         1
        ],
        [
         "Gas Scoote",
         1
        ],
        [
         "FDNY EMS V",
         1
        ],
        [
         "Thomas",
         1
        ],
        [
         "van truck",
         1
        ],
        [
         "SELF-INSUR",
         1
        ],
        [
         "2",
         1
        ],
        [
         "trk",
         1
        ],
        [
         "Pick-up",
         1
        ],
        [
         "charter bu",
         1
        ],
        [
         "HINO MOTOR",
         1
        ]
       ],
       "datasetInfos": [],
       "dbfsResultPath": null,
       "isJsonSchema": true,
       "metadata": {},
       "overflow": false,
       "plotOptions": {
        "customPlotOptions": {},
        "displayType": "table",
        "pivotAggregation": null,
        "pivotColumns": null,
        "xColumns": null,
        "yColumns": null
       },
       "removedWidgets": [],
       "schema": [
        {
         "metadata": "{}",
         "name": "VEHICLE_TYPE",
         "type": "\"string\""
        },
        {
         "metadata": "{}",
         "name": "TOTAL_CRASHES",
         "type": "\"long\""
        }
       ],
       "type": "table"
      }
     },
     "output_type": "display_data"
    }
   ],
   "source": [
    "%sql\n",
    "SELECT \n",
    "    VEHICLE_TYPE, \n",
    "    COUNT(*) AS TOTAL_CRASHES\n",
    "FROM motor_vehicle_collisions\n",
    "GROUP BY VEHICLE_TYPE\n",
    "ORDER BY TOTAL_CRASHES DESC;\n"
   ]
  },
  {
   "cell_type": "code",
   "execution_count": 0,
   "metadata": {
    "application/vnd.databricks.v1+cell": {
     "cellMetadata": {
      "byteLimit": 2048000,
      "rowLimit": 10000
     },
     "inputWidgets": {},
     "nuid": "73dd76c3-7b29-49fd-b32a-045d44948265",
     "showTitle": false,
     "tableResultSettingsMap": {},
     "title": ""
    }
   },
   "outputs": [
    {
     "output_type": "display_data",
     "data": {
      "image/png": "[encoded data removed]"
     },
     "metadata": {
      "application/vnd.databricks.v1+output": {
       "addedWidgets": {},
       "arguments": {},
       "data": "data:image/png;base64,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\n",
       "datasetInfos": [],
       "metadata": {},
       "removedWidgets": [],
       "type": "image"
      }
     },
     "output_type": "display_data"
    }
   ],
   "source": [
    "import matplotlib.pyplot as plt\n",
    "\n",
    "# Aggregate crashes by Vehicle Type using PySpark\n",
    "vehicle_type_counts = (\n",
    "    df.groupBy(\"VEHICLE_TYPE\")\n",
    "    .count()\n",
    "    .orderBy(\"count\", ascending=False)\n",
    "    .limit(10)\n",
    "    .toPandas()\n",
    ")\n",
    "\n",
    "# Prepare data for scatter plot\n",
    "vehicle_types = vehicle_type_counts[\"VEHICLE_TYPE\"]\n",
    "crash_counts = vehicle_type_counts[\"count\"]\n",
    "\n",
    "# Scatter plot\n",
    "plt.figure(figsize=(10, 6))\n",
    "plt.scatter(vehicle_types, crash_counts, color='orange', s=100)  # `s` sets marker size\n",
    "plt.title('Top 10 Vehicle Types in Crashes')\n",
    "plt.xlabel('Vehicle Type')\n",
    "plt.ylabel('Number of Crashes')\n",
    "plt.xticks(rotation=45)  # Rotate x-axis labels for better visibility\n",
    "plt.grid(True)\n",
    "plt.show()\n"
   ]
  },
  {
   "cell_type": "code",
   "execution_count": 0,
   "metadata": {
    "application/vnd.databricks.v1+cell": {
     "cellMetadata": {
      "byteLimit": 2048000,
      "rowLimit": 10000
     },
     "inputWidgets": {},
     "nuid": "2201785c-31b2-4f1f-be23-833d18b7d2f5",
     "showTitle": false,
     "tableResultSettingsMap": {},
     "title": ""
    }
   },
   "outputs": [
    {
     "output_type": "display_data",
     "data": {
      "image/png": "[encoded data removed]"
     },
     "metadata": {
      "application/vnd.databricks.v1+output": {
       "addedWidgets": {},
       "arguments": {},
       "data": "data:image/png;base64,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\n",
       "datasetInfos": [],
       "metadata": {},
       "removedWidgets": [],
       "type": "image"
      }
     },
     "output_type": "display_data"
    }
   ],
   "source": [
    "# Step 1: Filter for Top 10 Vehicle Types\n",
    "top_vehicle_types = (\n",
    "    df_with_bins.groupBy(\"VEHICLE_TYPE\")\n",
    "    .count()\n",
    "    .orderBy(\"count\", ascending=False)\n",
    "    .limit(10)\n",
    "    .select(\"VEHICLE_TYPE\")\n",
    "    .rdd.flatMap(lambda x: x)\n",
    "    .collect()\n",
    ")\n",
    "\n",
    "# Filter the data for these top vehicle types\n",
    "filtered_df = df_with_bins.filter(col(\"VEHICLE_TYPE\").isin(top_vehicle_types))\n",
    "\n",
    "# Step 2: Aggregate and Pivot Data for Heatmap\n",
    "heatmap_data_spark = (\n",
    "    filtered_df.groupBy(\"VEHICLE_TYPE\", \"Occupant_Bin\")\n",
    "    .count()\n",
    "    .groupBy(\"VEHICLE_TYPE\")\n",
    "    .pivot(\"Occupant_Bin\")\n",
    "    .sum(\"count\")\n",
    "    .fillna(0)\n",
    ")\n",
    "\n",
    "# Convert to Pandas DataFrame\n",
    "heatmap_data = heatmap_data_spark.toPandas()\n",
    "\n",
    "# Set VEHICLE_TYPE as the index for the heatmap\n",
    "heatmap_data.set_index(\"VEHICLE_TYPE\", inplace=True)\n",
    "\n",
    "# Step 3: Plot the Heatmap\n",
    "plt.figure(figsize=(12, 8))\n",
    "sns.heatmap(\n",
    "    heatmap_data,\n",
    "    annot=True,\n",
    "    fmt='d',\n",
    "    cmap='Blues',\n",
    "    cbar_kws={'label': 'Crash Count'}\n",
    ")\n",
    "plt.title('Occupant Distribution by Top Vehicle Types')\n",
    "plt.xlabel('Number of Occupants (Binned)')\n",
    "plt.ylabel('Vehicle Type')\n",
    "plt.xticks(rotation=45)\n",
    "plt.yticks(rotation=0)\n",
    "plt.show()\n"
   ]
  },
  {
   "cell_type": "code",
   "execution_count": 0,
   "metadata": {
    "application/vnd.databricks.v1+cell": {
     "cellMetadata": {
      "byteLimit": 2048000,
      "rowLimit": 10000
     },
     "inputWidgets": {},
     "nuid": "3037a01b-278e-42af-9b0b-06d4280fd740",
     "showTitle": false,
     "tableResultSettingsMap": {},
     "title": ""
    }
   },
   "outputs": [],
   "source": [
    "from pyspark.sql.functions import year, month, count\n",
    "\n",
    "# Aggregate crashes by year and month\n",
    "df_with_date = df.withColumn(\"CRASH_YEAR\", year(\"CRASH_DATE\")).withColumn(\"CRASH_MONTH\", month(\"CRASH_DATE\"))\n",
    "monthly_crashes = (\n",
    "    df_with_date.groupBy(\"CRASH_YEAR\", \"CRASH_MONTH\")\n",
    "    .agg(count(\"*\").alias(\"TOTAL_CRASHES\"))\n",
    "    .orderBy(\"CRASH_YEAR\", \"CRASH_MONTH\")\n",
    ")\n",
    "\n",
    "# Convert to Pandas for time-series modeling\n",
    "monthly_crashes_pdf = monthly_crashes.toPandas()\n",
    "\n",
    "# Create a proper datetime column for time indexing\n",
    "monthly_crashes_pdf['CRASH_DATE'] = pd.to_datetime(\n",
    "    monthly_crashes_pdf['CRASH_YEAR'].astype(str) + '-' + monthly_crashes_pdf['CRASH_MONTH'].astype(str)\n",
    ")\n",
    "monthly_crashes_pdf = monthly_crashes_pdf.set_index('CRASH_DATE')\n",
    "monthly_crashes_pdf = monthly_crashes_pdf[['TOTAL_CRASHES']]  # Keep only relevant columns\n"
   ]
  },
  {
   "cell_type": "code",
   "execution_count": 0,
   "metadata": {
    "application/vnd.databricks.v1+cell": {
     "cellMetadata": {
      "byteLimit": 2048000,
      "rowLimit": 10000
     },
     "inputWidgets": {},
     "nuid": "4c9ee4dc-5de2-4429-a8b8-3cc4e84e5b77",
     "showTitle": false,
     "tableResultSettingsMap": {},
     "title": ""
    }
   },
   "outputs": [
    {
     "output_type": "stream",
     "name": "stderr",
     "output_type": "stream",
     "text": [
      "/databricks/python/lib/python3.9/site-packages/statsmodels/tsa/base/tsa_model.py:471: ValueWarning: No frequency information was provided, so inferred frequency MS will be used.\n  self._init_dates(dates, freq)\n/databricks/python/lib/python3.9/site-packages/statsmodels/tsa/base/tsa_model.py:471: ValueWarning: No frequency information was provided, so inferred frequency MS will be used.\n  self._init_dates(dates, freq)\n/databricks/python/lib/python3.9/site-packages/statsmodels/tsa/base/tsa_model.py:471: ValueWarning: No frequency information was provided, so inferred frequency MS will be used.\n  self._init_dates(dates, freq)\n"
     ]
    },
    {
     "output_type": "stream",
     "name": "stdout",
     "output_type": "stream",
     "text": [
      "                               SARIMAX Results                                \n==============================================================================\nDep. Variable:          TOTAL_CRASHES   No. Observations:                   58\nModel:                 ARIMA(1, 1, 1)   Log Likelihood                -512.371\nDate:                Mon, 18 Nov 2024   AIC                           1030.741\nTime:                        03:38:16   BIC                           1036.870\nSample:                    01-01-2020   HQIC                          1033.123\n                         - 10-01-2024                                         \nCovariance Type:                  opg                                         \n==============================================================================\n                 coef    std err          z      P>|z|      [0.025      0.975]\n------------------------------------------------------------------------------\nar.L1         -0.9993      0.025    -40.493      0.000      -1.048      -0.951\nma.L1          0.9947      0.102      9.745      0.000       0.795       1.195\nsigma2      3.724e+06   2.22e-08   1.68e+14      0.000    3.72e+06    3.72e+06\n===================================================================================\nLjung-Box (L1) (Q):                   1.24   Jarque-Bera (JB):               551.13\nProb(Q):                              0.26   Prob(JB):                         0.00\nHeteroskedasticity (H):               0.31   Skew:                            -3.28\nProb(H) (two-sided):                  0.01   Kurtosis:                        16.75\n===================================================================================\n\nWarnings:\n[1] Covariance matrix calculated using the outer product of gradients (complex-step).\n[2] Covariance matrix is singular or near-singular, with condition number 1.69e+32. Standard errors may be unstable.\n"
     ]
    },
    {
     "output_type": "display_data",
     "data": {
      "image/png": "[encoded data removed]"
     },
     "metadata": {
      "application/vnd.databricks.v1+output": {
       "addedWidgets": {},
       "arguments": {},
       "data": "data:image/png;base64,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\n",
       "datasetInfos": [],
       "metadata": {},
       "removedWidgets": [],
       "type": "image"
      }
     },
     "output_type": "display_data"
    }
   ],
   "source": [
    "from statsmodels.tsa.arima.model import ARIMA\n",
    "import matplotlib.pyplot as plt\n",
    "\n",
    "# Configure ARIMA model (Adjust order for best performance)\n",
    "arima_model = ARIMA(monthly_crashes_pdf['TOTAL_CRASHES'], order=(1, 1, 1))  # p, d, q\n",
    "arima_result = arima_model.fit()\n",
    "\n",
    "# Print model summary\n",
    "print(arima_result.summary())\n",
    "\n",
    "# Forecast for the next 12 months\n",
    "forecast_steps = 12\n",
    "forecast = arima_result.forecast(steps=forecast_steps)\n",
    "\n",
    "# Plot observed data and forecast\n",
    "plt.figure(figsize=(12, 6))\n",
    "plt.plot(monthly_crashes_pdf['TOTAL_CRASHES'], label='Observed', color='blue')\n",
    "plt.plot(forecast.index, forecast.values, label='Forecast', color='red', linestyle='--')\n",
    "plt.title('Monthly Crash Forecast')\n",
    "plt.xlabel('Date')\n",
    "plt.ylabel('Total Crashes')\n",
    "plt.legend()\n",
    "plt.grid(True)\n",
    "plt.show()\n"
   ]
  },
  {
   "cell_type": "code",
   "execution_count": 0,
   "metadata": {
    "application/vnd.databricks.v1+cell": {
     "cellMetadata": {
      "byteLimit": 2048000,
      "rowLimit": 10000
     },
     "inputWidgets": {},
     "nuid": "da68ddb8-a860-4990-b65e-40efc1eadfe2",
     "showTitle": false,
     "tableResultSettingsMap": {},
     "title": ""
    }
   },
   "outputs": [
    {
     "output_type": "stream",
     "name": "stdout",
     "output_type": "stream",
     "text": [
      "MAE: 1733.1550199009373\nRMSE: 2555.4719208682345\nMAPE: 49.272291947739184%\n"
     ]
    },
    {
     "output_type": "stream",
     "name": "stderr",
     "output_type": "stream",
     "text": [
      "/databricks/python/lib/python3.9/site-packages/statsmodels/tsa/base/tsa_model.py:471: ValueWarning: No frequency information was provided, so inferred frequency MS will be used.\n  self._init_dates(dates, freq)\n/databricks/python/lib/python3.9/site-packages/statsmodels/tsa/base/tsa_model.py:471: ValueWarning: No frequency information was provided, so inferred frequency MS will be used.\n  self._init_dates(dates, freq)\n/databricks/python/lib/python3.9/site-packages/statsmodels/tsa/base/tsa_model.py:471: ValueWarning: No frequency information was provided, so inferred frequency MS will be used.\n  self._init_dates(dates, freq)\n"
     ]
    }
   ],
   "source": [
    "from sklearn.metrics import mean_absolute_error, mean_squared_error\n",
    "import numpy as np\n",
    "\n",
    "# Split data for validation (last 12 months for testing)\n",
    "train = monthly_crashes_pdf[:-12]\n",
    "test = monthly_crashes_pdf[-12:]\n",
    "\n",
    "# Train ARIMA model on train data\n",
    "arima_model_train = ARIMA(train['TOTAL_CRASHES'], order=(1, 1, 1))\n",
    "arima_result_train = arima_model_train.fit()\n",
    "\n",
    "# Predict on the test set\n",
    "predicted = arima_result_train.forecast(steps=len(test))\n",
    "\n",
    "# Calculate performance metrics\n",
    "mae = mean_absolute_error(test['TOTAL_CRASHES'], predicted)\n",
    "rmse = np.sqrt(mean_squared_error(test['TOTAL_CRASHES'], predicted))\n",
    "mape = np.mean(np.abs((test['TOTAL_CRASHES'] - predicted) / test['TOTAL_CRASHES'])) * 100\n",
    "\n",
    "print(f\"MAE: {mae}\")\n",
    "print(f\"RMSE: {rmse}\")\n",
    "print(f\"MAPE: {mape}%\")\n"
   ]
  },
  {
   "cell_type": "code",
   "execution_count": 0,
   "metadata": {
    "application/vnd.databricks.v1+cell": {
     "cellMetadata": {
      "byteLimit": 2048000,
      "rowLimit": 10000
     },
     "inputWidgets": {},
     "nuid": "83fc1a70-f17b-49ca-bee7-bf7a3e6d6628",
     "showTitle": false,
     "tableResultSettingsMap": {},
     "title": ""
    }
   },
   "outputs": [],
   "source": [
    "from pyspark.sql.functions import hour, when\n",
    "\n",
    "# Extract hour from CRASH_TIME and categorize into time of day\n",
    "df = df.withColumn(\"CRASH_HOUR\", hour(\"CRASH_TIME\"))\n",
    "df = df.withColumn(\n",
    "    \"TIME_OF_DAY\",\n",
    "    when((df.CRASH_HOUR >= 6) & (df.CRASH_HOUR < 12), \"Morning\")\n",
    "    .when((df.CRASH_HOUR >= 12) & (df.CRASH_HOUR < 18), \"Afternoon\")\n",
    "    .when((df.CRASH_HOUR >= 18) & (df.CRASH_HOUR < 24), \"Evening\")\n",
    "    .otherwise(\"Night\")\n",
    ")\n"
   ]
  },
  {
   "cell_type": "code",
   "execution_count": 0,
   "metadata": {
    "application/vnd.databricks.v1+cell": {
     "cellMetadata": {},
     "inputWidgets": {},
     "nuid": "dde91984-7115-4610-a89d-b9d3931224c2",
     "showTitle": false,
     "tableResultSettingsMap": {},
     "title": ""
    }
   },
   "outputs": [],
   "source": []
  },
  {
   "cell_type": "code",
   "execution_count": 0,
   "metadata": {
    "application/vnd.databricks.v1+cell": {
     "cellMetadata": {},
     "inputWidgets": {},
     "nuid": "ce124687-ad25-471c-9fe1-504cc5f4adde",
     "showTitle": false,
     "tableResultSettingsMap": {},
     "title": ""
    }
   },
   "outputs": [],
   "source": []
  },
  {
   "cell_type": "code",
   "execution_count": 0,
   "metadata": {
    "application/vnd.databricks.v1+cell": {
     "cellMetadata": {},
     "inputWidgets": {},
     "nuid": "391d83df-3322-463c-b52d-bfdee4a896c5",
     "showTitle": false,
     "tableResultSettingsMap": {},
     "title": ""
    }
   },
   "outputs": [],
   "source": []
  },
  {
   "cell_type": "code",
   "execution_count": 0,
   "metadata": {
    "application/vnd.databricks.v1+cell": {
     "cellMetadata": {},
     "inputWidgets": {},
     "nuid": "95ce3f56-f811-48ba-b01d-0e9bf86b96a7",
     "showTitle": false,
     "tableResultSettingsMap": {},
     "title": ""
    }
   },
   "outputs": [],
   "source": []
  },
  {
   "cell_type": "code",
   "execution_count": 0,
   "metadata": {
    "application/vnd.databricks.v1+cell": {
     "cellMetadata": {},
     "inputWidgets": {},
     "nuid": "4ea4090a-709d-4035-97e0-c5b70388661d",
     "showTitle": false,
     "tableResultSettingsMap": {},
     "title": ""
    }
   },
   "outputs": [],
   "source": []
  },
  {
   "cell_type": "code",
   "execution_count": 0,
   "metadata": {
    "application/vnd.databricks.v1+cell": {
     "cellMetadata": {},
     "inputWidgets": {},
     "nuid": "f9755d95-bec0-4d67-ba0e-12eb69c0668f",
     "showTitle": false,
     "tableResultSettingsMap": {},
     "title": ""
    }
   },
   "outputs": [],
   "source": []
  },
  {
   "cell_type": "code",
   "execution_count": 0,
   "metadata": {
    "application/vnd.databricks.v1+cell": {
     "cellMetadata": {},
     "inputWidgets": {},
     "nuid": "c4afab51-12e6-4fef-8562-480c2e4b02cb",
     "showTitle": false,
     "tableResultSettingsMap": {},
     "title": ""
    }
   },
   "outputs": [],
   "source": []
  },
  {
   "cell_type": "code",
   "execution_count": 0,
   "metadata": {
    "application/vnd.databricks.v1+cell": {
     "cellMetadata": {},
     "inputWidgets": {},
     "nuid": "4acb0184-7032-4569-b4c9-c8ae1a6de336",
     "showTitle": false,
     "tableResultSettingsMap": {},
     "title": ""
    }
   },
   "outputs": [],
   "source": []
  },
  {
   "cell_type": "code",
   "execution_count": 0,
   "metadata": {
    "application/vnd.databricks.v1+cell": {
     "cellMetadata": {},
     "inputWidgets": {},
     "nuid": "56919d5c-5d39-45f8-8146-50a19d62f20c",
     "showTitle": false,
     "tableResultSettingsMap": {},
     "title": ""
    }
   },
   "outputs": [],
   "source": []
  },
  {
   "cell_type": "code",
   "execution_count": 0,
   "metadata": {
    "application/vnd.databricks.v1+cell": {
     "cellMetadata": {},
     "inputWidgets": {},
     "nuid": "32f4f325-1e3a-43f3-beb4-438ff2657afd",
     "showTitle": false,
     "tableResultSettingsMap": {},
     "title": ""
    }
   },
   "outputs": [],
   "source": []
  },
  {
   "cell_type": "code",
   "execution_count": 0,
   "metadata": {
    "application/vnd.databricks.v1+cell": {
     "cellMetadata": {},
     "inputWidgets": {},
     "nuid": "87c9c74a-62c6-4d7b-92f6-d9be46a7d424",
     "showTitle": false,
     "tableResultSettingsMap": {},
     "title": ""
    }
   },
   "outputs": [],
   "source": []
  },
  {
   "cell_type": "code",
   "execution_count": 0,
   "metadata": {
    "application/vnd.databricks.v1+cell": {
     "cellMetadata": {},
     "inputWidgets": {},
     "nuid": "3212ffb5-d6d6-4c9c-82c9-a7e457aad26e",
     "showTitle": false,
     "tableResultSettingsMap": {},
     "title": ""
    }
   },
   "outputs": [],
   "source": []
  }
 ],
 "metadata": {
  "application/vnd.databricks.v1+notebook": {
   "computePreferences": null,
   "dashboards": [],
   "environmentMetadata": null,
   "language": "python",
   "notebookMetadata": {
    "mostRecentlyExecutedCommandWithImplicitDF": {
     "commandId": 3308136697089616,
     "dataframes": [
      "_sqldf"
     ]
    },
    "pythonIndentUnit": 2
   },
   "notebookName": "AIT 664- project update 2",
   "widgets": {}
  }
 },
 "nbformat": 4,
 "nbformat_minor": 0
}
